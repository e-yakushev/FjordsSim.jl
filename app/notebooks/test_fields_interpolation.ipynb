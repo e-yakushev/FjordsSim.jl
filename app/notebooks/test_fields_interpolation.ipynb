{
 "cells": [
  {
   "cell_type": "code",
   "execution_count": 10,
   "id": "0680ae69-7b2d-40ad-a78d-3ffcde340c0b",
   "metadata": {},
   "outputs": [
    {
     "name": "stderr",
     "output_type": "stream",
     "text": [
      "WARNING: replacing module ForcingInput.\n",
      "WARNING: ignoring conflicting import of ForcingInput.read_TSU_forcing into Main\n"
     ]
    }
   ],
   "source": [
    "using Oceananigans.Fields\n",
    "using Oceananigans\n",
    "using Oceananigans.Units\n",
    "\n",
    "include(\"../../src/ForcingInput.jl\")\n",
    "using .ForcingInput: read_TSU_forcing"
   ]
  },
  {
   "cell_type": "code",
   "execution_count": 63,
   "id": "e018b4d4-b3cf-496a-8bd3-c0e4b2672545",
   "metadata": {},
   "outputs": [
    {
     "data": {
      "text/plain": [
       "(Union{Missing, Float32}[8.403884f0 8.412265f0 … 8.589283f0 8.517087f0; 8.405998f0 8.414938f0 … 8.586062f0 8.517047f0; … ; 8.124199f0 8.219128f0 … 8.679737f0 8.4134f0; 8.134946f0 8.231119f0 … 8.682418f0 8.412623f0], Union{Missing, Float32}[17.40411f0 17.406748f0 … 18.515783f0 18.67874f0; 17.418406f0 17.420948f0 … 18.48474f0 18.640926f0; … ; 16.616554f0 16.671526f0 … 17.700737f0 18.047222f0; 16.62622f0 16.680447f0 … 17.701225f0 18.046604f0], Union{Missing, Float32}[-0.47185248f0 -0.45773518f0 … -0.18639281f0 -0.10715632f0; -0.46346697f0 -0.45018214f0 … -0.18671347f0 -0.10915859f0; … ; -0.10237209f0 -0.085312694f0 … -0.0439577f0 -0.036584575f0; -0.10395701f0 -0.08566993f0 … -0.044303503f0 -0.03611015f0], Union{Missing, Float32}[-2.5010786f0, -7.5111933f0, -12.536196f0, -17.583405f0, -22.663736f0, -27.793465f0, -32.996857f0, -38.310074f0, -43.786976f0, -49.50773f0, -55.591507f0, -62.215195f0, -69.64064f0], Union{Missing, Float32}[1.0413792f9, 1.0413828f9, 1.0413864f9, 1.04138995f9, 1.04139354f9, 1.0413972f9, 1.04140077f9, 1.04140435f9, 1.04140794f9, 1.0414115f9  …  1.0728829f9, 1.07288646f9, 1.07289005f9, 1.07289363f9, 1.0728972f9, 1.07290086f9, 1.07290445f9, 1.072908f9, 1.0729116f9, 1.0729152f9])"
      ]
     },
     "execution_count": 63,
     "metadata": {},
     "output_type": "execute_result"
    }
   ],
   "source": [
    "filename = \"../varna/Varna_brom.nc\"\n",
    "T, S, U, depth, time = read_TSU_forcing(filename)"
   ]
  },
  {
   "cell_type": "code",
   "execution_count": 77,
   "id": "e77268c6-d581-4c6d-a685-8069733aa044",
   "metadata": {},
   "outputs": [
    {
     "data": {
      "text/plain": [
       "8784×13 Matrix{Union{Missing, Float32}}:\n",
       " 8.40388  8.41226  8.47578  8.55583  …  8.77691  8.71687  8.58928  8.51709\n",
       " 8.406    8.41494  8.47639  8.55351     8.7658   8.70827  8.58606  8.51705\n",
       " 8.40811  8.41761  8.47701  8.55118     8.7547   8.69968  8.58284  8.51701\n",
       " 8.41023  8.42028  8.47763  8.54886     8.74359  8.69108  8.57962  8.51697\n",
       " 8.41234  8.42296  8.47825  8.54654     8.73248  8.68249  8.5764   8.51693\n",
       " 8.41445  8.42563  8.47886  8.54421  …  8.72138  8.67389  8.57318  8.51689\n",
       " 8.41657  8.4283   8.47948  8.54189     8.71027  8.66529  8.56996  8.51685\n",
       " 8.41868  8.43097  8.4801   8.53957     8.69917  8.6567   8.56674  8.51681\n",
       " 8.4208   8.43365  8.48072  8.53724     8.68806  8.6481   8.56352  8.51677\n",
       " 8.42291  8.43632  8.48133  8.53492     8.67695  8.63951  8.5603   8.51673\n",
       " 8.42502  8.43899  8.48195  8.5326   …  8.66585  8.63091  8.55707  8.51669\n",
       " 8.42714  8.44166  8.48257  8.53028     8.65474  8.62232  8.55385  8.51665\n",
       " 8.42925  8.44434  8.48319  8.52795     8.64363  8.61372  8.55063  8.51661\n",
       " ⋮                                   ⋱           ⋮                 \n",
       " 8.01673  8.09921  8.36353  8.52972     8.7512   8.78054  8.65293  8.42116\n",
       " 8.02748  8.1112   8.37212  8.53507     8.76412  8.78963  8.65561  8.42038\n",
       " 8.03823  8.12319  8.38071  8.54041     8.77705  8.79871  8.65829  8.41961\n",
       " 8.04897  8.13519  8.3893   8.54576  …  8.78996  8.8078   8.66097  8.41883\n",
       " 8.05972  8.14718  8.39789  8.55111     8.80289  8.81688  8.66365  8.41805\n",
       " 8.07047  8.15917  8.40648  8.55646     8.8158   8.82597  8.66633  8.41728\n",
       " 8.08121  8.17116  8.41507  8.56181     8.82872  8.83505  8.66901  8.4165\n",
       " 8.09196  8.18315  8.42366  8.56715     8.84165  8.84414  8.6717   8.41573\n",
       " 8.10271  8.19514  8.43225  8.5725   …  8.85456  8.85322  8.67438  8.41495\n",
       " 8.11345  8.20714  8.44085  8.57785     8.86749  8.86231  8.67706  8.41418\n",
       " 8.1242   8.21913  8.44944  8.5832      8.8804   8.8714   8.67974  8.4134\n",
       " 8.13495  8.23112  8.45803  8.58854     8.89332  8.88048  8.68242  8.41262"
      ]
     },
     "execution_count": 77,
     "metadata": {},
     "output_type": "execute_result"
    }
   ],
   "source": [
    "T"
   ]
  },
  {
   "cell_type": "code",
   "execution_count": 64,
   "id": "25e9df33-bf5c-4101-9432-af4b50b3d12b",
   "metadata": {},
   "outputs": [
    {
     "data": {
      "text/plain": [
       "13-element Vector{Union{Missing, Float32}}:\n",
       "  -2.5010786f0\n",
       "  -7.5111933f0\n",
       " -12.536196f0\n",
       " -17.583405f0\n",
       " -22.663736f0\n",
       " -27.793465f0\n",
       " -32.996857f0\n",
       " -38.310074f0\n",
       " -43.786976f0\n",
       " -49.50773f0\n",
       " -55.591507f0\n",
       " -62.215195f0\n",
       " -69.64064f0"
      ]
     },
     "execution_count": 64,
     "metadata": {},
     "output_type": "execute_result"
    }
   ],
   "source": [
    "depth"
   ]
  },
  {
   "cell_type": "code",
   "execution_count": 68,
   "id": "3150da11-7434-49bc-bff5-94676c599fb9",
   "metadata": {},
   "outputs": [
    {
     "data": {
      "text/plain": [
       "14-element Vector{Float64}:\n",
       "  -0.0010786056518554688\n",
       "  -5.01119327545166\n",
       " -10.036195755004883\n",
       " -15.083404541015625\n",
       " -20.16373634338379\n",
       " -25.29346466064453\n",
       " -30.496856689453125\n",
       " -35.81007385253906\n",
       " -41.2869758605957\n",
       " -47.007728576660156\n",
       " -53.09150695800781\n",
       " -59.71519470214844\n",
       " -67.14064025878906\n",
       " -72.14064025878906"
      ]
     },
     "execution_count": 68,
     "metadata": {},
     "output_type": "execute_result"
    }
   ],
   "source": [
    "z_faces = push!(depth .+ 2.5, depth[end] - 2.5)"
   ]
  },
  {
   "cell_type": "code",
   "execution_count": 69,
   "id": "619d72c3-cd59-4a27-9764-4115f1b10dfd",
   "metadata": {},
   "outputs": [
    {
     "data": {
      "text/plain": [
       "1×1×13 RectilinearGrid{Float64, Bounded, Bounded, Bounded} on CPU with 1×1×3 halo\n",
       "├── Bounded  x ∈ [0.0, 500.0]            regularly spaced with Δx=500.0\n",
       "├── Bounded  y ∈ [0.0, 500.0]            regularly spaced with Δy=500.0\n",
       "└── Bounded  z ∈ [-72.1406, -0.00107861] variably spaced with min(Δz)=5.0, max(Δz)=7.42545"
      ]
     },
     "execution_count": 69,
     "metadata": {},
     "output_type": "execute_result"
    }
   ],
   "source": [
    "input_grid = RectilinearGrid(size = (1, 1, 13), x = (0,500meters), y=(0,500meters), z=reverse(z_faces),\n",
    "    topology = (Bounded, Bounded, Bounded))"
   ]
  },
  {
   "cell_type": "code",
   "execution_count": 70,
   "id": "6e2628d3-37e7-4305-9090-19bfe59cee6e",
   "metadata": {},
   "outputs": [
    {
     "data": {
      "text/plain": [
       "1×1×13 Field{Center, Center, Center} on RectilinearGrid on CPU\n",
       "├── grid: 1×1×13 RectilinearGrid{Float64, Bounded, Bounded, Bounded} on CPU with 1×1×3 halo\n",
       "├── boundary conditions: FieldBoundaryConditions\n",
       "│   └── west: ZeroFlux, east: ZeroFlux, south: ZeroFlux, north: ZeroFlux, bottom: ZeroFlux, top: ZeroFlux, immersed: ZeroFlux\n",
       "└── data: 3×3×19 OffsetArray(::Array{Float64, 3}, 0:2, 0:2, -2:16) with eltype Float64 with indices 0:2×0:2×-2:16\n",
       "    └── max=0.0, min=0.0, mean=0.0"
      ]
     },
     "execution_count": 70,
     "metadata": {},
     "output_type": "execute_result"
    }
   ],
   "source": [
    "input_field = CenterField(input_grid)"
   ]
  },
  {
   "cell_type": "code",
   "execution_count": 72,
   "id": "8c21b77c-267b-4414-8176-4791604816da",
   "metadata": {},
   "outputs": [
    {
     "data": {
      "text/plain": [
       "13-element Vector{Union{Missing, Float32}}:\n",
       " 8.403884f0\n",
       " 8.412265f0\n",
       " 8.475776f0\n",
       " 8.55583f0\n",
       " 8.604155f0\n",
       " 8.644039f0\n",
       " 8.691612f0\n",
       " 8.74625f0\n",
       " 8.800268f0\n",
       " 8.776908f0\n",
       " 8.716869f0\n",
       " 8.589283f0\n",
       " 8.517087f0"
      ]
     },
     "execution_count": 72,
     "metadata": {},
     "output_type": "execute_result"
    }
   ],
   "source": [
    "input_field[1,1,1:13] = T[1,:]"
   ]
  },
  {
   "cell_type": "code",
   "execution_count": 79,
   "id": "2aaf2d42-42f7-442f-ba70-c23c96459001",
   "metadata": {},
   "outputs": [
    {
     "data": {
      "text/plain": [
       "13"
      ]
     },
     "execution_count": 79,
     "metadata": {},
     "output_type": "execute_result"
    }
   ],
   "source": [
    "input_grid.Nz"
   ]
  },
  {
   "cell_type": "code",
   "execution_count": 73,
   "id": "f25be696-2b19-4d87-9e33-17bd9894bf4d",
   "metadata": {},
   "outputs": [
    {
     "data": {
      "text/plain": [
       "1×1×10 Field{Center, Center, Center} on RectilinearGrid on CPU\n",
       "├── grid: 1×1×10 RectilinearGrid{Float64, Bounded, Bounded, Bounded} on CPU with 1×1×3 halo\n",
       "├── boundary conditions: FieldBoundaryConditions\n",
       "│   └── west: ZeroFlux, east: ZeroFlux, south: ZeroFlux, north: ZeroFlux, bottom: ZeroFlux, top: ZeroFlux, immersed: ZeroFlux\n",
       "└── data: 3×3×16 OffsetArray(::Array{Float64, 3}, 0:2, 0:2, -2:13) with eltype Float64 with indices 0:2×0:2×-2:13\n",
       "    └── max=0.0, min=0.0, mean=0.0"
      ]
     },
     "execution_count": 73,
     "metadata": {},
     "output_type": "execute_result"
    }
   ],
   "source": [
    "output_grid = RectilinearGrid(size = (1, 1, 10), extent = (500meters, 500meters, 68meters), topology = (Bounded, Bounded, Bounded))\n",
    "output_field = CenterField(output_grid)"
   ]
  },
  {
   "cell_type": "code",
   "execution_count": 74,
   "id": "adcc7e30-a15c-476a-851c-c2a25874c987",
   "metadata": {},
   "outputs": [
    {
     "data": {
      "text/plain": [
       "1×1×10 Field{Center, Center, Center} on RectilinearGrid on CPU\n",
       "├── grid: 1×1×10 RectilinearGrid{Float64, Bounded, Bounded, Bounded} on CPU with 1×1×3 halo\n",
       "├── boundary conditions: FieldBoundaryConditions\n",
       "│   └── west: ZeroFlux, east: ZeroFlux, south: ZeroFlux, north: ZeroFlux, bottom: ZeroFlux, top: ZeroFlux, immersed: ZeroFlux\n",
       "└── data: 3×3×16 OffsetArray(::Array{Float64, 3}, 0:2, 0:2, -2:13) with eltype Float64 with indices 0:2×0:2×-2:13\n",
       "    └── max=8.78512, min=8.41121, mean=8.61318"
      ]
     },
     "execution_count": 74,
     "metadata": {},
     "output_type": "execute_result"
    }
   ],
   "source": [
    "regrid!(output_field, input_field)"
   ]
  },
  {
   "cell_type": "code",
   "execution_count": 75,
   "id": "3c1e6232-c49d-4981-b196-b9ed8873f8d3",
   "metadata": {},
   "outputs": [
    {
     "data": {
      "text/plain": [
       "19-element OffsetArray(::Vector{Float64}, -2:16) with eltype Float64 with indices -2:16:\n",
       " 0.0\n",
       " 0.0\n",
       " 0.0\n",
       " 8.403883934020996\n",
       " 8.412264823913574\n",
       " 8.475775718688965\n",
       " 8.555830001831055\n",
       " 8.604154586791992\n",
       " 8.644039154052734\n",
       " 8.691612243652344\n",
       " 8.74625015258789\n",
       " 8.800268173217773\n",
       " 8.776907920837402\n",
       " 8.716869354248047\n",
       " 8.589282989501953\n",
       " 8.51708698272705\n",
       " 0.0\n",
       " 0.0\n",
       " 0.0"
      ]
     },
     "execution_count": 75,
     "metadata": {},
     "output_type": "execute_result"
    }
   ],
   "source": [
    "input_field[1,1,:]"
   ]
  },
  {
   "cell_type": "code",
   "execution_count": 76,
   "id": "5b61862e-d1a6-4191-aa0e-7eebc3fdee86",
   "metadata": {},
   "outputs": [
    {
     "data": {
      "text/plain": [
       "16-element OffsetArray(::Vector{Float64}, -2:13) with eltype Float64 with indices -2:13:\n",
       " 0.0\n",
       " 0.0\n",
       " 0.0\n",
       " 8.411205676947512\n",
       " 8.461907878536943\n",
       " 8.540425520585007\n",
       " 8.602801873666875\n",
       " 8.656702507812842\n",
       " 8.718102443001152\n",
       " 8.78512298714529\n",
       " 8.76462228794507\n",
       " 8.656149581896898\n",
       " 8.534727883351692\n",
       " 0.0\n",
       " 0.0\n",
       " 0.0"
      ]
     },
     "execution_count": 76,
     "metadata": {},
     "output_type": "execute_result"
    }
   ],
   "source": [
    "output_field[1,1,:]"
   ]
  },
  {
   "cell_type": "code",
   "execution_count": null,
   "id": "283556dc-5526-4554-8490-12531071673c",
   "metadata": {},
   "outputs": [],
   "source": []
  }
 ],
 "metadata": {
  "kernelspec": {
   "display_name": "Julia 1.10.4",
   "language": "julia",
   "name": "julia-1.10"
  },
  "language_info": {
   "file_extension": ".jl",
   "mimetype": "application/julia",
   "name": "julia",
   "version": "1.10.4"
  }
 },
 "nbformat": 4,
 "nbformat_minor": 5
}
