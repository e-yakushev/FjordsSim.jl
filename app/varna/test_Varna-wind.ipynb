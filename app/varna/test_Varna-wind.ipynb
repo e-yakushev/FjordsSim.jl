{
 "cells": [
  {
   "cell_type": "code",
   "execution_count": 1,
   "id": "983b671f-1b5c-4163-b9dd-2ec667be73f4",
   "metadata": {
    "scrolled": true
   },
   "outputs": [],
   "source": [
    "using NCDatasets"
   ]
  },
  {
   "cell_type": "code",
   "execution_count": 2,
   "id": "065cf659-e23b-408d-be48-57c77fb35c79",
   "metadata": {},
   "outputs": [],
   "source": [
    "using CairoMakie"
   ]
  },
  {
   "cell_type": "code",
   "execution_count": 3,
   "id": "b59eabed-ba82-473b-9015-888a0b599d0a",
   "metadata": {},
   "outputs": [],
   "source": [
    "using OceanBioME, Oceananigans, Printf\n",
    "using OceanBioME: Boundaries, GasExchange\n",
    "using OceanBioME.Boundaries.Sediments: sinking_flux\n",
    "using OceanBioME.SLatissimaModel: SLatissima\n",
    "using Oceananigans.Fields: FunctionField, ConstantField\n",
    "using Oceananigans.Units\n",
    "using JLD2\n",
    "\n",
    "import Oceananigans.Biogeochemistry: update_tendencies!\n",
    "import Oceananigans.Biogeochemistry: required_biogeochemical_tracers,\n",
    "                                     required_biogeochemical_auxiliary_fields,\n",
    "                                     biogeochemical_drift_velocity"
   ]
  },
  {
   "cell_type": "code",
   "execution_count": 4,
   "id": "07c6cd82-5938-4f3c-85e2-1ebaac295711",
   "metadata": {},
   "outputs": [],
   "source": [
    "using Oceananigans.Forcings"
   ]
  },
  {
   "cell_type": "code",
   "execution_count": 5,
   "id": "a34e5b74-bf35-4b36-a618-bcfde872d1d4",
   "metadata": {},
   "outputs": [],
   "source": [
    "using Oceananigans: architecture"
   ]
  },
  {
   "cell_type": "code",
   "execution_count": 6,
   "id": "e9e37fe2-24f3-4459-8e92-c7d1095c4ec2",
   "metadata": {},
   "outputs": [],
   "source": [
    "using DelimitedFiles, FileIO"
   ]
  },
  {
   "cell_type": "code",
   "execution_count": 7,
   "id": "301dbf99-221a-45c0-8c69-3c558bf321ca",
   "metadata": {},
   "outputs": [],
   "source": [
    "using Oceananigans.Operators: ℑxyᶠᶜᵃ, ℑxyᶜᶠᵃ\n",
    "using Oceananigans.Operators: Δzᵃᵃᶜ"
   ]
  },
  {
   "cell_type": "code",
   "execution_count": 8,
   "id": "b37bb4c2-141e-4c9f-b517-ce0680c533d8",
   "metadata": {},
   "outputs": [],
   "source": [
    "using Statistics\n",
    "using SeawaterPolynomials.TEOS10: TEOS10EquationOfState\n",
    "using CUDA: @allowscalar"
   ]
  },
  {
   "cell_type": "code",
   "execution_count": 9,
   "id": "49da2e11-397b-4e87-8be4-4ea815492c32",
   "metadata": {},
   "outputs": [],
   "source": [
    "using Interpolations"
   ]
  },
  {
   "cell_type": "code",
   "execution_count": 10,
   "id": "f34577ad-30e7-4ee4-9d2c-44d5fb316b17",
   "metadata": {},
   "outputs": [],
   "source": [
    "using CSV, DataFrames"
   ]
  },
  {
   "cell_type": "markdown",
   "id": "a6f2d3ee-af57-4da4-9b33-4ea48a6d0760",
   "metadata": {},
   "source": [
    "# TODO"
   ]
  },
  {
   "cell_type": "markdown",
   "id": "2eced44c-21ed-42a1-8856-9284d45aab7a",
   "metadata": {},
   "source": [
    "### General\n",
    "- make on GPU\n",
    "- read INI, BRY and forcings from netcdf\n",
    "- write output to netcdf\n",
    "- add sea domain\n",
    "- TimeStepWizard (problems with stability)\n",
    "- Checkpointer\n",
    "### Rivers\n",
    "- add NUT and DOM supply from the river (+ contaminant)\n",
    "- add level forcing from the river\n",
    "- adjust the discharge\n",
    "### Open boundary\n",
    "- read from netcdf\n",
    "- need T, S, velocities from Black Sea\n",
    "### Atmosphere\n",
    "- heat flux\n",
    "- precipitation\n",
    "### BGC\n",
    "- add contaminant\n",
    "### INI\n",
    "- adjust initial conditions to literature"
   ]
  },
  {
   "cell_type": "code",
   "execution_count": 11,
   "id": "8d6a958b-916d-498a-8719-c7ee654a376d",
   "metadata": {},
   "outputs": [
    {
     "data": {
      "text/plain": [
       "CPU()"
      ]
     },
     "execution_count": 11,
     "metadata": {},
     "output_type": "execute_result"
    }
   ],
   "source": [
    "arch = CPU()"
   ]
  },
  {
   "cell_type": "code",
   "execution_count": 12,
   "id": "50d84fab-5a72-41b0-bda2-fc8253c47079",
   "metadata": {},
   "outputs": [
    {
     "data": {
      "text/plain": [
       "1800.0"
      ]
     },
     "execution_count": 12,
     "metadata": {},
     "output_type": "execute_result"
    }
   ],
   "source": [
    "save_interval = 30minutes"
   ]
  },
  {
   "cell_type": "markdown",
   "id": "dbb427a7-1016-4c95-ac14-b87f6cc6cb54",
   "metadata": {},
   "source": [
    "# Grid"
   ]
  },
  {
   "cell_type": "markdown",
   "id": "549f8909-08e9-4be9-883e-a5a7dedef1d4",
   "metadata": {},
   "source": [
    "## define z-levels (faces and center points)"
   ]
  },
  {
   "cell_type": "code",
   "execution_count": 14,
   "id": "73572474-c48c-40aa-93da-388008797827",
   "metadata": {
    "scrolled": true
   },
   "outputs": [
    {
     "data": {
      "text/plain": [
       "20-element Vector{Float64}:\n",
       " -19.5\n",
       " -18.5\n",
       " -17.5\n",
       " -16.5\n",
       " -15.5\n",
       " -14.5\n",
       " -13.5\n",
       " -12.5\n",
       " -11.5\n",
       " -10.5\n",
       "  -9.5\n",
       "  -8.5\n",
       "  -7.5\n",
       "  -6.5\n",
       "  -5.5\n",
       "  -4.5\n",
       "  -3.5\n",
       "  -2.5\n",
       "  -1.5\n",
       "  -0.5"
      ]
     },
     "execution_count": 14,
     "metadata": {},
     "output_type": "execute_result"
    }
   ],
   "source": [
    "# z_levels = stretched_vertical_faces(depth = 300, \n",
    "#                              surface_layer_Δz = 2.5, \n",
    "#                              stretching = PowerLawStretching(1.090), \n",
    "#                              surface_layer_height = 30)\n",
    "# z-levels from Andre\n",
    "z_levels = -reverse([0.0, 1, 2, 3, 4, 5, 6, 7, 8, 9, 10, 11, 12, 13, 14, 15, 16, 17, 18, 19, 20])\n",
    "z_middle = -reverse([0.5, 1.5, 2.5, 3.5, 4.5, 5.5, 6.5, 7.5, 8.5, 9.5, 10.5, 11.5, 12.5, 13.5, 14.5, 15.5, 16.5, 17.5, 18.5, 19.5])"
   ]
  },
  {
   "cell_type": "code",
   "execution_count": 15,
   "id": "4439956b-4afd-4f33-898b-53c108428a8a",
   "metadata": {},
   "outputs": [],
   "source": [
    "writedlm( \"z-grid_Tyr.csv\",  z_levels, ',')"
   ]
  },
  {
   "cell_type": "markdown",
   "id": "e2ba12a9-6f96-4d82-aa37-a6a5b8fb7211",
   "metadata": {},
   "source": [
    "## underlying grid"
   ]
  },
  {
   "cell_type": "code",
   "execution_count": 16,
   "id": "2a49ba92-2de1-44b6-a745-eb767c1451ad",
   "metadata": {},
   "outputs": [
    {
     "data": {
      "text/plain": [
       "20"
      ]
     },
     "execution_count": 16,
     "metadata": {},
     "output_type": "execute_result"
    }
   ],
   "source": [
    "Nx = 119\n",
    "Ny = 42\n",
    "Nz = length(z_levels)-1"
   ]
  },
  {
   "cell_type": "code",
   "execution_count": 17,
   "id": "c9c7b62e-556a-43c0-9b39-0065765fb8d6",
   "metadata": {},
   "outputs": [
    {
     "data": {
      "text/plain": [
       "50"
      ]
     },
     "execution_count": 17,
     "metadata": {},
     "output_type": "execute_result"
    }
   ],
   "source": [
    "dx = 200  # m\n",
    "dy = 50  # m"
   ]
  },
  {
   "cell_type": "code",
   "execution_count": 18,
   "id": "d487b648-4440-4094-aa94-9ceb1454a87d",
   "metadata": {},
   "outputs": [
    {
     "data": {
      "text/plain": [
       "119×42×20 RectilinearGrid{Float64, Bounded, Bounded, Bounded} on CPU with 7×7×7 halo\n",
       "├── Bounded  x ∈ [0.0, 23800.0] regularly spaced with Δx=200.0\n",
       "├── Bounded  y ∈ [0.0, 2100.0]  regularly spaced with Δy=50.0\n",
       "└── Bounded  z ∈ [-20.0, -0.0]  variably spaced with min(Δz)=1.0, max(Δz)=1.0"
      ]
     },
     "execution_count": 18,
     "metadata": {},
     "output_type": "execute_result"
    }
   ],
   "source": [
    "underlying_grid = RectilinearGrid(topology=(Bounded, Bounded, Bounded), size=(Nx, Ny, Nz),\n",
    "                                        x = (0, dx*Nx), y = (0, dy*Ny),\n",
    "                                        z = z_levels, halo=(7,7,7))"
   ]
  },
  {
   "cell_type": "markdown",
   "id": "3be05452-d90c-4677-a9d0-473e2ea47148",
   "metadata": {},
   "source": [
    "## load bathymetry"
   ]
  },
  {
   "cell_type": "code",
   "execution_count": 19,
   "id": "9f9cdf63-1a3d-47ab-9c5d-b4e61ea179bd",
   "metadata": {},
   "outputs": [
    {
     "data": {
      "text/plain": [
       "1-element Vector{Symbol}:\n",
       " :depth"
      ]
     },
     "execution_count": 19,
     "metadata": {},
     "output_type": "execute_result"
    }
   ],
   "source": [
    "@load \"Varna_topo.jld2\" depth"
   ]
  },
  {
   "cell_type": "code",
   "execution_count": 20,
   "id": "dc801943-af28-47a2-8f50-5aac0aa6b8b7",
   "metadata": {
    "scrolled": true
   },
   "outputs": [
    {
     "data": {
      "text/plain": [
       "119×42 Matrix{Float64}:\n",
       " 0.0  0.0   0.0      0.0      0.0     …    0.0      0.0      0.0      0.0\n",
       " 0.0  0.0   0.0      0.0      0.0          0.0      0.0      0.0      0.0\n",
       " 0.0  0.0   0.0      0.0      0.0          0.0      0.0      0.0      0.0\n",
       " 0.0  0.0   0.0      0.0      0.0          0.0      0.0      0.0      0.0\n",
       " 0.0  0.0   0.0     -2.0501  -3.5769       0.0      0.0      0.0      0.0\n",
       " 0.0  0.0  -1.8686  -3.4335  -4.9079  …    0.0      0.0      0.0      0.0\n",
       " 0.0  0.0   0.0     -1.4476  -1.9712       0.0      0.0      0.0      0.0\n",
       " 0.0  0.0   0.0      0.0      0.0          0.0      0.0      0.0      0.0\n",
       " 0.0  0.0   0.0      0.0      0.0          0.0      0.0      0.0      0.0\n",
       " 0.0  0.0   0.0     -1.5814  -2.4893       0.0      0.0      0.0      0.0\n",
       " 0.0  0.0   0.0     -1.9075  -3.2924  …    0.0      0.0      0.0      0.0\n",
       " 0.0  0.0   0.0      0.0     -1.0048       0.0      0.0      0.0      0.0\n",
       " 0.0  0.0   0.0      0.0      0.0          0.0      0.0      0.0      0.0\n",
       " ⋮                                    ⋱                      ⋮       \n",
       " 0.0  0.0   0.0      0.0      0.0         -6.0554  -3.716   -1.7929   0.0\n",
       " 0.0  0.0   0.0      0.0      0.0         -6.4035  -4.163   -2.216   -1.0355\n",
       " 0.0  0.0   0.0      0.0      0.0         -8.3381  -6.5569  -4.5373  -2.9496\n",
       " 0.0  0.0   0.0      0.0      0.0     …   -9.8233  -8.4191  -6.7358  -5.2297\n",
       " 0.0  0.0   0.0      0.0      0.0        -10.4589  -9.1521  -7.776   -6.5409\n",
       " 0.0  0.0   0.0      0.0      0.0         -9.6006  -7.9662  -6.1842  -4.697\n",
       " 0.0  0.0   0.0      0.0      0.0         -6.9534  -4.8791  -2.9568  -1.6741\n",
       " 0.0  0.0   0.0      0.0      0.0         -4.0165  -2.1362   0.0      0.0\n",
       " 0.0  0.0   0.0      0.0      0.0     …   -2.2881   0.0      0.0      0.0\n",
       " 0.0  0.0   0.0      0.0      0.0         -1.9929   0.0      0.0      0.0\n",
       " 0.0  0.0   0.0      0.0      0.0          0.0      0.0      0.0      0.0\n",
       " 0.0  0.0   0.0      0.0      0.0          0.0      0.0      0.0      0.0"
      ]
     },
     "execution_count": 20,
     "metadata": {},
     "output_type": "execute_result"
    }
   ],
   "source": [
    "depth"
   ]
  },
  {
   "cell_type": "code",
   "execution_count": 23,
   "id": "f2af1717-a9fa-4444-ada6-4a45a6837f28",
   "metadata": {},
   "outputs": [
    {
     "data": {
      "text/plain": [
       "119×42×20 ImmersedBoundaryGrid{Float64, Bounded, Bounded, Bounded} on CPU with 7×7×7 halo:\n",
       "├── immersed_boundary: GridFittedBottom(mean(z)=-3.77416, min(z)=-19.994, max(z)=0.0)\n",
       "├── underlying_grid: 119×42×20 RectilinearGrid{Float64, Bounded, Bounded, Bounded} on CPU with 7×7×7 halo\n",
       "├── Bounded  x ∈ [0.0, 23800.0] regularly spaced with Δx=200.0\n",
       "├── Bounded  y ∈ [0.0, 2100.0]  regularly spaced with Δy=50.0\n",
       "└── Bounded  z ∈ [-20.0, -0.0]  variably spaced with min(Δz)=1.0, max(Δz)=1.0"
      ]
     },
     "execution_count": 23,
     "metadata": {},
     "output_type": "execute_result"
    }
   ],
   "source": [
    "grid = ImmersedBoundaryGrid(underlying_grid, GridFittedBottom(depth); active_cells_map = true)"
   ]
  },
  {
   "cell_type": "markdown",
   "id": "62a20da7-174d-4d95-b385-a8b5bf4d3d34",
   "metadata": {},
   "source": [
    "# Biogeochemistry"
   ]
  },
  {
   "cell_type": "code",
   "execution_count": 221,
   "id": "fd861843-bb32-45c1-9d4b-345f8d3b1b18",
   "metadata": {},
   "outputs": [
    {
     "data": {
      "text/plain": [
       "OxygenDepletionModel{Float64} model, with (:PHY, :HET, :POM) sinking \n",
       " Light attenuation: Two-band light attenuation model (Float64)\n",
       " Sediment: Nothing\n",
       " Particles: Nothing\n",
       " Modifiers: Nothing"
      ]
     },
     "execution_count": 221,
     "metadata": {},
     "output_type": "execute_result"
    }
   ],
   "source": [
    "const year = years = 365days\n",
    "# ## Surface PAR\n",
    "# Setting up idealised functions for PAR and diffusivity (details here can be ignored but these are typical of the North Atlantic)\n",
    "\n",
    "@inline PAR⁰(x, y, t) = 60 * (1 - cos((t + 15days) * 2π / year)) * (1 / (1 + 0.2 * exp(-((mod(t, year) - 200days) / 50days)^2))) + 2\n",
    "\n",
    "biogeochemistry = OXYDEP(; grid, \n",
    "                          surface_photosynthetically_active_radiation = PAR⁰,\n",
    "                          particles = nothing)"
   ]
  },
  {
   "cell_type": "code",
   "execution_count": 206,
   "id": "16849b87-6c57-4f40-95dc-00db99fffe5d",
   "metadata": {},
   "outputs": [
    {
     "data": {
      "text/latex": [
       "\\begin{verbatim}\n",
       "AbstractBiogeochemistry\n",
       "\\end{verbatim}\n",
       "Abstract type for biogeochemical models. To define a biogeochemcial relaionship the following functions must have methods defined where \\texttt{BiogeochemicalModel} is a subtype of \\texttt{AbstractBioeochemistry}:\n",
       "\n",
       "\\begin{itemize}\n",
       "\\item \\texttt{(bgc::BiogeochemicalModel)(i, j, k, grid, ::Val\\{:tracer\\_name\\}, clock, fields)} which   returns the biogeochemical reaction for for each tracer.\n",
       "\n",
       "\n",
       "\\item \\texttt{required\\_biogeochemical\\_tracers(::BiogeochemicalModel)} which returns a tuple of  required \\texttt{tracer\\_names}.\n",
       "\n",
       "\n",
       "\\item \\texttt{required\\_biogeochemical\\_auxiliary\\_fields(::BiogeochemicalModel)} which returns   a tuple of required auxiliary fields.\n",
       "\n",
       "\n",
       "\\item \\texttt{biogeochemical\\_auxiliary\\_fields(bgc::BiogeochemicalModel)} which returns a \\texttt{NamedTuple}  of the models auxiliary fields.\n",
       "\n",
       "\n",
       "\\item \\texttt{biogeochemical\\_drift\\_velocity(bgc::BiogeochemicalModel, ::Val\\{:tracer\\_name\\})} which   returns a velocity fields (i.e. a \\texttt{NamedTuple} of fields with keys \\texttt{u}, \\texttt{v} \\& \\texttt{w})  for each tracer.\n",
       "\n",
       "\n",
       "\\item \\texttt{update\\_biogeochemical\\_state!(bgc::BiogeochemicalModel, model)} (optional) to update the   model state.\n",
       "\n",
       "\\end{itemize}\n"
      ],
      "text/markdown": [
       "```\n",
       "AbstractBiogeochemistry\n",
       "```\n",
       "\n",
       "Abstract type for biogeochemical models. To define a biogeochemcial relaionship the following functions must have methods defined where `BiogeochemicalModel` is a subtype of `AbstractBioeochemistry`:\n",
       "\n",
       "  * `(bgc::BiogeochemicalModel)(i, j, k, grid, ::Val{:tracer_name}, clock, fields)` which   returns the biogeochemical reaction for for each tracer.\n",
       "  * `required_biogeochemical_tracers(::BiogeochemicalModel)` which returns a tuple of  required `tracer_names`.\n",
       "  * `required_biogeochemical_auxiliary_fields(::BiogeochemicalModel)` which returns   a tuple of required auxiliary fields.\n",
       "  * `biogeochemical_auxiliary_fields(bgc::BiogeochemicalModel)` which returns a `NamedTuple`  of the models auxiliary fields.\n",
       "  * `biogeochemical_drift_velocity(bgc::BiogeochemicalModel, ::Val{:tracer_name})` which   returns a velocity fields (i.e. a `NamedTuple` of fields with keys `u`, `v` & `w`)  for each tracer.\n",
       "  * `update_biogeochemical_state!(bgc::BiogeochemicalModel, model)` (optional) to update the   model state.\n"
      ],
      "text/plain": [
       "\u001b[36m  AbstractBiogeochemistry\u001b[39m\n",
       "\n",
       "  Abstract type for biogeochemical models. To define a biogeochemcial\n",
       "  relaionship the following functions must have methods defined where\n",
       "  \u001b[36mBiogeochemicalModel\u001b[39m is a subtype of \u001b[36mAbstractBioeochemistry\u001b[39m:\n",
       "\n",
       "    •  \u001b[36m(bgc::BiogeochemicalModel)(i, j, k, grid, ::Val{:tracer_name},\n",
       "       clock, fields)\u001b[39m which returns the biogeochemical reaction for for\n",
       "       each tracer.\n",
       "\n",
       "    •  \u001b[36mrequired_biogeochemical_tracers(::BiogeochemicalModel)\u001b[39m which\n",
       "       returns a tuple of required \u001b[36mtracer_names\u001b[39m.\n",
       "\n",
       "    •  \u001b[36mrequired_biogeochemical_auxiliary_fields(::BiogeochemicalModel)\u001b[39m\n",
       "       which returns a tuple of required auxiliary fields.\n",
       "\n",
       "    •  \u001b[36mbiogeochemical_auxiliary_fields(bgc::BiogeochemicalModel)\u001b[39m which\n",
       "       returns a \u001b[36mNamedTuple\u001b[39m of the models auxiliary fields.\n",
       "\n",
       "    •  \u001b[36mbiogeochemical_drift_velocity(bgc::BiogeochemicalModel,\n",
       "       ::Val{:tracer_name})\u001b[39m which returns a velocity fields (i.e. a\n",
       "       \u001b[36mNamedTuple\u001b[39m of fields with keys \u001b[36mu\u001b[39m, \u001b[36mv\u001b[39m & \u001b[36mw\u001b[39m) for each tracer.\n",
       "\n",
       "    •  \u001b[36mupdate_biogeochemical_state!(bgc::BiogeochemicalModel, model)\u001b[39m\n",
       "       (optional) to update the model state."
      ]
     },
     "execution_count": 206,
     "metadata": {},
     "output_type": "execute_result"
    }
   ],
   "source": [
    "?Oceananigans.Biogeochemistry.AbstractBiogeochemistry"
   ]
  },
  {
   "cell_type": "markdown",
   "id": "504d5b4b-33f6-41bb-9ea3-f3c53d3f588b",
   "metadata": {},
   "source": [
    "# Initial conditions"
   ]
  },
  {
   "cell_type": "code",
   "execution_count": 25,
   "id": "42132643-9bcd-431e-8dd6-ffe98d76a13d",
   "metadata": {},
   "outputs": [
    {
     "data": {
      "text/plain": [
       "12-element Vector{Float64}:\n",
       " -20.0\n",
       " -16.0\n",
       " -12.0\n",
       " -10.0\n",
       "  -9.0\n",
       "  -8.0\n",
       "  -6.0\n",
       "  -4.0\n",
       "  -3.0\n",
       "  -2.0\n",
       "  -1.0\n",
       "  -0.5"
      ]
     },
     "execution_count": 25,
     "metadata": {},
     "output_type": "execute_result"
    }
   ],
   "source": [
    "z_ini = -reverse([0.5, 1, 2, 3, 4, 6, 8, 9, 10, 12, 16, 20])"
   ]
  },
  {
   "cell_type": "code",
   "execution_count": 26,
   "id": "4c477be8-3509-406c-9115-29a24248a4fb",
   "metadata": {},
   "outputs": [],
   "source": [
    "tprof = reverse([20, 20, 20, 20, 18, 15, 14, 13, 12, 12, 12, 12])\n",
    "itp = LinearInterpolation(z_ini, tprof)\n",
    "tprof_target = itp(z_middle)\n",
    "\n",
    "T₀ = Array{Float64}(undef, Nx, Ny, Nz)\n",
    "for i = 1:Nx\n",
    "    for j = 1:Ny\n",
    "        T₀[i, j, :] = tprof_target\n",
    "    end\n",
    "end"
   ]
  },
  {
   "cell_type": "code",
   "execution_count": 27,
   "id": "867b086e-c8f6-4b7a-ad6b-dd05b1581b1e",
   "metadata": {},
   "outputs": [],
   "source": [
    "sprof = reverse([14, 14.1, 14.2, 14.5, 14.8, 15, 15.1, 15.2, 15.3, 15.4, 15.5, 15.5])\n",
    "itps = LinearInterpolation(z_ini, sprof)\n",
    "sprof_target = itps(z_middle)\n",
    "\n",
    "S₀ = Array{Float64}(undef, Nx, Ny, Nz)\n",
    "for i = 1:Nx\n",
    "    for j = 1:Ny\n",
    "        S₀[i, j, :] = sprof_target\n",
    "    end\n",
    "end"
   ]
  },
  {
   "cell_type": "markdown",
   "id": "3a2f9d61-c2af-4b11-a53e-228d9c487c0f",
   "metadata": {},
   "source": [
    "# Physics"
   ]
  },
  {
   "cell_type": "code",
   "execution_count": 28,
   "id": "319870be-6dbb-4f13-ba15-552bc820e5de",
   "metadata": {},
   "outputs": [
    {
     "data": {
      "text/plain": [
       "(VerticalScalarDiffusivity{VerticallyImplicitTimeDiscretization}(ν=νz (generic function with 1 method), κ=1.0e-5), HorizontalScalarDiffusivity{ExplicitTimeDiscretization}(ν=1000.0, κ=0.0), ConvectiveAdjustmentVerticalDiffusivity{VerticallyImplicitTimeDiscretization}(background_κz=0.0 convective_κz=0.1 background_νz=0.0 convective_νz=0.0), IsopycnalSkewSymmetricDiffusivity: (κ_symmetric=900.0, κ_skew=900.0, (isopycnal_tensor=Oceananigans.TurbulenceClosures.SmallSlopeIsopycnalTensor{Float64}(0.0), slope_limiter=FluxTapering{Float64}(0.01)))"
      ]
     },
     "execution_count": 28,
     "metadata": {},
     "output_type": "execute_result"
    }
   ],
   "source": [
    "const surface_νz = 1e-2\n",
    "const background_νz = 1e-4\n",
    "const background_κz = 1e-5\n",
    "\n",
    "@inline νz(x, y, z, t) = ifelse(z > -15, surface_νz, background_νz)\n",
    "\n",
    "horizontal_viscosity = HorizontalScalarDiffusivity(ν=1e3)\n",
    "vertical_viscosity   = VerticalScalarDiffusivity(VerticallyImplicitTimeDiscretization(),\n",
    "                                                 ν=νz, κ=background_κz)\n",
    "convective_adjustment = ConvectiveAdjustmentVerticalDiffusivity(convective_κz=0.1)\n",
    "κ_skew = 900.0      # [m² s⁻¹] skew diffusivity\n",
    "κ_symmetric = 900.0 # [m² s⁻¹] symmetric diffusivity\n",
    "\n",
    "gent_mcwilliams_diffusivity = IsopycnalSkewSymmetricDiffusivity(; κ_skew, κ_symmetric,\n",
    "                                                                slope_limiter = FluxTapering(1e-2))\n",
    "\n",
    "    \n",
    "closure = (\n",
    "    vertical_viscosity,\n",
    "    horizontal_viscosity,\n",
    "    convective_adjustment,\n",
    "    gent_mcwilliams_diffusivity,\n",
    ")"
   ]
  },
  {
   "cell_type": "markdown",
   "id": "7d772aea-9422-4e4d-9f82-635b266fc85c",
   "metadata": {},
   "source": [
    "# Boundary conditions (u, v, T, S)"
   ]
  },
  {
   "cell_type": "code",
   "execution_count": 29,
   "id": "3586aff3-5883-47af-9009-be14dca1799e",
   "metadata": {},
   "outputs": [
    {
     "data": {
      "text/plain": [
       "15"
      ]
     },
     "execution_count": 29,
     "metadata": {},
     "output_type": "execute_result"
    }
   ],
   "source": [
    "reference_density        = 1000.0\n",
    "reference_heat_capacity  = 3991.0\n",
    "reference_salinity       = 15"
   ]
  },
  {
   "cell_type": "code",
   "execution_count": 30,
   "id": "41dd0b8b-3ed1-426d-b8b7-5646f1fbd6d7",
   "metadata": {
    "scrolled": true
   },
   "outputs": [],
   "source": [
    "# Files contain 12 arrays of monthly-averaged data from 1992\n",
    "# @info \"Reading boundary conditions...\"; start=time_ns()\n",
    "# boundary_conditions_file = jldopen(\"surface_boundary_conditions_360_150_75S_75N.jld2\")\n",
    "# τˣ = - boundary_conditions_file[\"τˣ\"] ./ reference_density\n",
    "# τʸ = - boundary_conditions_file[\"τʸ\"] ./ reference_density"
   ]
  },
  {
   "cell_type": "code",
   "execution_count": 31,
   "id": "c04e3848-dd0b-477a-bfee-4c1c2f2ea16b",
   "metadata": {},
   "outputs": [],
   "source": [
    "# Convert boundary conditions arrays to GPU (CPU here)\n",
    "# τˣ = on_architecture(arch, τˣ)\n",
    "# τʸ = on_architecture(arch, τʸ)"
   ]
  },
  {
   "cell_type": "markdown",
   "id": "c0aba4a7-5fbf-45d5-944c-647dc5d53b51",
   "metadata": {},
   "source": [
    "## Wind stress\n",
    "https://en.wikipedia.org/wiki/Wind_stress"
   ]
  },
  {
   "cell_type": "code",
   "execution_count": 32,
   "id": "6126dad1-c74f-483d-99b7-c3d4fe3008bb",
   "metadata": {},
   "outputs": [
    {
     "data": {
      "text/plain": [
       "1.225"
      ]
     },
     "execution_count": 32,
     "metadata": {},
     "output_type": "execute_result"
    }
   ],
   "source": [
    "Cd = 0.0025  # 0.0015\n",
    "ρₐᵢᵣ = 1.225"
   ]
  },
  {
   "cell_type": "code",
   "execution_count": 33,
   "id": "19ba1d88-3cd0-4f48-b33b-050182c88624",
   "metadata": {},
   "outputs": [],
   "source": [
    "# 8760-element"
   ]
  },
  {
   "cell_type": "markdown",
   "id": "3d2ac3df-e143-441f-b4ca-082f66540642",
   "metadata": {},
   "source": [
    "### Option 1. define monthly-averages (to test)"
   ]
  },
  {
   "cell_type": "code",
   "execution_count": 34,
   "id": "67324e11-4bff-49d1-b979-c52217ca94d0",
   "metadata": {},
   "outputs": [
    {
     "data": {
      "text/plain": [
       "12"
      ]
     },
     "execution_count": 34,
     "metadata": {},
     "output_type": "execute_result"
    }
   ],
   "source": [
    "# Ntimes = 8760\n",
    "Ntimes = 12"
   ]
  },
  {
   "cell_type": "code",
   "execution_count": 35,
   "id": "4f0eb92e-1038-483a-a009-de7da2ac91e8",
   "metadata": {
    "scrolled": true
   },
   "outputs": [
    {
     "data": {
      "text/plain": [
       "12-element Vector{Int64}:\n",
       " 8\n",
       " 0\n",
       " 0\n",
       " 0\n",
       " 0\n",
       " 0\n",
       " 0\n",
       " 0\n",
       " 0\n",
       " 0\n",
       " 0\n",
       " 0"
      ]
     },
     "execution_count": 35,
     "metadata": {},
     "output_type": "execute_result"
    }
   ],
   "source": [
    "uwind = [10, 0, 0, 0, 0, 0, 0, 0, 0, 0, 0, 0]\n",
    "vwind = [8, 0, 0, 0, 0, 0, 0, 0, 0, 0, 0, 0]"
   ]
  },
  {
   "cell_type": "markdown",
   "id": "292e7eee-453b-47b7-9012-d71295eb7da7",
   "metadata": {},
   "source": [
    "### Option 2. or read from file (hourly)"
   ]
  },
  {
   "cell_type": "code",
   "execution_count": 36,
   "id": "56468754-efc3-4323-99eb-0a8088a0c251",
   "metadata": {},
   "outputs": [],
   "source": [
    "# df = CSV.read(\"atm/wind2023_1h.csv\", DataFrame)\n",
    "# uwind = df.u\n",
    "# vwind = df.v"
   ]
  },
  {
   "cell_type": "markdown",
   "id": "a96f9557-ccf9-4795-b964-0dad8b8e45da",
   "metadata": {},
   "source": [
    "### calculate the wind stress"
   ]
  },
  {
   "cell_type": "code",
   "execution_count": 37,
   "id": "aafc0665-c7f9-440c-b5fb-e6a6fab93012",
   "metadata": {},
   "outputs": [],
   "source": [
    "τˣ = Array{Float64}(undef, Nx, Ny, Ntimes)\n",
    "τʸ = Array{Float64}(undef, Nx, Ny, Ntimes)\n",
    "for i = 1:Nx\n",
    "    for j = 1:Ny\n",
    "        τˣ[i, j, :] = -ρₐᵢᵣ*Cd.*(uwind.^2)./reference_density\n",
    "        τʸ[i, j, :] = ρₐᵢᵣ*Cd.*(vwind.^2)./reference_density\n",
    "    end\n",
    "end"
   ]
  },
  {
   "cell_type": "code",
   "execution_count": 38,
   "id": "dc233efc-3936-4453-af00-ef89596e2d3b",
   "metadata": {},
   "outputs": [
    {
     "data": {
      "text/plain": [
       "0.00019600000000000002"
      ]
     },
     "execution_count": 38,
     "metadata": {},
     "output_type": "execute_result"
    }
   ],
   "source": [
    "maximum(τʸ)"
   ]
  },
  {
   "cell_type": "markdown",
   "id": "6d5334b7-a220-4350-8c80-9369ba8ad9a5",
   "metadata": {},
   "source": [
    "## Time-dependent fluxes"
   ]
  },
  {
   "cell_type": "markdown",
   "id": "82c4d4c0-8c5a-46d7-be49-acd80e0296e9",
   "metadata": {},
   "source": [
    "### for hourly wind input"
   ]
  },
  {
   "cell_type": "code",
   "execution_count": 338,
   "id": "ee91b699-1452-4850-98dd-d31a281384b8",
   "metadata": {
    "jupyter": {
     "source_hidden": true
    }
   },
   "outputs": [],
   "source": [
    "# const Nyears = 1.0\n",
    "# const Nhours = 1.0  # Only one hour, but we're working with fractions of it\n",
    "# const seconds_in_hour = 3600  # Number of seconds in an hour\n",
    "\n",
    "# # Inline functions for cyclic time indexing within an hour\n",
    "# @inline current_time_index(time, tot_seconds) = mod(unsafe_trunc(Int32, time), tot_seconds) + 1\n",
    "# @inline next_time_index(time, tot_seconds) = mod(unsafe_trunc(Int32, time) + 1, tot_seconds) + 1\n",
    "# @inline cyclic_interpolate(u₁::Number, u₂, time) = u₁ + mod(time, 1) * (u₂ - u₁)\n",
    "\n",
    "# # Assuming Δzᵃᵃᶜ and other grid and fields setup remains the same\n",
    "# Δz_top = @allowscalar Δzᵃᵃᶜ(1, 1, grid.Nz, grid.underlying_grid)\n",
    "# Δz_bottom = @allowscalar Δzᵃᵃᶜ(1, 1, 1, grid.underlying_grid)\n",
    "\n",
    "# @inline function surface_wind_stress(i, j, grid, clock, fields, τ)\n",
    "#     time = clock.time  # Assuming `time` is now given in seconds within the current hour\n",
    "#     n₁ = current_time_index(time, seconds_in_hour)\n",
    "#     n₂ = next_time_index(time, seconds_in_hour)\n",
    "\n",
    "#     @inbounds begin\n",
    "#         τ₁ = τ[i, j, n₁]\n",
    "#         τ₂ = τ[i, j, n₂]\n",
    "#     end\n",
    "\n",
    "#     return cyclic_interpolate(τ₁, τ₂, time / seconds_in_hour)\n",
    "# end\n"
   ]
  },
  {
   "cell_type": "code",
   "execution_count": 339,
   "id": "cc1c0b6e-ba45-46f9-b43a-4b8cc88a7334",
   "metadata": {
    "jupyter": {
     "source_hidden": true
    }
   },
   "outputs": [],
   "source": [
    "# const Nyears = 1.0\n",
    "# const Nhours = 1.0  # Only one hour, but we're working with fractions of it\n",
    "# const seconds_in_hour = 3600  # Number of seconds in an hour\n",
    "\n",
    "# # Inline functions for cyclic time indexing within an hour\n",
    "# @inline current_time_index(time, tot_seconds) = mod(unsafe_trunc(Int32, time), tot_seconds) + 1\n",
    "# @inline next_time_index(time, tot_seconds) = mod(unsafe_trunc(Int32, time) + 1, tot_seconds) + 1\n",
    "# @inline cyclic_interpolate(u₁::Number, u₂, time) = u₁ + mod(time, 1) * (u₂ - u₁)\n",
    "\n",
    "# # Assuming Δzᵃᵃᶜ and other grid and fields setup remains the same\n",
    "# Δz_top = @allowscalar Δzᵃᵃᶜ(1, 1, grid.Nz, grid.underlying_grid)\n",
    "# Δz_bottom = @allowscalar Δzᵃᵃᶜ(1, 1, 1, grid.underlying_grid)\n",
    "\n",
    "# @inline function surface_wind_stress(i, j, grid, clock, fields, τ)\n",
    "#     time = clock.time  # Assuming `time` is now given in seconds within the current hour\n",
    "#     n₁ = current_time_index(time, seconds_in_hour)\n",
    "#     n₂ = next_time_index(time, seconds_in_hour)\n",
    "\n",
    "#     @inbounds begin\n",
    "#         τ₁ = τ[i, j, n₁]\n",
    "#         τ₂ = τ[i, j, n₂]\n",
    "#     end\n",
    "\n",
    "#     return cyclic_interpolate(τ₁, τ₂, time / seconds_in_hour)\n",
    "# end\n"
   ]
  },
  {
   "cell_type": "markdown",
   "id": "a1209f24-2014-4637-80bb-3e7aaef7d250",
   "metadata": {},
   "source": [
    "### For monthly input"
   ]
  },
  {
   "cell_type": "code",
   "execution_count": 39,
   "id": "8ac479cc-159a-4739-a520-379cd16192b7",
   "metadata": {},
   "outputs": [
    {
     "data": {
      "text/plain": [
       "surface_wind_stress (generic function with 1 method)"
      ]
     },
     "execution_count": 39,
     "metadata": {},
     "output_type": "execute_result"
    }
   ],
   "source": [
    "##### Boundary conditions / time-dependent fluxes \n",
    "\n",
    "const Nyears = 1.0\n",
    "const Nmonths = 12\n",
    "const thirty_days = 30days\n",
    "\n",
    "@inline current_time_index(time, tot_months) = mod(unsafe_trunc(Int32, time / thirty_days), tot_months) + 1\n",
    "@inline next_time_index(time, tot_months) = mod(unsafe_trunc(Int32, time / thirty_days) + 1, tot_months) + 1\n",
    "@inline cyclic_interpolate(u₁::Number, u₂, time) = u₁ + mod(time / thirty_days, 1) * (u₂ - u₁)\n",
    "\n",
    "Δz_top = @allowscalar Δzᵃᵃᶜ(1, 1, grid.Nz, grid.underlying_grid)\n",
    "Δz_bottom = @allowscalar Δzᵃᵃᶜ(1, 1, 1, grid.underlying_grid)\n",
    "\n",
    "@inline function surface_wind_stress(i, j, grid, clock, fields, τ)\n",
    "    time = clock.time\n",
    "    n₁ = current_time_index(time, Nmonths)\n",
    "    n₂ = next_time_index(time, Nmonths)\n",
    "\n",
    "    @inbounds begin  # inbounds for faster performance, doesn't check the boundaries of the array\n",
    "        τ₁ = τ[i, j, n₁]\n",
    "        τ₂ = τ[i, j, n₂]\n",
    "    end\n",
    "\n",
    "    return cyclic_interpolate(τ₁, τ₂, time)\n",
    "end"
   ]
  },
  {
   "cell_type": "markdown",
   "id": "6f88c635-3ed3-422c-b097-42c09435040b",
   "metadata": {},
   "source": [
    "## Bottom drag"
   ]
  },
  {
   "cell_type": "code",
   "execution_count": 40,
   "id": "1792808c-446f-4666-816c-68464351687a",
   "metadata": {},
   "outputs": [
    {
     "name": "stderr",
     "output_type": "stream",
     "text": [
      "\u001b[33m\u001b[1m┌ \u001b[22m\u001b[39m\u001b[33m\u001b[1mWarning: \u001b[22m\u001b[39m`ImmersedBoundaryCondition` is experimental.\n",
      "\u001b[33m\u001b[1m└ \u001b[22m\u001b[39m\u001b[90m@ Oceananigans.ImmersedBoundaries C:\\Users\\ABE\\.julia\\packages\\Oceananigans\\aI5AQ\\src\\ImmersedBoundaries\\immersed_boundary_condition.jl:59\u001b[39m\n",
      "\u001b[33m\u001b[1m┌ \u001b[22m\u001b[39m\u001b[33m\u001b[1mWarning: \u001b[22m\u001b[39m`ImmersedBoundaryCondition` is experimental.\n",
      "\u001b[33m\u001b[1m└ \u001b[22m\u001b[39m\u001b[90m@ Oceananigans.ImmersedBoundaries C:\\Users\\ABE\\.julia\\packages\\Oceananigans\\aI5AQ\\src\\ImmersedBoundaries\\immersed_boundary_condition.jl:59\u001b[39m\n"
     ]
    },
    {
     "data": {
      "text/plain": [
       "ImmersedBoundaryCondition:\n",
       "├── west: ValueBoundaryCondition: 0\n",
       "├── east: ValueBoundaryCondition: 0\n",
       "├── south: ValueBoundaryCondition: 0\n",
       "├── north: ValueBoundaryCondition: 0\n",
       "├── bottom: FluxBoundaryCondition: DiscreteBoundaryFunction v_immersed_bottom_drag with parameters 0.003\n",
       "└── top: Nothing"
      ]
     },
     "execution_count": 40,
     "metadata": {},
     "output_type": "execute_result"
    }
   ],
   "source": [
    "Δz_top = @allowscalar grid.Δzᵃᵃᶜ[Nz]\n",
    "\n",
    "# Linear bottom drag:\n",
    "μ = 0.003 # Non dimensional\n",
    "\n",
    "@inline speedᶠᶜᶜ(i, j, k, grid, fields) = @inbounds sqrt(fields.u[i, j, k]^2 + ℑxyᶠᶜᵃ(i, j, k, grid, fields.v)^2)\n",
    "@inline speedᶜᶠᶜ(i, j, k, grid, fields) = @inbounds sqrt(fields.v[i, j, k]^2 + ℑxyᶜᶠᵃ(i, j, k, grid, fields.u)^2)\n",
    "\n",
    "@inline u_bottom_drag(i, j, grid, clock, fields, μ) = @inbounds - μ * fields.u[i, j, 1] * speedᶠᶜᶜ(i, j, 1, grid, fields)\n",
    "@inline v_bottom_drag(i, j, grid, clock, fields, μ) = @inbounds - μ * fields.v[i, j, 1] * speedᶜᶠᶜ(i, j, 1, grid, fields)\n",
    "\n",
    "@inline u_immersed_bottom_drag(i, j, k, grid, clock, fields, μ) = @inbounds - μ * fields.u[i, j, k] * speedᶠᶜᶜ(i, j, k, grid, fields)\n",
    "@inline v_immersed_bottom_drag(i, j, k, grid, clock, fields, μ) = @inbounds - μ * fields.v[i, j, k] * speedᶜᶠᶜ(i, j, k, grid, fields)\n",
    "\n",
    "drag_u = FluxBoundaryCondition(u_immersed_bottom_drag, discrete_form=true, parameters = μ)\n",
    "drag_v = FluxBoundaryCondition(v_immersed_bottom_drag, discrete_form=true, parameters = μ)\n",
    "\n",
    "no_slip_bc = ValueBoundaryCondition(0)\n",
    "\n",
    "u_immersed_bc = ImmersedBoundaryCondition(bottom = drag_u,\n",
    "                                          west = no_slip_bc,\n",
    "                                          east = no_slip_bc,\n",
    "                                          south = no_slip_bc,\n",
    "                                          north = no_slip_bc)\n",
    "\n",
    "v_immersed_bc = ImmersedBoundaryCondition(bottom = drag_v,\n",
    "                                          west = no_slip_bc,\n",
    "                                          east = no_slip_bc,\n",
    "                                          south = no_slip_bc,\n",
    "                                          north = no_slip_bc)"
   ]
  },
  {
   "cell_type": "markdown",
   "id": "0a0dc8dc-9c62-45e6-bf69-0e48a781c301",
   "metadata": {},
   "source": [
    "## Constructing BC"
   ]
  },
  {
   "cell_type": "code",
   "execution_count": 41,
   "id": "f40b1599-5bd8-4b16-80b7-653d1078ee69",
   "metadata": {},
   "outputs": [],
   "source": [
    "u_bottom_drag_bc = FluxBoundaryCondition(u_bottom_drag, discrete_form = true, parameters = μ)\n",
    "v_bottom_drag_bc = FluxBoundaryCondition(v_bottom_drag, discrete_form = true, parameters = μ)\n",
    "\n",
    "u_wind_stress_bc = FluxBoundaryCondition(surface_wind_stress, discrete_form = true, parameters = τˣ);\n",
    "v_wind_stress_bc = FluxBoundaryCondition(surface_wind_stress, discrete_form = true, parameters = τʸ);"
   ]
  },
  {
   "cell_type": "code",
   "execution_count": 42,
   "id": "e30aaa07-3e48-414a-aa72-9e2ccdb1279a",
   "metadata": {
    "scrolled": true
   },
   "outputs": [
    {
     "data": {
      "text/plain": [
       "Oceananigans.FieldBoundaryConditions, with boundary conditions\n",
       "├── west: DefaultBoundaryCondition (FluxBoundaryCondition: Nothing)\n",
       "├── east: DefaultBoundaryCondition (FluxBoundaryCondition: Nothing)\n",
       "├── south: DefaultBoundaryCondition (FluxBoundaryCondition: Nothing)\n",
       "├── north: DefaultBoundaryCondition (FluxBoundaryCondition: Nothing)\n",
       "├── bottom: FluxBoundaryCondition: DiscreteBoundaryFunction v_bottom_drag with parameters 0.003\n",
       "├── top: FluxBoundaryCondition: DiscreteBoundaryFunction surface_wind_stress with parameters 119×42×12 Array{Float64, 3}\n",
       "└── immersed: ImmersedBoundaryCondition with west=Value, east=Value, south=Value, north=Value, bottom=Flux, top=Nothing"
      ]
     },
     "execution_count": 42,
     "metadata": {},
     "output_type": "execute_result"
    }
   ],
   "source": [
    "u_bcs = FieldBoundaryConditions(top = u_wind_stress_bc,\n",
    "                                bottom = u_bottom_drag_bc,\n",
    "                                immersed = u_immersed_bc)\n",
    "\n",
    "v_bcs = FieldBoundaryConditions(top = v_wind_stress_bc,\n",
    "                                bottom = v_bottom_drag_bc,\n",
    "                                immersed = v_immersed_bc)"
   ]
  },
  {
   "cell_type": "markdown",
   "id": "3194056a-b2cf-4061-b102-6a702d4b790f",
   "metadata": {},
   "source": [
    "## BGC boundary conditions"
   ]
  },
  {
   "cell_type": "code",
   "execution_count": 43,
   "id": "f9f24b29-501d-4762-b835-a303e6af2847",
   "metadata": {},
   "outputs": [
    {
     "data": {
      "text/plain": [
       "Oceananigans.FieldBoundaryConditions, with boundary conditions\n",
       "├── west: DefaultBoundaryCondition (FluxBoundaryCondition: Nothing)\n",
       "├── east: DefaultBoundaryCondition (FluxBoundaryCondition: Nothing)\n",
       "├── south: DefaultBoundaryCondition (FluxBoundaryCondition: Nothing)\n",
       "├── north: DefaultBoundaryCondition (FluxBoundaryCondition: Nothing)\n",
       "├── bottom: FluxBoundaryCondition: DiscreteBoundaryFunction with HET_bottom_cond\n",
       "├── top: DefaultBoundaryCondition (FluxBoundaryCondition: Nothing)\n",
       "└── immersed: DefaultBoundaryCondition (FluxBoundaryCondition: Nothing)"
      ]
     },
     "execution_count": 43,
     "metadata": {},
     "output_type": "execute_result"
    }
   ],
   "source": [
    "# for the bottom boundary\n",
    "O2_suboxic = 30.0  # OXY threshold for oxic/suboxic switch (mmol/m3)\n",
    "Trel = 10000.      # Relaxation time for exchange with the sediments (s/m)\n",
    "b_ox = 15.0        # difference of OXY in the sediment and water, \n",
    "b_NUT = 15.        # NUT in the sediment, (mmol/m3)  \n",
    "b_DOM_ox = 10.0    # OM in the sediment (oxic conditions), (mmol/m3) \n",
    "b_DOM_anox =20.0   # OM in the sediment (anoxic conditions), (mmol/m3)  \n",
    "bu = 0.7           # Burial coeficient for lower boundary (0<Bu<1), 1 - for no burying, (nd)\n",
    "\n",
    "@inline F_ox(conc,threshold)    = (0.5+0.5*tanh(conc-threshold))\n",
    "@inline F_subox(conc,threshold) = (0.5-0.5*tanh(conc-threshold))\n",
    "\n",
    "#---OXY----------------------\n",
    "OXY_top = GasExchange(; gas = :OXY)\n",
    "  @inline OXY_bottom_cond(i, j, grid, clock, fields) =  \n",
    "    @inbounds - (F_ox(fields.OXY[i, j, 1], O2_suboxic) * b_ox + F_subox(fields.OXY[i, j, 1], O2_suboxic) * (0.0 - fields.OXY[i, j, 1])) / Trel\n",
    "OXY_bottom = FluxBoundaryCondition(OXY_bottom_cond,  discrete_form = true,)\n",
    "\n",
    "#---NUT----------------------\n",
    "  @inline NUT_bottom_cond(i, j, grid, clock, fields ) =  \n",
    "    @inbounds (F_ox(fields.OXY[i, j, 1], O2_suboxic) * (b_NUT - fields.NUT[i, j, 1]) + F_subox(fields.OXY[i, j, 1], O2_suboxic) * (0.0 - fields.NUT[i, j, 1])) / Trel\n",
    "NUT_bottom = FluxBoundaryCondition(NUT_bottom_cond,  discrete_form = true,) #ValueBoundaryCondition(10.0)\n",
    "\n",
    "#---PHY----------------------\n",
    "  w_PHY = biogeochemical_drift_velocity(biogeochemistry, Val(:PHY)).w[1, 1, 1] \n",
    "  @inline PHY_bottom_cond(i, j, grid, clock, fields ) = @inbounds  - bu * w_PHY * fields.PHY[i, j, 1] \n",
    "PHY_bottom = FluxBoundaryCondition(PHY_bottom_cond,  discrete_form = true,)\n",
    "\n",
    "#---HET----------------------\n",
    "  w_HET = biogeochemical_drift_velocity(biogeochemistry, Val(:HET)).w[1, 1, 1]\n",
    "  @inline HET_bottom_cond(i, j, grid, clock, fields ) = @inbounds - bu * w_HET *  fields.HET[i, j, 1] \n",
    "HET_bottom = FluxBoundaryCondition(HET_bottom_cond,  discrete_form = true,)\n",
    "\n",
    "#---POM----------------------\n",
    "w_POM = biogeochemical_drift_velocity(biogeochemistry, Val(:POM)).w[1, 1, 1] \n",
    "@inline POM_bottom_cond(i, j, grid, clock, fields ) = @inbounds - bu * w_POM * fields.POM[i, j, 1] \n",
    "POM_bottom = FluxBoundaryCondition(POM_bottom_cond,  discrete_form = true,)\n",
    "\n",
    "#---DOM----------------------\n",
    "DOM_top = ValueBoundaryCondition(0.0)\n",
    "@inline DOM_bottom_cond(i, j, grid, clock, fields ) =  \n",
    "@inbounds (F_ox(fields.OXY[i, j, 1], O2_suboxic) * (b_DOM_ox - fields.DOM[i, j, 1]) + F_subox(fields.OXY[i, j, 1], O2_suboxic) * 2.0 * (b_DOM_anox - fields.DOM[i, j, 1])) / Trel\n",
    "DOM_bottom = FluxBoundaryCondition(DOM_bottom_cond, discrete_form = true) #, parameters = (; O2_suboxic, b_DOM_ox, Trel),)\n",
    "\n",
    "oxy_bcs = FieldBoundaryConditions(top = OXY_top, bottom = OXY_bottom)\n",
    "nut_bcs = FieldBoundaryConditions(bottom = NUT_bottom)\n",
    "dom_bcs = FieldBoundaryConditions(top = DOM_top, bottom = DOM_bottom)\n",
    "pom_bcs = FieldBoundaryConditions(bottom = POM_bottom)\n",
    "phy_bcs = FieldBoundaryConditions(bottom = PHY_bottom)\n",
    "het_bcs = FieldBoundaryConditions(bottom = HET_bottom)"
   ]
  },
  {
   "cell_type": "code",
   "execution_count": 44,
   "id": "d0c6a357-30cf-4770-aff3-c4267d2a3be7",
   "metadata": {
    "scrolled": true
   },
   "outputs": [
    {
     "data": {
      "text/plain": [
       "(u = Oceananigans.FieldBoundaryConditions, with boundary conditions\n",
       "├── west: DefaultBoundaryCondition (FluxBoundaryCondition: Nothing)\n",
       "├── east: DefaultBoundaryCondition (FluxBoundaryCondition: Nothing)\n",
       "├── south: DefaultBoundaryCondition (FluxBoundaryCondition: Nothing)\n",
       "├── north: DefaultBoundaryCondition (FluxBoundaryCondition: Nothing)\n",
       "├── bottom: FluxBoundaryCondition: DiscreteBoundaryFunction u_bottom_drag with parameters 0.003\n",
       "├── top: FluxBoundaryCondition: DiscreteBoundaryFunction surface_wind_stress with parameters 119×42×12 Array{Float64, 3}\n",
       "└── immersed: ImmersedBoundaryCondition with west=Value, east=Value, south=Value, north=Value, bottom=Flux, top=Nothing, v = Oceananigans.FieldBoundaryConditions, with boundary conditions\n",
       "├── west: DefaultBoundaryCondition (FluxBoundaryCondition: Nothing)\n",
       "├── east: DefaultBoundaryCondition (FluxBoundaryCondition: Nothing)\n",
       "├── south: DefaultBoundaryCondition (FluxBoundaryCondition: Nothing)\n",
       "├── north: DefaultBoundaryCondition (FluxBoundaryCondition: Nothing)\n",
       "├── bottom: FluxBoundaryCondition: DiscreteBoundaryFunction v_bottom_drag with parameters 0.003\n",
       "├── top: FluxBoundaryCondition: DiscreteBoundaryFunction surface_wind_stress with parameters 119×42×12 Array{Float64, 3}\n",
       "└── immersed: ImmersedBoundaryCondition with west=Value, east=Value, south=Value, north=Value, bottom=Flux, top=Nothing, OXY = Oceananigans.FieldBoundaryConditions, with boundary conditions\n",
       "├── west: DefaultBoundaryCondition (FluxBoundaryCondition: Nothing)\n",
       "├── east: DefaultBoundaryCondition (FluxBoundaryCondition: Nothing)\n",
       "├── south: DefaultBoundaryCondition (FluxBoundaryCondition: Nothing)\n",
       "├── north: DefaultBoundaryCondition (FluxBoundaryCondition: Nothing)\n",
       "├── bottom: FluxBoundaryCondition: DiscreteBoundaryFunction with OXY_bottom_cond\n",
       "├── top: FluxBoundaryCondition: ContinuousBoundaryFunction (::GasExchange{Val{:OXY}, @NamedTuple{A::Float64, B::Float64, C::Float64, D::Float64}, @NamedTuple{A₁::Float64, A₂::Float64, A₃::Float64, B₁::Float64, B₂::Float64, B₃::Float64}, Float64, Float64, Float64, Nothing}) at (Nothing, Nothing, Nothing)\n",
       "└── immersed: DefaultBoundaryCondition (FluxBoundaryCondition: Nothing), NUT = Oceananigans.FieldBoundaryConditions, with boundary conditions\n",
       "├── west: DefaultBoundaryCondition (FluxBoundaryCondition: Nothing)\n",
       "├── east: DefaultBoundaryCondition (FluxBoundaryCondition: Nothing)\n",
       "├── south: DefaultBoundaryCondition (FluxBoundaryCondition: Nothing)\n",
       "├── north: DefaultBoundaryCondition (FluxBoundaryCondition: Nothing)\n",
       "├── bottom: FluxBoundaryCondition: DiscreteBoundaryFunction with NUT_bottom_cond\n",
       "├── top: DefaultBoundaryCondition (FluxBoundaryCondition: Nothing)\n",
       "└── immersed: DefaultBoundaryCondition (FluxBoundaryCondition: Nothing), DOM = Oceananigans.FieldBoundaryConditions, with boundary conditions\n",
       "├── west: DefaultBoundaryCondition (FluxBoundaryCondition: Nothing)\n",
       "├── east: DefaultBoundaryCondition (FluxBoundaryCondition: Nothing)\n",
       "├── south: DefaultBoundaryCondition (FluxBoundaryCondition: Nothing)\n",
       "├── north: DefaultBoundaryCondition (FluxBoundaryCondition: Nothing)\n",
       "├── bottom: FluxBoundaryCondition: DiscreteBoundaryFunction with DOM_bottom_cond\n",
       "├── top: ValueBoundaryCondition: 0.0\n",
       "└── immersed: DefaultBoundaryCondition (FluxBoundaryCondition: Nothing), POM = Oceananigans.FieldBoundaryConditions, with boundary conditions\n",
       "├── west: DefaultBoundaryCondition (FluxBoundaryCondition: Nothing)\n",
       "├── east: DefaultBoundaryCondition (FluxBoundaryCondition: Nothing)\n",
       "├── south: DefaultBoundaryCondition (FluxBoundaryCondition: Nothing)\n",
       "├── north: DefaultBoundaryCondition (FluxBoundaryCondition: Nothing)\n",
       "├── bottom: FluxBoundaryCondition: DiscreteBoundaryFunction with POM_bottom_cond\n",
       "├── top: DefaultBoundaryCondition (FluxBoundaryCondition: Nothing)\n",
       "└── immersed: DefaultBoundaryCondition (FluxBoundaryCondition: Nothing), PHY = Oceananigans.FieldBoundaryConditions, with boundary conditions\n",
       "├── west: DefaultBoundaryCondition (FluxBoundaryCondition: Nothing)\n",
       "├── east: DefaultBoundaryCondition (FluxBoundaryCondition: Nothing)\n",
       "├── south: DefaultBoundaryCondition (FluxBoundaryCondition: Nothing)\n",
       "├── north: DefaultBoundaryCondition (FluxBoundaryCondition: Nothing)\n",
       "├── bottom: FluxBoundaryCondition: DiscreteBoundaryFunction with PHY_bottom_cond\n",
       "├── top: DefaultBoundaryCondition (FluxBoundaryCondition: Nothing)\n",
       "└── immersed: DefaultBoundaryCondition (FluxBoundaryCondition: Nothing), HET = Oceananigans.FieldBoundaryConditions, with boundary conditions\n",
       "├── west: DefaultBoundaryCondition (FluxBoundaryCondition: Nothing)\n",
       "├── east: DefaultBoundaryCondition (FluxBoundaryCondition: Nothing)\n",
       "├── south: DefaultBoundaryCondition (FluxBoundaryCondition: Nothing)\n",
       "├── north: DefaultBoundaryCondition (FluxBoundaryCondition: Nothing)\n",
       "├── bottom: FluxBoundaryCondition: DiscreteBoundaryFunction with HET_bottom_cond\n",
       "├── top: DefaultBoundaryCondition (FluxBoundaryCondition: Nothing)\n",
       "└── immersed: DefaultBoundaryCondition (FluxBoundaryCondition: Nothing))"
      ]
     },
     "execution_count": 44,
     "metadata": {},
     "output_type": "execute_result"
    }
   ],
   "source": [
    "boundary_conditions = (\n",
    "    u=u_bcs, v=v_bcs,\n",
    "    OXY = oxy_bcs, NUT = nut_bcs,\n",
    "    DOM = dom_bcs, POM = pom_bcs,\n",
    "    PHY = phy_bcs, HET = het_bcs,\n",
    ")"
   ]
  },
  {
   "cell_type": "markdown",
   "id": "755f8f7e-637e-4abd-bf1c-1662dcf45f01",
   "metadata": {},
   "source": [
    "# River focing"
   ]
  },
  {
   "cell_type": "code",
   "execution_count": 45,
   "id": "499dc771-0696-4d99-80b7-cea006c65573",
   "metadata": {},
   "outputs": [],
   "source": [
    "# @inline Fu(i, j, k, grid, t, U, C, p) = @inbounds -μ(grid.zC[k], grid.Lz) * U.u[i, j, k]\n",
    "# @inline Fv(i, j, k, grid, t, U, C, p) = @inbounds -μ(grid.zC[k], grid.Lz) * U.v[i, j, k]\n",
    "# @inline Fw(i, j, k, grid, t, U, C, p) = @inbounds -μ(grid.zF[k], grid.Lz) * U.w[i, j, k]"
   ]
  },
  {
   "cell_type": "code",
   "execution_count": 46,
   "id": "4ec0d9a2-e241-46f3-8ad4-334fd4f92764",
   "metadata": {},
   "outputs": [
    {
     "data": {
      "text/plain": [
       "(T_source = 15, S_source = 0, λ = 0.016666666666666666)"
      ]
     },
     "execution_count": 46,
     "metadata": {},
     "output_type": "execute_result"
    }
   ],
   "source": [
    "λ = 1/(1minute)  # Relaxation timescale [s⁻¹].\n",
    "\n",
    "# Temperature and salinity of the meltwater outflow.\n",
    "T_source = 15\n",
    "S_source = 0\n",
    "\n",
    "# Index of the point source at the middle of the southern wall.\n",
    "source_index = (1, 13, Nz)\n",
    "\n",
    "# # Point source\n",
    "# @inline T_point_source(i, j, k, grid, time, U, C, p) =\n",
    "#     @inbounds ifelse((i, j, k) == p.source_index, -p.λ * (C.T[i, j, k] - p.T_source), 0)\n",
    "\n",
    "# @inline S_point_source(i, j, k, grid, time, U, C, p) =\n",
    "#     @inbounds ifelse((i, j, k) == p.source_index, -p.λ * (C.S[i, j, k] - p.S_source), 0)\n",
    "\n",
    "# Point source\n",
    "T_point_source(i, j, k, grid, clock, model_fields) =\n",
    "    @inbounds ifelse((i, j, k) == (1, 13, Nz), -λ * (model_fields.T[i, j, k] - T_source), 0)\n",
    "\n",
    "S_point_source(i, j, k, grid, clock, model_fields) =\n",
    "    @inbounds ifelse((i, j, k) == (1, 13, Nz), -λ * (model_fields.S[i, j, k] - S_source), 0)\n",
    "\n",
    "# params = (source_index=source_index, T_source=T_source, S_source=S_source, λ=λ)\n",
    "params = (T_source=T_source, S_source=S_source, λ=λ)"
   ]
  },
  {
   "cell_type": "code",
   "execution_count": 48,
   "id": "d3178a5a-4540-44b7-846e-92bf1b1b1224",
   "metadata": {},
   "outputs": [
    {
     "data": {
      "text/plain": [
       "DiscreteForcing{Nothing}\n",
       "├── func: S_point_source (generic function with 1 method)\n",
       "└── parameters: nothing"
      ]
     },
     "execution_count": 48,
     "metadata": {},
     "output_type": "execute_result"
    }
   ],
   "source": [
    "# Tforcing = Forcing(T_point_source, parameters=params)\n",
    "Tforcing = Forcing(T_point_source, field_dependencies=:T, discrete_form=true)\n",
    "Sforcing = Forcing(S_point_source, field_dependencies=:S, discrete_form=true)"
   ]
  },
  {
   "cell_type": "markdown",
   "id": "d8cdb647-7ea0-43f5-98a4-0354e9d83a01",
   "metadata": {},
   "source": [
    "File Nx*Ny with athmospheric forcing"
   ]
  },
  {
   "cell_type": "markdown",
   "id": "e6a8d001-45bb-4563-8d0d-44c6f5269c76",
   "metadata": {},
   "source": [
    "# Model"
   ]
  },
  {
   "cell_type": "code",
   "execution_count": null,
   "id": "26f27e35-3366-4969-b800-a5bebfa76b9a",
   "metadata": {},
   "outputs": [],
   "source": [
    "surface_photosynthetically_active_radiation = PAR⁰,\n",
    "#                           particles = nothing)"
   ]
  },
  {
   "cell_type": "code",
   "execution_count": 225,
   "id": "642c3bc0-3ecd-4628-ba07-b5a3ea8525dd",
   "metadata": {
    "scrolled": true
   },
   "outputs": [
    {
     "ename": "LoadError",
     "evalue": "(:PAR, :T) must be among the list of auxiliary fields to use Biogeochemistry",
     "output_type": "error",
     "traceback": [
      "(:PAR, :T) must be among the list of auxiliary fields to use Biogeochemistry",
      "",
      "Stacktrace:",
      " [1] error(s::String)",
      "   @ Base .\\error.jl:35",
      " [2] validate_biogeochemistry",
      "   @ C:\\Users\\ABE\\.julia\\packages\\Oceananigans\\aI5AQ\\src\\Biogeochemistry.jl:162 [inlined]",
      " [3] HydrostaticFreeSurfaceModel(; grid::ImmersedBoundaryGrid{Float64, Bounded, Bounded, Bounded, RectilinearGrid{Float64, Bounded, Bounded, Bounded, Float64, Float64, OffsetArrays.OffsetVector{Float64, Vector{Float64}}, OffsetArrays.OffsetVector{Float64, StepRangeLen{Float64, Base.TwicePrecision{Float64}, Base.TwicePrecision{Float64}, Int64}}, OffsetArrays.OffsetVector{Float64, StepRangeLen{Float64, Base.TwicePrecision{Float64}, Base.TwicePrecision{Float64}, Int64}}, OffsetArrays.OffsetVector{Float64, Vector{Float64}}, CPU}, GridFittedBottom{Field{Center, Center, Nothing, Nothing, RectilinearGrid{Float64, Bounded, Bounded, Bounded, Float64, Float64, OffsetArrays.OffsetVector{Float64, Vector{Float64}}, OffsetArrays.OffsetVector{Float64, StepRangeLen{Float64, Base.TwicePrecision{Float64}, Base.TwicePrecision{Float64}, Int64}}, OffsetArrays.OffsetVector{Float64, StepRangeLen{Float64, Base.TwicePrecision{Float64}, Base.TwicePrecision{Float64}, Int64}}, OffsetArrays.OffsetVector{Float64, Vector{Float64}}, CPU}, Tuple{Colon, Colon, Colon}, OffsetArrays.OffsetArray{Float64, 3, Array{Float64, 3}}, Float64, FieldBoundaryConditions{BoundaryCondition{Oceananigans.BoundaryConditions.Flux, Nothing}, BoundaryCondition{Oceananigans.BoundaryConditions.Flux, Nothing}, BoundaryCondition{Oceananigans.BoundaryConditions.Flux, Nothing}, BoundaryCondition{Oceananigans.BoundaryConditions.Flux, Nothing}, Nothing, Nothing, BoundaryCondition{Oceananigans.BoundaryConditions.Flux, Nothing}}, Nothing, Oceananigans.Fields.FieldBoundaryBuffers{Nothing, Nothing, Nothing, Nothing, Nothing, Nothing, Nothing, Nothing}}, Oceananigans.ImmersedBoundaries.CenterImmersedCondition}, Vector{Tuple{UInt8, UInt8, UInt8}}, Vector{Tuple{UInt8, UInt8}}, CPU}, clock::Clock{Float64, Float64}, momentum_advection::VectorInvariant{1, Float64, false, EnstrophyConserving{Float64}, Oceananigans.Advection.VelocityStencil, EnergyConserving{Float64}, EnergyConserving{Float64}, EnergyConserving{Float64}, Oceananigans.Advection.OnlySelfUpwinding{EnergyConserving{Float64}, Oceananigans.Advection.FunctionStencil{typeof(Oceananigans.Advection.divergence_smoothness)}, Oceananigans.Advection.FunctionStencil{typeof(Oceananigans.Advection.divergence_smoothness)}, Oceananigans.Advection.FunctionStencil{typeof(Oceananigans.Advection.u_smoothness)}, Oceananigans.Advection.FunctionStencil{typeof(Oceananigans.Advection.v_smoothness)}}}, tracer_advection::WENO{3, Float64, Nothing, Nothing, NTuple{4, OffsetArrays.OffsetVector{Tuple{Float64, Float64, Float64}, Vector{Tuple{Float64, Float64, Float64}}}}, true, Nothing, WENO{2, Float64, Nothing, Nothing, Tuple{OffsetArrays.OffsetVector{Tuple{Float64, Float64}, Vector{Tuple{Float64, Float64}}}, OffsetArrays.OffsetVector{Tuple{Float64, Float64}, Vector{Tuple{Float64, Float64}}}, OffsetArrays.OffsetVector{Tuple{Float64, Float64}, Vector{Tuple{Float64, Float64}}}}, true, Nothing, UpwindBiased{1, Float64, Nothing, Nothing, Nothing, Nothing, Centered{1, Float64, Nothing, Nothing, Nothing, Nothing}}, Centered{1, Float64, Nothing, Nothing, Nothing, Nothing}}, Centered{2, Float64, Nothing, Nothing, Nothing, Centered{1, Float64, Nothing, Nothing, Nothing, Nothing}}}, buoyancy::SeawaterBuoyancy{Float64, LinearEquationOfState{Float64}, Nothing, Nothing}, coriolis::Nothing, free_surface::SplitExplicitFreeSurface{Nothing, Nothing, Nothing, Float64, Oceananigans.Models.HydrostaticFreeSurfaceModels.SplitExplicitSettings{Oceananigans.Models.HydrostaticFreeSurfaceModels.FixedTimeStepSize{Float64, typeof(Oceananigans.Models.HydrostaticFreeSurfaceModels.averaging_shape_function)}, Oceananigans.Models.HydrostaticFreeSurfaceModels.ForwardBackwardScheme}}, tracers::NTuple{8, Symbol}, forcing::@NamedTuple{T::DiscreteForcing{Nothing, typeof(T_point_source)}, S::DiscreteForcing{Nothing, typeof(S_point_source)}}, closure::Tuple{VerticalScalarDiffusivity{VerticallyImplicitTimeDiscretization, typeof(νz), Float64, 1}, HorizontalScalarDiffusivity{Oceananigans.TurbulenceClosures.ExplicitTimeDiscretization, Float64, Float64, 1}, ConvectiveAdjustmentVerticalDiffusivity{VerticallyImplicitTimeDiscretization, Float64, Float64, Float64, Float64}, IsopycnalSkewSymmetricDiffusivity{VerticallyImplicitTimeDiscretization, Float64, Float64, Oceananigans.TurbulenceClosures.SmallSlopeIsopycnalTensor{Float64}, FluxTapering{Float64}, 1}}, boundary_conditions::@NamedTuple{u::FieldBoundaryConditions{Oceananigans.BoundaryConditions.DefaultBoundaryCondition{BoundaryCondition{Oceananigans.BoundaryConditions.Flux, Nothing}}, Oceananigans.BoundaryConditions.DefaultBoundaryCondition{BoundaryCondition{Oceananigans.BoundaryConditions.Flux, Nothing}}, Oceananigans.BoundaryConditions.DefaultBoundaryCondition{BoundaryCondition{Oceananigans.BoundaryConditions.Flux, Nothing}}, Oceananigans.BoundaryConditions.DefaultBoundaryCondition{BoundaryCondition{Oceananigans.BoundaryConditions.Flux, Nothing}}, BoundaryCondition{Oceananigans.BoundaryConditions.Flux, Oceananigans.BoundaryConditions.DiscreteBoundaryFunction{Float64, typeof(u_bottom_drag)}}, BoundaryCondition{Oceananigans.BoundaryConditions.Flux, Oceananigans.BoundaryConditions.DiscreteBoundaryFunction{Array{Float64, 3}, typeof(surface_wind_stress)}}, ImmersedBoundaryCondition{BoundaryCondition{Oceananigans.BoundaryConditions.Value, Int64}, BoundaryCondition{Oceananigans.BoundaryConditions.Value, Int64}, BoundaryCondition{Oceananigans.BoundaryConditions.Value, Int64}, BoundaryCondition{Oceananigans.BoundaryConditions.Value, Int64}, BoundaryCondition{Oceananigans.BoundaryConditions.Flux, Oceananigans.BoundaryConditions.DiscreteBoundaryFunction{Float64, typeof(u_immersed_bottom_drag)}}, Nothing}}, v::FieldBoundaryConditions{Oceananigans.BoundaryConditions.DefaultBoundaryCondition{BoundaryCondition{Oceananigans.BoundaryConditions.Flux, Nothing}}, Oceananigans.BoundaryConditions.DefaultBoundaryCondition{BoundaryCondition{Oceananigans.BoundaryConditions.Flux, Nothing}}, Oceananigans.BoundaryConditions.DefaultBoundaryCondition{BoundaryCondition{Oceananigans.BoundaryConditions.Flux, Nothing}}, Oceananigans.BoundaryConditions.DefaultBoundaryCondition{BoundaryCondition{Oceananigans.BoundaryConditions.Flux, Nothing}}, BoundaryCondition{Oceananigans.BoundaryConditions.Flux, Oceananigans.BoundaryConditions.DiscreteBoundaryFunction{Float64, typeof(v_bottom_drag)}}, BoundaryCondition{Oceananigans.BoundaryConditions.Flux, Oceananigans.BoundaryConditions.DiscreteBoundaryFunction{Array{Float64, 3}, typeof(surface_wind_stress)}}, ImmersedBoundaryCondition{BoundaryCondition{Oceananigans.BoundaryConditions.Value, Int64}, BoundaryCondition{Oceananigans.BoundaryConditions.Value, Int64}, BoundaryCondition{Oceananigans.BoundaryConditions.Value, Int64}, BoundaryCondition{Oceananigans.BoundaryConditions.Value, Int64}, BoundaryCondition{Oceananigans.BoundaryConditions.Flux, Oceananigans.BoundaryConditions.DiscreteBoundaryFunction{Float64, typeof(v_immersed_bottom_drag)}}, Nothing}}, OXY::FieldBoundaryConditions{Oceananigans.BoundaryConditions.DefaultBoundaryCondition{BoundaryCondition{Oceananigans.BoundaryConditions.Flux, Nothing}}, Oceananigans.BoundaryConditions.DefaultBoundaryCondition{BoundaryCondition{Oceananigans.BoundaryConditions.Flux, Nothing}}, Oceananigans.BoundaryConditions.DefaultBoundaryCondition{BoundaryCondition{Oceananigans.BoundaryConditions.Flux, Nothing}}, Oceananigans.BoundaryConditions.DefaultBoundaryCondition{BoundaryCondition{Oceananigans.BoundaryConditions.Flux, Nothing}}, BoundaryCondition{Oceananigans.BoundaryConditions.Flux, Oceananigans.BoundaryConditions.DiscreteBoundaryFunction{Nothing, typeof(OXY_bottom_cond)}}, BoundaryCondition{Oceananigans.BoundaryConditions.Flux, Oceananigans.BoundaryConditions.ContinuousBoundaryFunction{Nothing, Nothing, Nothing, Nothing, GasExchange{Val{:OXY}, @NamedTuple{A::Float64, B::Float64, C::Float64, D::Float64}, @NamedTuple{A₁::Float64, A₂::Float64, A₃::Float64, B₁::Float64, B₂::Float64, B₃::Float64}, Float64, Float64, Float64, Nothing}, Nothing, Tuple{Symbol, Symbol, Symbol}, Nothing, Nothing}}, Oceananigans.BoundaryConditions.DefaultBoundaryCondition{BoundaryCondition{Oceananigans.BoundaryConditions.Flux, Nothing}}}, NUT::FieldBoundaryConditions{Oceananigans.BoundaryConditions.DefaultBoundaryCondition{BoundaryCondition{Oceananigans.BoundaryConditions.Flux, Nothing}}, Oceananigans.BoundaryConditions.DefaultBoundaryCondition{BoundaryCondition{Oceananigans.BoundaryConditions.Flux, Nothing}}, Oceananigans.BoundaryConditions.DefaultBoundaryCondition{BoundaryCondition{Oceananigans.BoundaryConditions.Flux, Nothing}}, Oceananigans.BoundaryConditions.DefaultBoundaryCondition{BoundaryCondition{Oceananigans.BoundaryConditions.Flux, Nothing}}, BoundaryCondition{Oceananigans.BoundaryConditions.Flux, Oceananigans.BoundaryConditions.DiscreteBoundaryFunction{Nothing, typeof(NUT_bottom_cond)}}, Oceananigans.BoundaryConditions.DefaultBoundaryCondition{BoundaryCondition{Oceananigans.BoundaryConditions.Flux, Nothing}}, Oceananigans.BoundaryConditions.DefaultBoundaryCondition{BoundaryCondition{Oceananigans.BoundaryConditions.Flux, Nothing}}}, DOM::FieldBoundaryConditions{Oceananigans.BoundaryConditions.DefaultBoundaryCondition{BoundaryCondition{Oceananigans.BoundaryConditions.Flux, Nothing}}, Oceananigans.BoundaryConditions.DefaultBoundaryCondition{BoundaryCondition{Oceananigans.BoundaryConditions.Flux, Nothing}}, Oceananigans.BoundaryConditions.DefaultBoundaryCondition{BoundaryCondition{Oceananigans.BoundaryConditions.Flux, Nothing}}, Oceananigans.BoundaryConditions.DefaultBoundaryCondition{BoundaryCondition{Oceananigans.BoundaryConditions.Flux, Nothing}}, BoundaryCondition{Oceananigans.BoundaryConditions.Flux, Oceananigans.BoundaryConditions.DiscreteBoundaryFunction{Nothing, typeof(DOM_bottom_cond)}}, BoundaryCondition{Oceananigans.BoundaryConditions.Value, Float64}, Oceananigans.BoundaryConditions.DefaultBoundaryCondition{BoundaryCondition{Oceananigans.BoundaryConditions.Flux, Nothing}}}, POM::FieldBoundaryConditions{Oceananigans.BoundaryConditions.DefaultBoundaryCondition{BoundaryCondition{Oceananigans.BoundaryConditions.Flux, Nothing}}, Oceananigans.BoundaryConditions.DefaultBoundaryCondition{BoundaryCondition{Oceananigans.BoundaryConditions.Flux, Nothing}}, Oceananigans.BoundaryConditions.DefaultBoundaryCondition{BoundaryCondition{Oceananigans.BoundaryConditions.Flux, Nothing}}, Oceananigans.BoundaryConditions.DefaultBoundaryCondition{BoundaryCondition{Oceananigans.BoundaryConditions.Flux, Nothing}}, BoundaryCondition{Oceananigans.BoundaryConditions.Flux, Oceananigans.BoundaryConditions.DiscreteBoundaryFunction{Nothing, typeof(POM_bottom_cond)}}, Oceananigans.BoundaryConditions.DefaultBoundaryCondition{BoundaryCondition{Oceananigans.BoundaryConditions.Flux, Nothing}}, Oceananigans.BoundaryConditions.DefaultBoundaryCondition{BoundaryCondition{Oceananigans.BoundaryConditions.Flux, Nothing}}}, PHY::FieldBoundaryConditions{Oceananigans.BoundaryConditions.DefaultBoundaryCondition{BoundaryCondition{Oceananigans.BoundaryConditions.Flux, Nothing}}, Oceananigans.BoundaryConditions.DefaultBoundaryCondition{BoundaryCondition{Oceananigans.BoundaryConditions.Flux, Nothing}}, Oceananigans.BoundaryConditions.DefaultBoundaryCondition{BoundaryCondition{Oceananigans.BoundaryConditions.Flux, Nothing}}, Oceananigans.BoundaryConditions.DefaultBoundaryCondition{BoundaryCondition{Oceananigans.BoundaryConditions.Flux, Nothing}}, BoundaryCondition{Oceananigans.BoundaryConditions.Flux, Oceananigans.BoundaryConditions.DiscreteBoundaryFunction{Nothing, typeof(PHY_bottom_cond)}}, Oceananigans.BoundaryConditions.DefaultBoundaryCondition{BoundaryCondition{Oceananigans.BoundaryConditions.Flux, Nothing}}, Oceananigans.BoundaryConditions.DefaultBoundaryCondition{BoundaryCondition{Oceananigans.BoundaryConditions.Flux, Nothing}}}, HET::FieldBoundaryConditions{Oceananigans.BoundaryConditions.DefaultBoundaryCondition{BoundaryCondition{Oceananigans.BoundaryConditions.Flux, Nothing}}, Oceananigans.BoundaryConditions.DefaultBoundaryCondition{BoundaryCondition{Oceananigans.BoundaryConditions.Flux, Nothing}}, Oceananigans.BoundaryConditions.DefaultBoundaryCondition{BoundaryCondition{Oceananigans.BoundaryConditions.Flux, Nothing}}, Oceananigans.BoundaryConditions.DefaultBoundaryCondition{BoundaryCondition{Oceananigans.BoundaryConditions.Flux, Nothing}}, BoundaryCondition{Oceananigans.BoundaryConditions.Flux, Oceananigans.BoundaryConditions.DiscreteBoundaryFunction{Nothing, typeof(HET_bottom_cond)}}, Oceananigans.BoundaryConditions.DefaultBoundaryCondition{BoundaryCondition{Oceananigans.BoundaryConditions.Flux, Nothing}}, Oceananigans.BoundaryConditions.DefaultBoundaryCondition{BoundaryCondition{Oceananigans.BoundaryConditions.Flux, Nothing}}}}, particles::Nothing, biogeochemistry::Biogeochemistry{OxygenDepletionModel{Float64, @NamedTuple{PHY::Field{Center, Center, Face, Nothing, ImmersedBoundaryGrid{Float64, Bounded, Bounded, Bounded, RectilinearGrid{Float64, Bounded, Bounded, Bounded, Float64, Float64, OffsetArrays.OffsetVector{Float64, Vector{Float64}}, OffsetArrays.OffsetVector{Float64, StepRangeLen{Float64, Base.TwicePrecision{Float64}, Base.TwicePrecision{Float64}, Int64}}, OffsetArrays.OffsetVector{Float64, StepRangeLen{Float64, Base.TwicePrecision{Float64}, Base.TwicePrecision{Float64}, Int64}}, OffsetArrays.OffsetVector{Float64, Vector{Float64}}, CPU}, GridFittedBottom{Field{Center, Center, Nothing, Nothing, RectilinearGrid{Float64, Bounded, Bounded, Bounded, Float64, Float64, OffsetArrays.OffsetVector{Float64, Vector{Float64}}, OffsetArrays.OffsetVector{Float64, StepRangeLen{Float64, Base.TwicePrecision{Float64}, Base.TwicePrecision{Float64}, Int64}}, OffsetArrays.OffsetVector{Float64, StepRangeLen{Float64, Base.TwicePrecision{Float64}, Base.TwicePrecision{Float64}, Int64}}, OffsetArrays.OffsetVector{Float64, Vector{Float64}}, CPU}, Tuple{Colon, Colon, Colon}, OffsetArrays.OffsetArray{Float64, 3, Array{Float64, 3}}, Float64, FieldBoundaryConditions{BoundaryCondition{Oceananigans.BoundaryConditions.Flux, Nothing}, BoundaryCondition{Oceananigans.BoundaryConditions.Flux, Nothing}, BoundaryCondition{Oceananigans.BoundaryConditions.Flux, Nothing}, BoundaryCondition{Oceananigans.BoundaryConditions.Flux, Nothing}, Nothing, Nothing, BoundaryCondition{Oceananigans.BoundaryConditions.Flux, Nothing}}, Nothing, Oceananigans.Fields.FieldBoundaryBuffers{Nothing, Nothing, Nothing, Nothing, Nothing, Nothing, Nothing, Nothing}}, Oceananigans.ImmersedBoundaries.CenterImmersedCondition}, Vector{Tuple{UInt8, UInt8, UInt8}}, Vector{Tuple{UInt8, UInt8}}, CPU}, Tuple{Colon, Colon, Colon}, OffsetArrays.OffsetArray{Float64, 3, Array{Float64, 3}}, Float64, FieldBoundaryConditions{BoundaryCondition{Oceananigans.BoundaryConditions.Flux, Nothing}, BoundaryCondition{Oceananigans.BoundaryConditions.Flux, Nothing}, BoundaryCondition{Oceananigans.BoundaryConditions.Flux, Nothing}, BoundaryCondition{Oceananigans.BoundaryConditions.Flux, Nothing}, Nothing, Nothing, BoundaryCondition{Oceananigans.BoundaryConditions.Flux, Nothing}}, Nothing, Oceananigans.Fields.FieldBoundaryBuffers{Nothing, Nothing, Nothing, Nothing, Nothing, Nothing, Nothing, Nothing}}, HET::Field{Center, Center, Face, Nothing, ImmersedBoundaryGrid{Float64, Bounded, Bounded, Bounded, RectilinearGrid{Float64, Bounded, Bounded, Bounded, Float64, Float64, OffsetArrays.OffsetVector{Float64, Vector{Float64}}, OffsetArrays.OffsetVector{Float64, StepRangeLen{Float64, Base.TwicePrecision{Float64}, Base.TwicePrecision{Float64}, Int64}}, OffsetArrays.OffsetVector{Float64, StepRangeLen{Float64, Base.TwicePrecision{Float64}, Base.TwicePrecision{Float64}, Int64}}, OffsetArrays.OffsetVector{Float64, Vector{Float64}}, CPU}, GridFittedBottom{Field{Center, Center, Nothing, Nothing, RectilinearGrid{Float64, Bounded, Bounded, Bounded, Float64, Float64, OffsetArrays.OffsetVector{Float64, Vector{Float64}}, OffsetArrays.OffsetVector{Float64, StepRangeLen{Float64, Base.TwicePrecision{Float64}, Base.TwicePrecision{Float64}, Int64}}, OffsetArrays.OffsetVector{Float64, StepRangeLen{Float64, Base.TwicePrecision{Float64}, Base.TwicePrecision{Float64}, Int64}}, OffsetArrays.OffsetVector{Float64, Vector{Float64}}, CPU}, Tuple{Colon, Colon, Colon}, OffsetArrays.OffsetArray{Float64, 3, Array{Float64, 3}}, Float64, FieldBoundaryConditions{BoundaryCondition{Oceananigans.BoundaryConditions.Flux, Nothing}, BoundaryCondition{Oceananigans.BoundaryConditions.Flux, Nothing}, BoundaryCondition{Oceananigans.BoundaryConditions.Flux, Nothing}, BoundaryCondition{Oceananigans.BoundaryConditions.Flux, Nothing}, Nothing, Nothing, BoundaryCondition{Oceananigans.BoundaryConditions.Flux, Nothing}}, Nothing, Oceananigans.Fields.FieldBoundaryBuffers{Nothing, Nothing, Nothing, Nothing, Nothing, Nothing, Nothing, Nothing}}, Oceananigans.ImmersedBoundaries.CenterImmersedCondition}, Vector{Tuple{UInt8, UInt8, UInt8}}, Vector{Tuple{UInt8, UInt8}}, CPU}, Tuple{Colon, Colon, Colon}, OffsetArrays.OffsetArray{Float64, 3, Array{Float64, 3}}, Float64, FieldBoundaryConditions{BoundaryCondition{Oceananigans.BoundaryConditions.Flux, Nothing}, BoundaryCondition{Oceananigans.BoundaryConditions.Flux, Nothing}, BoundaryCondition{Oceananigans.BoundaryConditions.Flux, Nothing}, BoundaryCondition{Oceananigans.BoundaryConditions.Flux, Nothing}, Nothing, Nothing, BoundaryCondition{Oceananigans.BoundaryConditions.Flux, Nothing}}, Nothing, Oceananigans.Fields.FieldBoundaryBuffers{Nothing, Nothing, Nothing, Nothing, Nothing, Nothing, Nothing, Nothing}}, POM::Field{Center, Center, Face, Nothing, ImmersedBoundaryGrid{Float64, Bounded, Bounded, Bounded, RectilinearGrid{Float64, Bounded, Bounded, Bounded, Float64, Float64, OffsetArrays.OffsetVector{Float64, Vector{Float64}}, OffsetArrays.OffsetVector{Float64, StepRangeLen{Float64, Base.TwicePrecision{Float64}, Base.TwicePrecision{Float64}, Int64}}, OffsetArrays.OffsetVector{Float64, StepRangeLen{Float64, Base.TwicePrecision{Float64}, Base.TwicePrecision{Float64}, Int64}}, OffsetArrays.OffsetVector{Float64, Vector{Float64}}, CPU}, GridFittedBottom{Field{Center, Center, Nothing, Nothing, RectilinearGrid{Float64, Bounded, Bounded, Bounded, Float64, Float64, OffsetArrays.OffsetVector{Float64, Vector{Float64}}, OffsetArrays.OffsetVector{Float64, StepRangeLen{Float64, Base.TwicePrecision{Float64}, Base.TwicePrecision{Float64}, Int64}}, OffsetArrays.OffsetVector{Float64, StepRangeLen{Float64, Base.TwicePrecision{Float64}, Base.TwicePrecision{Float64}, Int64}}, OffsetArrays.OffsetVector{Float64, Vector{Float64}}, CPU}, Tuple{Colon, Colon, Colon}, OffsetArrays.OffsetArray{Float64, 3, Array{Float64, 3}}, Float64, FieldBoundaryConditions{BoundaryCondition{Oceananigans.BoundaryConditions.Flux, Nothing}, BoundaryCondition{Oceananigans.BoundaryConditions.Flux, Nothing}, BoundaryCondition{Oceananigans.BoundaryConditions.Flux, Nothing}, BoundaryCondition{Oceananigans.BoundaryConditions.Flux, Nothing}, Nothing, Nothing, BoundaryCondition{Oceananigans.BoundaryConditions.Flux, Nothing}}, Nothing, Oceananigans.Fields.FieldBoundaryBuffers{Nothing, Nothing, Nothing, Nothing, Nothing, Nothing, Nothing, Nothing}}, Oceananigans.ImmersedBoundaries.CenterImmersedCondition}, Vector{Tuple{UInt8, UInt8, UInt8}}, Vector{Tuple{UInt8, UInt8}}, CPU}, Tuple{Colon, Colon, Colon}, OffsetArrays.OffsetArray{Float64, 3, Array{Float64, 3}}, Float64, FieldBoundaryConditions{BoundaryCondition{Oceananigans.BoundaryConditions.Flux, Nothing}, BoundaryCondition{Oceananigans.BoundaryConditions.Flux, Nothing}, BoundaryCondition{Oceananigans.BoundaryConditions.Flux, Nothing}, BoundaryCondition{Oceananigans.BoundaryConditions.Flux, Nothing}, Nothing, Nothing, BoundaryCondition{Oceananigans.BoundaryConditions.Flux, Nothing}}, Nothing, Oceananigans.Fields.FieldBoundaryBuffers{Nothing, Nothing, Nothing, Nothing, Nothing, Nothing, Nothing, Nothing}}}}, TwoBandPhotosyntheticallyActiveRadiation{Float64, Field{Center, Center, Center, Nothing, ImmersedBoundaryGrid{Float64, Bounded, Bounded, Bounded, RectilinearGrid{Float64, Bounded, Bounded, Bounded, Float64, Float64, OffsetArrays.OffsetVector{Float64, Vector{Float64}}, OffsetArrays.OffsetVector{Float64, StepRangeLen{Float64, Base.TwicePrecision{Float64}, Base.TwicePrecision{Float64}, Int64}}, OffsetArrays.OffsetVector{Float64, StepRangeLen{Float64, Base.TwicePrecision{Float64}, Base.TwicePrecision{Float64}, Int64}}, OffsetArrays.OffsetVector{Float64, Vector{Float64}}, CPU}, GridFittedBottom{Field{Center, Center, Nothing, Nothing, RectilinearGrid{Float64, Bounded, Bounded, Bounded, Float64, Float64, OffsetArrays.OffsetVector{Float64, Vector{Float64}}, OffsetArrays.OffsetVector{Float64, StepRangeLen{Float64, Base.TwicePrecision{Float64}, Base.TwicePrecision{Float64}, Int64}}, OffsetArrays.OffsetVector{Float64, StepRangeLen{Float64, Base.TwicePrecision{Float64}, Base.TwicePrecision{Float64}, Int64}}, OffsetArrays.OffsetVector{Float64, Vector{Float64}}, CPU}, Tuple{Colon, Colon, Colon}, OffsetArrays.OffsetArray{Float64, 3, Array{Float64, 3}}, Float64, FieldBoundaryConditions{BoundaryCondition{Oceananigans.BoundaryConditions.Flux, Nothing}, BoundaryCondition{Oceananigans.BoundaryConditions.Flux, Nothing}, BoundaryCondition{Oceananigans.BoundaryConditions.Flux, Nothing}, BoundaryCondition{Oceananigans.BoundaryConditions.Flux, Nothing}, Nothing, Nothing, BoundaryCondition{Oceananigans.BoundaryConditions.Flux, Nothing}}, Nothing, Oceananigans.Fields.FieldBoundaryBuffers{Nothing, Nothing, Nothing, Nothing, Nothing, Nothing, Nothing, Nothing}}, Oceananigans.ImmersedBoundaries.CenterImmersedCondition}, Vector{Tuple{UInt8, UInt8, UInt8}}, Vector{Tuple{UInt8, UInt8}}, CPU}, Tuple{Colon, Colon, Colon}, OffsetArrays.OffsetArray{Float64, 3, Array{Float64, 3}}, Float64, FieldBoundaryConditions{BoundaryCondition{Oceananigans.BoundaryConditions.Flux, Nothing}, BoundaryCondition{Oceananigans.BoundaryConditions.Flux, Nothing}, BoundaryCondition{Oceananigans.BoundaryConditions.Flux, Nothing}, BoundaryCondition{Oceananigans.BoundaryConditions.Flux, Nothing}, BoundaryCondition{Oceananigans.BoundaryConditions.Flux, Nothing}, BoundaryCondition{Oceananigans.BoundaryConditions.Value, Oceananigans.BoundaryConditions.ContinuousBoundaryFunction{Center, Center, Nothing, Oceananigans.BoundaryConditions.RightBoundary, typeof(PAR⁰), Nothing, Tuple{}, Tuple{}, Tuple{}}}, BoundaryCondition{Oceananigans.BoundaryConditions.Flux, Nothing}}, Nothing, Oceananigans.Fields.FieldBoundaryBuffers{Nothing, Nothing, Nothing, Nothing, Nothing, Nothing, Nothing, Nothing}}, typeof(PAR⁰)}, Nothing, Nothing, Nothing}, velocities::Nothing, pressure::Nothing, diffusivity_fields::Nothing, auxiliary_fields::@NamedTuple{})",
      "   @ Oceananigans.Models.HydrostaticFreeSurfaceModels C:\\Users\\ABE\\.julia\\packages\\Oceananigans\\aI5AQ\\src\\Models\\HydrostaticFreeSurfaceModels\\hydrostatic_free_surface_model.jl:133",
      " [4] top-level scope",
      "   @ In[225]:1"
     ]
    }
   ],
   "source": [
    "model = HydrostaticFreeSurfaceModel(; grid,\n",
    "                                    closure,\n",
    "                                    biogeochemistry,\n",
    "                                    buoyancy=SeawaterBuoyancy(),\n",
    "                                    boundary_conditions,\n",
    "                                    forcing = (T=Tforcing, S=Sforcing),\n",
    "                                    momentum_advection = VectorInvariant(), \n",
    "                                    tracer_advection = WENO(underlying_grid),\n",
    "                                    # auxiliary_fields = (; PAR, T),\n",
    "                                    tracers = (:OXY, :NUT, :DOM, :POM, :PHY, :HET, :T, :S)\n",
    "                                    # tracers = (:OXY, :NUT, :DOM, :POM, :PHY, :HET, :T, :S)\n",
    ")"
   ]
  },
  {
   "cell_type": "code",
   "execution_count": 200,
   "id": "78bc7ff5-5a13-4030-8f5b-d60c3a795ce4",
   "metadata": {},
   "outputs": [
    {
     "data": {
      "text/plain": [
       "NamedTuple with 2 Fields on 119×42×20 ImmersedBoundaryGrid{Float64, Bounded, Bounded, Bounded} on CPU with 7×7×7 halo:\n",
       "├── T: 119×42×20 Field{Center, Center, Center} on ImmersedBoundaryGrid on CPU\n",
       "└── S: 119×42×20 Field{Center, Center, Center} on ImmersedBoundaryGrid on CPU"
      ]
     },
     "execution_count": 200,
     "metadata": {},
     "output_type": "execute_result"
    }
   ],
   "source": [
    "(; T,S)"
   ]
  },
  {
   "cell_type": "code",
   "execution_count": 159,
   "id": "113c4a25-2af0-4bf4-b410-02ab154404e3",
   "metadata": {},
   "outputs": [
    {
     "data": {
      "text/plain": [
       "(u = Oceananigans.Forcings.zeroforcing, v = Oceananigans.Forcings.zeroforcing, η = Oceananigans.Forcings.zeroforcing, OXY = Oceananigans.Forcings.zeroforcing, NUT = Oceananigans.Forcings.zeroforcing, DOM = Oceananigans.Forcings.zeroforcing, POM = Oceananigans.Forcings.zeroforcing, PHY = Oceananigans.Forcings.zeroforcing, HET = Oceananigans.Forcings.zeroforcing, T = DiscreteForcing{Nothing}\n",
       "├── func: T_point_source (generic function with 1 method)\n",
       "└── parameters: nothing, S = DiscreteForcing{Nothing}\n",
       "├── func: S_point_source (generic function with 1 method)\n",
       "└── parameters: nothing)"
      ]
     },
     "execution_count": 159,
     "metadata": {},
     "output_type": "execute_result"
    }
   ],
   "source": [
    "model.forcing"
   ]
  },
  {
   "cell_type": "markdown",
   "id": "48ad45d2-e6b6-4843-a699-93dc090f5ef9",
   "metadata": {},
   "source": [
    "## Set Initial conditions"
   ]
  },
  {
   "cell_type": "code",
   "execution_count": 160,
   "id": "b3f5c52d-3099-4d71-8ba5-44bc08af81fb",
   "metadata": {
    "scrolled": true
   },
   "outputs": [],
   "source": [
    "set!(model, T=T₀, S=S₀,\n",
    "            NUT = 10.0, PHY = 0.01, HET = 0.05, OXY = 350., DOM = 1.)"
   ]
  },
  {
   "cell_type": "markdown",
   "id": "d019167a-88f1-4556-911a-4b7679d7ea30",
   "metadata": {},
   "source": [
    "# Simulation"
   ]
  },
  {
   "cell_type": "code",
   "execution_count": 182,
   "id": "21955939-c4d2-4cc1-89c3-6762d3907692",
   "metadata": {},
   "outputs": [
    {
     "data": {
      "text/plain": [
       "3600.0"
      ]
     },
     "execution_count": 182,
     "metadata": {},
     "output_type": "execute_result"
    }
   ],
   "source": [
    "Δt = 0.5seconds\n",
    "stop_time = 1hours"
   ]
  },
  {
   "cell_type": "code",
   "execution_count": 183,
   "id": "74631b84-090c-44ea-91e9-0f45eef6562c",
   "metadata": {
    "scrolled": true
   },
   "outputs": [
    {
     "data": {
      "text/plain": [
       "Simulation of HydrostaticFreeSurfaceModel{CPU, ImmersedBoundaryGrid}(time = 1.258 minutes, iteration = 151)\n",
       "├── Next time step: 500 ms\n",
       "├── Elapsed wall time: 0 seconds\n",
       "├── Wall time per iteration: 0 seconds\n",
       "├── Stop time: 1 hour\n",
       "├── Stop iteration : Inf\n",
       "├── Wall time limit: Inf\n",
       "├── Callbacks: OrderedDict with 4 entries:\n",
       "│   ├── stop_time_exceeded => Callback of stop_time_exceeded on IterationInterval(1)\n",
       "│   ├── stop_iteration_exceeded => Callback of stop_iteration_exceeded on IterationInterval(1)\n",
       "│   ├── wall_time_limit_exceeded => Callback of wall_time_limit_exceeded on IterationInterval(1)\n",
       "│   └── nan_checker => Callback of NaNChecker for u on IterationInterval(100)\n",
       "├── Output writers: OrderedDict with no entries\n",
       "└── Diagnostics: OrderedDict with no entries"
      ]
     },
     "execution_count": 183,
     "metadata": {},
     "output_type": "execute_result"
    }
   ],
   "source": [
    "simulation = Simulation(model; Δt, stop_time)"
   ]
  },
  {
   "cell_type": "code",
   "execution_count": 184,
   "id": "56e03057-a8e6-4256-9610-9c4931246bd2",
   "metadata": {},
   "outputs": [
    {
     "data": {
      "text/plain": [
       "progress (generic function with 1 method)"
      ]
     },
     "execution_count": 184,
     "metadata": {},
     "output_type": "execute_result"
    }
   ],
   "source": [
    "progress(sim) = @info \"Time : $(prettytime(sim.model.clock.time)),\n",
    "                        max(|u|): $(maximum(abs, sim.model.velocities.u)),\n",
    "                        max(S): $(maximum(model.tracers.S)),\n",
    "                        Δt: $(prettytime(sim.Δt))\""
   ]
  },
  {
   "cell_type": "code",
   "execution_count": 185,
   "id": "082b3119-3fdc-405e-a515-0a0b829e6ddb",
   "metadata": {},
   "outputs": [
    {
     "data": {
      "text/plain": [
       "Callback of progress on IterationInterval(20)"
      ]
     },
     "execution_count": 185,
     "metadata": {},
     "output_type": "execute_result"
    }
   ],
   "source": [
    "simulation.callbacks[:progress] = Callback(progress, IterationInterval(20))"
   ]
  },
  {
   "cell_type": "code",
   "execution_count": 186,
   "id": "dfdc9860-9986-4b09-9f72-cc79ed797b3d",
   "metadata": {},
   "outputs": [],
   "source": [
    "# wizard = TimeStepWizard(cfl=0.1, max_change=1.05, max_Δt=1minute)\n",
    "# simulation.callbacks[:wizard] = Callback(wizard, IterationInterval(10))"
   ]
  },
  {
   "cell_type": "code",
   "execution_count": 187,
   "id": "f7c59431-c148-411d-ab8f-4cbc22527052",
   "metadata": {},
   "outputs": [
    {
     "data": {
      "text/plain": [
       "119×42×20 Field{Center, Center, Center} on ImmersedBoundaryGrid on CPU\n",
       "├── grid: 119×42×20 ImmersedBoundaryGrid{Float64, Bounded, Bounded, Bounded} on CPU with 7×7×7 halo\n",
       "├── boundary conditions: FieldBoundaryConditions\n",
       "│   └── west: ZeroFlux, east: ZeroFlux, south: ZeroFlux, north: ZeroFlux, bottom: Flux, top: ZeroFlux, immersed: ZeroFlux\n",
       "└── data: 133×56×34 OffsetArray(::Array{Float64, 3}, -6:126, -6:49, -6:27) with eltype Float64 with indices -6:126×-6:49×-6:27\n",
       "    └── max=0.0500066, min=0.05, mean=0.0500001"
      ]
     },
     "execution_count": 187,
     "metadata": {},
     "output_type": "execute_result"
    }
   ],
   "source": [
    "u, v, w = model.velocities\n",
    "T = model.tracers.T\n",
    "S = model.tracers.S\n",
    "OXY = model.tracers.OXY\n",
    "NUT = model.tracers.NUT\n",
    "DOM = model.tracers.DOM\n",
    "POM = model.tracers.POM\n",
    "PHY = model.tracers.PHY\n",
    "HET = model.tracers.HET"
   ]
  },
  {
   "cell_type": "code",
   "execution_count": 188,
   "id": "0d5900e0-b3e4-48f3-84d5-4bed7ea889c2",
   "metadata": {},
   "outputs": [
    {
     "name": "stderr",
     "output_type": "stream",
     "text": [
      "\u001b[33m\u001b[1m┌ \u001b[22m\u001b[39m\u001b[33m\u001b[1mWarning: \u001b[22m\u001b[39mmodel.closure contains a function somewhere in its hierarchy and will not be checkpointed.\n",
      "\u001b[33m\u001b[1m└ \u001b[22m\u001b[39m\u001b[90m@ Oceananigans.OutputWriters C:\\Users\\ABE\\.julia\\packages\\Oceananigans\\aI5AQ\\src\\OutputWriters\\checkpointer.jl:88\u001b[39m\n"
     ]
    },
    {
     "data": {
      "text/plain": [
       "Checkpointer{IterationInterval, Vector{Symbol}}(IterationInterval(200, 0), \".\", \"model_checkpoint\", [:grid, :timestepper, :particles, :clock, :coriolis, :buoyancy], false, false, false)"
      ]
     },
     "execution_count": 188,
     "metadata": {},
     "output_type": "execute_result"
    }
   ],
   "source": [
    "simulation.output_writers[:surface_fields] =\n",
    "    JLD2OutputWriter(model, (; u, v, w, T, S, OXY, NUT, DOM, POM, PHY, HET),\n",
    "                     schedule = TimeInterval(2minutes),\n",
    "                     filename = \"exp4_out\",\n",
    "                     with_halos = true,\n",
    "                     overwrite_existing = true)\n",
    "\n",
    "simulation.output_writers[:checkpointer] = Checkpointer(model; schedule=IterationInterval(200), prefix=\"model_checkpoint\")"
   ]
  },
  {
   "cell_type": "code",
   "execution_count": 189,
   "id": "264a458b-4ad9-446e-92b0-671feb41765b",
   "metadata": {},
   "outputs": [
    {
     "name": "stdout",
     "output_type": "stream",
     "text": [
      "search: \u001b[0m\u001b[1mC\u001b[22m\u001b[0m\u001b[1mh\u001b[22m\u001b[0m\u001b[1me\u001b[22m\u001b[0m\u001b[1mc\u001b[22m\u001b[0m\u001b[1mk\u001b[22m\u001b[0m\u001b[1mp\u001b[22m\u001b[0m\u001b[1mo\u001b[22m\u001b[0m\u001b[1mi\u001b[22m\u001b[0m\u001b[1mn\u001b[22m\u001b[0m\u001b[1mt\u001b[22m\u001b[0m\u001b[1me\u001b[22m\u001b[0m\u001b[1mr\u001b[22m\n",
      "\n"
     ]
    },
    {
     "data": {
      "text/latex": [
       "\\begin{verbatim}\n",
       "Checkpointer(model;\n",
       "             schedule,\n",
       "             dir = \".\",\n",
       "             prefix = \"checkpoint\",\n",
       "             overwrite_existing = false,\n",
       "             verbose = false,\n",
       "             cleanup = false,\n",
       "             properties = [:grid, :clock, :coriolis,\n",
       "                           :buoyancy, :closure, :timestepper, :particles])\n",
       "\\end{verbatim}\n",
       "Construct a \\texttt{Checkpointer} that checkpoints the model to a JLD2 file on \\texttt{schedule.} The \\texttt{model.clock.iteration} is included in the filename to distinguish between multiple checkpoint files.\n",
       "\n",
       "To restart or \"pickup\" a model from a checkpoint, specify \\texttt{pickup = true} when calling \\texttt{run!}, ensuring that the checkpoint file is in directory \\texttt{dir}. See \\href{@ref}{\\texttt{run!}} for more details.\n",
       "\n",
       "Note that extra model \\texttt{properties} can be specified, but removing crucial properties such as \\texttt{:timestepper} will render restoring from the checkpoint impossible.\n",
       "\n",
       "The checkpointer attempts to serialize as much of the model to disk as possible, but functions or objects containing functions cannot be serialized at this time.\n",
       "\n",
       "\\section{Keyword arguments}\n",
       "\\begin{itemize}\n",
       "\\item \\texttt{schedule} (required): Schedule that determines when to checkpoint.\n",
       "\n",
       "\n",
       "\\item \\texttt{dir}: Directory to save output to. Default: \\texttt{\".\"} (current working directory).\n",
       "\n",
       "\n",
       "\\item \\texttt{prefix}: Descriptive filename prefixed to all output files. Default: \\texttt{\"checkpoint\"}.\n",
       "\n",
       "\n",
       "\\item \\texttt{overwrite\\_existing}: Remove existing files if their filenames conflict. Default: \\texttt{false}.\n",
       "\n",
       "\n",
       "\\item \\texttt{verbose}: Log what the output writer is doing with statistics on compute/write times            and file sizes. Default: \\texttt{false}.\n",
       "\n",
       "\n",
       "\\item \\texttt{cleanup}: Previous checkpoint files will be deleted once a new checkpoint file is written.            Default: \\texttt{false}.\n",
       "\n",
       "\n",
       "\\item \\texttt{properties}: List of model properties to checkpoint. This list \\emph{must} contain               \\texttt{:grid}, \\texttt{:timestepper}, and \\texttt{:particles}.               Default: \\texttt{[:grid, :timestepper, :particles, :clock, :coriolis, :buoyancy, :closure]}\n",
       "\n",
       "\\end{itemize}\n"
      ],
      "text/markdown": [
       "```\n",
       "Checkpointer(model;\n",
       "             schedule,\n",
       "             dir = \".\",\n",
       "             prefix = \"checkpoint\",\n",
       "             overwrite_existing = false,\n",
       "             verbose = false,\n",
       "             cleanup = false,\n",
       "             properties = [:grid, :clock, :coriolis,\n",
       "                           :buoyancy, :closure, :timestepper, :particles])\n",
       "```\n",
       "\n",
       "Construct a `Checkpointer` that checkpoints the model to a JLD2 file on `schedule.` The `model.clock.iteration` is included in the filename to distinguish between multiple checkpoint files.\n",
       "\n",
       "To restart or \"pickup\" a model from a checkpoint, specify `pickup = true` when calling `run!`, ensuring that the checkpoint file is in directory `dir`. See [`run!`](@ref) for more details.\n",
       "\n",
       "Note that extra model `properties` can be specified, but removing crucial properties such as `:timestepper` will render restoring from the checkpoint impossible.\n",
       "\n",
       "The checkpointer attempts to serialize as much of the model to disk as possible, but functions or objects containing functions cannot be serialized at this time.\n",
       "\n",
       "# Keyword arguments\n",
       "\n",
       "  * `schedule` (required): Schedule that determines when to checkpoint.\n",
       "  * `dir`: Directory to save output to. Default: `\".\"` (current working directory).\n",
       "  * `prefix`: Descriptive filename prefixed to all output files. Default: `\"checkpoint\"`.\n",
       "  * `overwrite_existing`: Remove existing files if their filenames conflict. Default: `false`.\n",
       "  * `verbose`: Log what the output writer is doing with statistics on compute/write times            and file sizes. Default: `false`.\n",
       "  * `cleanup`: Previous checkpoint files will be deleted once a new checkpoint file is written.            Default: `false`.\n",
       "  * `properties`: List of model properties to checkpoint. This list *must* contain               `:grid`, `:timestepper`, and `:particles`.               Default: `[:grid, :timestepper, :particles, :clock, :coriolis, :buoyancy, :closure]`\n"
      ],
      "text/plain": [
       "\u001b[36m  Checkpointer(model;\u001b[39m\n",
       "\u001b[36m               schedule,\u001b[39m\n",
       "\u001b[36m               dir = \".\",\u001b[39m\n",
       "\u001b[36m               prefix = \"checkpoint\",\u001b[39m\n",
       "\u001b[36m               overwrite_existing = false,\u001b[39m\n",
       "\u001b[36m               verbose = false,\u001b[39m\n",
       "\u001b[36m               cleanup = false,\u001b[39m\n",
       "\u001b[36m               properties = [:grid, :clock, :coriolis,\u001b[39m\n",
       "\u001b[36m                             :buoyancy, :closure, :timestepper, :particles])\u001b[39m\n",
       "\n",
       "  Construct a \u001b[36mCheckpointer\u001b[39m that checkpoints the model to a JLD2 file on\n",
       "  \u001b[36mschedule.\u001b[39m The \u001b[36mmodel.clock.iteration\u001b[39m is included in the filename to\n",
       "  distinguish between multiple checkpoint files.\n",
       "\n",
       "  To restart or \"pickup\" a model from a checkpoint, specify \u001b[36mpickup = true\u001b[39m when\n",
       "  calling \u001b[36mrun!\u001b[39m, ensuring that the checkpoint file is in directory \u001b[36mdir\u001b[39m. See\n",
       "  \u001b[36mrun!\u001b[39m for more details.\n",
       "\n",
       "  Note that extra model \u001b[36mproperties\u001b[39m can be specified, but removing crucial\n",
       "  properties such as \u001b[36m:timestepper\u001b[39m will render restoring from the checkpoint\n",
       "  impossible.\n",
       "\n",
       "  The checkpointer attempts to serialize as much of the model to disk as\n",
       "  possible, but functions or objects containing functions cannot be serialized\n",
       "  at this time.\n",
       "\n",
       "\u001b[1m  Keyword arguments\u001b[22m\n",
       "\u001b[1m  ≡≡≡≡≡≡≡≡≡≡≡≡≡≡≡≡≡\u001b[22m\n",
       "\n",
       "    •  \u001b[36mschedule\u001b[39m (required): Schedule that determines when to checkpoint.\n",
       "\n",
       "    •  \u001b[36mdir\u001b[39m: Directory to save output to. Default: \u001b[36m\".\"\u001b[39m (current working\n",
       "       directory).\n",
       "\n",
       "    •  \u001b[36mprefix\u001b[39m: Descriptive filename prefixed to all output files.\n",
       "       Default: \u001b[36m\"checkpoint\"\u001b[39m.\n",
       "\n",
       "    •  \u001b[36moverwrite_existing\u001b[39m: Remove existing files if their filenames\n",
       "       conflict. Default: \u001b[36mfalse\u001b[39m.\n",
       "\n",
       "    •  \u001b[36mverbose\u001b[39m: Log what the output writer is doing with statistics on\n",
       "       compute/write times and file sizes. Default: \u001b[36mfalse\u001b[39m.\n",
       "\n",
       "    •  \u001b[36mcleanup\u001b[39m: Previous checkpoint files will be deleted once a new\n",
       "       checkpoint file is written. Default: \u001b[36mfalse\u001b[39m.\n",
       "\n",
       "    •  \u001b[36mproperties\u001b[39m: List of model properties to checkpoint. This list \u001b[4mmust\u001b[24m\n",
       "       contain \u001b[36m:grid\u001b[39m, \u001b[36m:timestepper\u001b[39m, and \u001b[36m:particles\u001b[39m. Default: \u001b[36m[:grid,\n",
       "       :timestepper, :particles, :clock, :coriolis, :buoyancy, :closure]\u001b[39m"
      ]
     },
     "execution_count": 189,
     "metadata": {},
     "output_type": "execute_result"
    }
   ],
   "source": [
    "?Checkpointer"
   ]
  },
  {
   "cell_type": "code",
   "execution_count": 190,
   "id": "5205a490-b194-4dc9-a270-475965d5683d",
   "metadata": {
    "scrolled": true
   },
   "outputs": [
    {
     "name": "stderr",
     "output_type": "stream",
     "text": [
      "\u001b[36m\u001b[1m[ \u001b[22m\u001b[39m\u001b[36m\u001b[1mInfo: \u001b[22m\u001b[39mInitializing simulation...\n",
      "\u001b[36m\u001b[1m[ \u001b[22m\u001b[39m\u001b[36m\u001b[1mInfo: \u001b[22m\u001b[39m    ... simulation initialization complete (401.236 ms)\n",
      "\u001b[36m\u001b[1m[ \u001b[22m\u001b[39m\u001b[36m\u001b[1mInfo: \u001b[22m\u001b[39mExecuting initial time step...\n",
      "\u001b[36m\u001b[1m[ \u001b[22m\u001b[39m\u001b[36m\u001b[1mInfo: \u001b[22m\u001b[39m    ... initial time step complete (451.187 ms).\n",
      "\u001b[36m\u001b[1m┌ \u001b[22m\u001b[39m\u001b[36m\u001b[1mInfo: \u001b[22m\u001b[39mTime : 1.333 minutes,\n",
      "\u001b[36m\u001b[1m│ \u001b[22m\u001b[39m                        max(|u|): 0.017706086813119925,\n",
      "\u001b[36m\u001b[1m│ \u001b[22m\u001b[39m                        max(S): 15.500000000032834,\n",
      "\u001b[36m\u001b[1m└ \u001b[22m\u001b[39m                        Δt: 500 ms\n",
      "\u001b[36m\u001b[1m┌ \u001b[22m\u001b[39m\u001b[36m\u001b[1mInfo: \u001b[22m\u001b[39mTime : 1.500 minutes,\n",
      "\u001b[36m\u001b[1m│ \u001b[22m\u001b[39m                        max(|u|): 0.01919609674591121,\n",
      "\u001b[36m\u001b[1m│ \u001b[22m\u001b[39m                        max(S): 15.500000000050433,\n",
      "\u001b[36m\u001b[1m└ \u001b[22m\u001b[39m                        Δt: 500 ms\n",
      "\u001b[36m\u001b[1m┌ \u001b[22m\u001b[39m\u001b[36m\u001b[1mInfo: \u001b[22m\u001b[39mTime : 1.667 minutes,\n",
      "\u001b[36m\u001b[1m│ \u001b[22m\u001b[39m                        max(|u|): 0.020558577559130573,\n",
      "\u001b[36m\u001b[1m│ \u001b[22m\u001b[39m                        max(S): 15.500000000075335,\n",
      "\u001b[36m\u001b[1m└ \u001b[22m\u001b[39m                        Δt: 500 ms\n",
      "\u001b[36m\u001b[1m┌ \u001b[22m\u001b[39m\u001b[36m\u001b[1mInfo: \u001b[22m\u001b[39mTime : 1.833 minutes,\n",
      "\u001b[36m\u001b[1m│ \u001b[22m\u001b[39m                        max(|u|): 0.021802668760863456,\n",
      "\u001b[36m\u001b[1m│ \u001b[22m\u001b[39m                        max(S): 15.500000000110335,\n",
      "\u001b[36m\u001b[1m└ \u001b[22m\u001b[39m                        Δt: 500 ms\n",
      "\u001b[36m\u001b[1m┌ \u001b[22m\u001b[39m\u001b[36m\u001b[1mInfo: \u001b[22m\u001b[39mTime : 2 minutes,\n",
      "\u001b[36m\u001b[1m│ \u001b[22m\u001b[39m                        max(|u|): 0.022939700111650137,\n",
      "\u001b[36m\u001b[1m│ \u001b[22m\u001b[39m                        max(S): 15.500000000151315,\n",
      "\u001b[36m\u001b[1m└ \u001b[22m\u001b[39m                        Δt: 500 ms\n",
      "\u001b[36m\u001b[1m┌ \u001b[22m\u001b[39m\u001b[36m\u001b[1mInfo: \u001b[22m\u001b[39mTime : 2.167 minutes,\n",
      "\u001b[36m\u001b[1m│ \u001b[22m\u001b[39m                        max(|u|): 0.023977241487651624,\n",
      "\u001b[36m\u001b[1m│ \u001b[22m\u001b[39m                        max(S): 15.500000000197048,\n",
      "\u001b[36m\u001b[1m└ \u001b[22m\u001b[39m                        Δt: 500 ms\n",
      "\u001b[36m\u001b[1m┌ \u001b[22m\u001b[39m\u001b[36m\u001b[1mInfo: \u001b[22m\u001b[39mTime : 2.333 minutes,\n",
      "\u001b[36m\u001b[1m│ \u001b[22m\u001b[39m                        max(|u|): 0.024922841880879117,\n",
      "\u001b[36m\u001b[1m│ \u001b[22m\u001b[39m                        max(S): 15.500000000245912,\n",
      "\u001b[36m\u001b[1m└ \u001b[22m\u001b[39m                        Δt: 500 ms\n",
      "\u001b[36m\u001b[1m┌ \u001b[22m\u001b[39m\u001b[36m\u001b[1mInfo: \u001b[22m\u001b[39mTime : 2.500 minutes,\n",
      "\u001b[36m\u001b[1m│ \u001b[22m\u001b[39m                        max(|u|): 0.02578820362677123,\n",
      "\u001b[36m\u001b[1m│ \u001b[22m\u001b[39m                        max(S): 15.500000000295957,\n",
      "\u001b[36m\u001b[1m└ \u001b[22m\u001b[39m                        Δt: 500 ms\n",
      "\u001b[36m\u001b[1m┌ \u001b[22m\u001b[39m\u001b[36m\u001b[1mInfo: \u001b[22m\u001b[39mTime : 2.667 minutes,\n",
      "\u001b[36m\u001b[1m│ \u001b[22m\u001b[39m                        max(|u|): 0.026578930155785822,\n",
      "\u001b[36m\u001b[1m│ \u001b[22m\u001b[39m                        max(S): 15.5000000003451,\n",
      "\u001b[36m\u001b[1m└ \u001b[22m\u001b[39m                        Δt: 500 ms\n",
      "\u001b[36m\u001b[1m┌ \u001b[22m\u001b[39m\u001b[36m\u001b[1mInfo: \u001b[22m\u001b[39mTime : 2.833 minutes,\n",
      "\u001b[36m\u001b[1m│ \u001b[22m\u001b[39m                        max(|u|): 0.02730046522143231,\n",
      "\u001b[36m\u001b[1m│ \u001b[22m\u001b[39m                        max(S): 15.500000000391397,\n",
      "\u001b[36m\u001b[1m└ \u001b[22m\u001b[39m                        Δt: 500 ms\n",
      "\u001b[36m\u001b[1m┌ \u001b[22m\u001b[39m\u001b[36m\u001b[1mInfo: \u001b[22m\u001b[39mTime : 3 minutes,\n",
      "\u001b[36m\u001b[1m│ \u001b[22m\u001b[39m                        max(|u|): 0.02795864732572168,\n",
      "\u001b[36m\u001b[1m│ \u001b[22m\u001b[39m                        max(S): 15.500000000433287,\n",
      "\u001b[36m\u001b[1m└ \u001b[22m\u001b[39m                        Δt: 500 ms\n",
      "\u001b[36m\u001b[1m┌ \u001b[22m\u001b[39m\u001b[36m\u001b[1mInfo: \u001b[22m\u001b[39mTime : 3.167 minutes,\n",
      "\u001b[36m\u001b[1m│ \u001b[22m\u001b[39m                        max(|u|): 0.02855874659206685,\n",
      "\u001b[36m\u001b[1m│ \u001b[22m\u001b[39m                        max(S): 15.500000000469733,\n",
      "\u001b[36m\u001b[1m└ \u001b[22m\u001b[39m                        Δt: 500 ms\n",
      "\u001b[36m\u001b[1m┌ \u001b[22m\u001b[39m\u001b[36m\u001b[1mInfo: \u001b[22m\u001b[39mTime : 3.333 minutes,\n",
      "\u001b[36m\u001b[1m│ \u001b[22m\u001b[39m                        max(|u|): 0.029105532141285185,\n",
      "\u001b[36m\u001b[1m│ \u001b[22m\u001b[39m                        max(S): 15.500000000500304,\n",
      "\u001b[36m\u001b[1m└ \u001b[22m\u001b[39m                        Δt: 500 ms\n",
      "\u001b[36m\u001b[1m┌ \u001b[22m\u001b[39m\u001b[36m\u001b[1mInfo: \u001b[22m\u001b[39mTime : 3.500 minutes,\n",
      "\u001b[36m\u001b[1m│ \u001b[22m\u001b[39m                        max(|u|): 0.0296033426550307,\n",
      "\u001b[36m\u001b[1m│ \u001b[22m\u001b[39m                        max(S): 15.500000000525162,\n",
      "\u001b[36m\u001b[1m└ \u001b[22m\u001b[39m                        Δt: 500 ms\n",
      "\u001b[36m\u001b[1m┌ \u001b[22m\u001b[39m\u001b[36m\u001b[1mInfo: \u001b[22m\u001b[39mTime : 3.667 minutes,\n",
      "\u001b[36m\u001b[1m│ \u001b[22m\u001b[39m                        max(|u|): 0.030056151231865346,\n",
      "\u001b[36m\u001b[1m│ \u001b[22m\u001b[39m                        max(S): 15.500000000544935,\n",
      "\u001b[36m\u001b[1m└ \u001b[22m\u001b[39m                        Δt: 500 ms\n",
      "\u001b[36m\u001b[1m┌ \u001b[22m\u001b[39m\u001b[36m\u001b[1mInfo: \u001b[22m\u001b[39mTime : 3.833 minutes,\n",
      "\u001b[36m\u001b[1m│ \u001b[22m\u001b[39m                        max(|u|): 0.030467619364497954,\n",
      "\u001b[36m\u001b[1m│ \u001b[22m\u001b[39m                        max(S): 15.500000000560712,\n",
      "\u001b[36m\u001b[1m└ \u001b[22m\u001b[39m                        Δt: 500 ms\n",
      "\u001b[36m\u001b[1m┌ \u001b[22m\u001b[39m\u001b[36m\u001b[1mInfo: \u001b[22m\u001b[39mTime : 4 minutes,\n",
      "\u001b[36m\u001b[1m│ \u001b[22m\u001b[39m                        max(|u|): 0.030841138359532498,\n",
      "\u001b[36m\u001b[1m│ \u001b[22m\u001b[39m                        max(S): 15.500000000573419,\n",
      "\u001b[36m\u001b[1m└ \u001b[22m\u001b[39m                        Δt: 500 ms\n",
      "\u001b[36m\u001b[1m┌ \u001b[22m\u001b[39m\u001b[36m\u001b[1mInfo: \u001b[22m\u001b[39mTime : 4.167 minutes,\n",
      "\u001b[36m\u001b[1m│ \u001b[22m\u001b[39m                        max(|u|): 0.03117985908734383,\n",
      "\u001b[36m\u001b[1m│ \u001b[22m\u001b[39m                        max(S): 15.500000000585672,\n",
      "\u001b[36m\u001b[1m└ \u001b[22m\u001b[39m                        Δt: 500 ms\n",
      "\u001b[36m\u001b[1m┌ \u001b[22m\u001b[39m\u001b[36m\u001b[1mInfo: \u001b[22m\u001b[39mTime : 4.333 minutes,\n",
      "\u001b[36m\u001b[1m│ \u001b[22m\u001b[39m                        max(|u|): 0.03148671238104208,\n",
      "\u001b[36m\u001b[1m│ \u001b[22m\u001b[39m                        max(S): 15.50000000059884,\n",
      "\u001b[36m\u001b[1m└ \u001b[22m\u001b[39m                        Δt: 500 ms\n",
      "\u001b[36m\u001b[1m┌ \u001b[22m\u001b[39m\u001b[36m\u001b[1mInfo: \u001b[22m\u001b[39mTime : 4.500 minutes,\n",
      "\u001b[36m\u001b[1m│ \u001b[22m\u001b[39m                        max(|u|): 0.031764422889021836,\n",
      "\u001b[36m\u001b[1m│ \u001b[22m\u001b[39m                        max(S): 15.500000000611807,\n",
      "\u001b[36m\u001b[1m└ \u001b[22m\u001b[39m                        Δt: 500 ms\n",
      "\u001b[36m\u001b[1m┌ \u001b[22m\u001b[39m\u001b[36m\u001b[1mInfo: \u001b[22m\u001b[39mTime : 4.667 minutes,\n",
      "\u001b[36m\u001b[1m│ \u001b[22m\u001b[39m                        max(|u|): 0.03201551899470871,\n",
      "\u001b[36m\u001b[1m│ \u001b[22m\u001b[39m                        max(S): 15.500000000625185,\n",
      "\u001b[36m\u001b[1m└ \u001b[22m\u001b[39m                        Δt: 500 ms\n",
      "\u001b[36m\u001b[1m┌ \u001b[22m\u001b[39m\u001b[36m\u001b[1mInfo: \u001b[22m\u001b[39mTime : 4.833 minutes,\n",
      "\u001b[36m\u001b[1m│ \u001b[22m\u001b[39m                        max(|u|): 0.032242340870585924,\n",
      "\u001b[36m\u001b[1m│ \u001b[22m\u001b[39m                        max(S): 15.500000000639535,\n",
      "\u001b[36m\u001b[1m└ \u001b[22m\u001b[39m                        Δt: 500 ms\n",
      "\u001b[36m\u001b[1m┌ \u001b[22m\u001b[39m\u001b[36m\u001b[1mInfo: \u001b[22m\u001b[39mTime : 5 minutes,\n",
      "\u001b[36m\u001b[1m│ \u001b[22m\u001b[39m                        max(|u|): 0.03244704802930937,\n",
      "\u001b[36m\u001b[1m│ \u001b[22m\u001b[39m                        max(S): 15.500000000655188,\n",
      "\u001b[36m\u001b[1m└ \u001b[22m\u001b[39m                        Δt: 500 ms\n",
      "\u001b[36m\u001b[1m┌ \u001b[22m\u001b[39m\u001b[36m\u001b[1mInfo: \u001b[22m\u001b[39mTime : 5.167 minutes,\n",
      "\u001b[36m\u001b[1m│ \u001b[22m\u001b[39m                        max(|u|): 0.03263162714541723,\n",
      "\u001b[36m\u001b[1m│ \u001b[22m\u001b[39m                        max(S): 15.500000000672296,\n",
      "\u001b[36m\u001b[1m└ \u001b[22m\u001b[39m                        Δt: 500 ms\n",
      "\u001b[36m\u001b[1m┌ \u001b[22m\u001b[39m\u001b[36m\u001b[1mInfo: \u001b[22m\u001b[39mTime : 5.333 minutes,\n",
      "\u001b[36m\u001b[1m│ \u001b[22m\u001b[39m                        max(|u|): 0.03279790043874716,\n",
      "\u001b[36m\u001b[1m│ \u001b[22m\u001b[39m                        max(S): 15.500000000690846,\n",
      "\u001b[36m\u001b[1m└ \u001b[22m\u001b[39m                        Δt: 500 ms\n",
      "\u001b[36m\u001b[1m┌ \u001b[22m\u001b[39m\u001b[36m\u001b[1mInfo: \u001b[22m\u001b[39mTime : 5.500 minutes,\n",
      "\u001b[36m\u001b[1m│ \u001b[22m\u001b[39m                        max(|u|): 0.032947534605455145,\n",
      "\u001b[36m\u001b[1m│ \u001b[22m\u001b[39m                        max(S): 15.500000000710804,\n",
      "\u001b[36m\u001b[1m└ \u001b[22m\u001b[39m                        Δt: 500 ms\n",
      "\u001b[36m\u001b[1m┌ \u001b[22m\u001b[39m\u001b[36m\u001b[1mInfo: \u001b[22m\u001b[39mTime : 5.667 minutes,\n",
      "\u001b[36m\u001b[1m│ \u001b[22m\u001b[39m                        max(|u|): 0.03308205013740159,\n",
      "\u001b[36m\u001b[1m│ \u001b[22m\u001b[39m                        max(S): 15.500000000731935,\n",
      "\u001b[36m\u001b[1m└ \u001b[22m\u001b[39m                        Δt: 500 ms\n",
      "\u001b[36m\u001b[1m┌ \u001b[22m\u001b[39m\u001b[36m\u001b[1mInfo: \u001b[22m\u001b[39mTime : 5.833 minutes,\n",
      "\u001b[36m\u001b[1m│ \u001b[22m\u001b[39m                        max(|u|): 0.03320283082663625,\n",
      "\u001b[36m\u001b[1m│ \u001b[22m\u001b[39m                        max(S): 15.500000000754593,\n",
      "\u001b[36m\u001b[1m└ \u001b[22m\u001b[39m                        Δt: 500 ms\n",
      "\u001b[36m\u001b[1m┌ \u001b[22m\u001b[39m\u001b[36m\u001b[1mInfo: \u001b[22m\u001b[39mTime : 6 minutes,\n",
      "\u001b[36m\u001b[1m│ \u001b[22m\u001b[39m                        max(|u|): 0.03331113326461278,\n",
      "\u001b[36m\u001b[1m│ \u001b[22m\u001b[39m                        max(S): 15.500000000781018,\n",
      "\u001b[36m\u001b[1m└ \u001b[22m\u001b[39m                        Δt: 500 ms\n",
      "\u001b[36m\u001b[1m┌ \u001b[22m\u001b[39m\u001b[36m\u001b[1mInfo: \u001b[22m\u001b[39mTime : 6.167 minutes,\n",
      "\u001b[36m\u001b[1m│ \u001b[22m\u001b[39m                        max(|u|): 0.033408096188800925,\n",
      "\u001b[36m\u001b[1m│ \u001b[22m\u001b[39m                        max(S): 15.500000000807717,\n",
      "\u001b[36m\u001b[1m└ \u001b[22m\u001b[39m                        Δt: 500 ms\n",
      "\u001b[36m\u001b[1m┌ \u001b[22m\u001b[39m\u001b[36m\u001b[1mInfo: \u001b[22m\u001b[39mTime : 6.333 minutes,\n",
      "\u001b[36m\u001b[1m│ \u001b[22m\u001b[39m                        max(|u|): 0.033494749571265255,\n",
      "\u001b[36m\u001b[1m│ \u001b[22m\u001b[39m                        max(S): 15.500000000834467,\n",
      "\u001b[36m\u001b[1m└ \u001b[22m\u001b[39m                        Δt: 500 ms\n",
      "\u001b[36m\u001b[1m┌ \u001b[22m\u001b[39m\u001b[36m\u001b[1mInfo: \u001b[22m\u001b[39mTime : 6.500 minutes,\n",
      "\u001b[36m\u001b[1m│ \u001b[22m\u001b[39m                        max(|u|): 0.033572023389266924,\n",
      "\u001b[36m\u001b[1m│ \u001b[22m\u001b[39m                        max(S): 15.500000000860984,\n",
      "\u001b[36m\u001b[1m└ \u001b[22m\u001b[39m                        Δt: 500 ms\n",
      "\u001b[36m\u001b[1m┌ \u001b[22m\u001b[39m\u001b[36m\u001b[1mInfo: \u001b[22m\u001b[39mTime : 6.667 minutes,\n",
      "\u001b[36m\u001b[1m│ \u001b[22m\u001b[39m                        max(|u|): 0.03364075604569727,\n",
      "\u001b[36m\u001b[1m│ \u001b[22m\u001b[39m                        max(S): 15.500000000887301,\n",
      "\u001b[36m\u001b[1m└ \u001b[22m\u001b[39m                        Δt: 500 ms\n",
      "\u001b[36m\u001b[1m┌ \u001b[22m\u001b[39m\u001b[36m\u001b[1mInfo: \u001b[22m\u001b[39mTime : 6.833 minutes,\n",
      "\u001b[36m\u001b[1m│ \u001b[22m\u001b[39m                        max(|u|): 0.0337017024167538,\n",
      "\u001b[36m\u001b[1m│ \u001b[22m\u001b[39m                        max(S): 15.500000000913333,\n",
      "\u001b[36m\u001b[1m└ \u001b[22m\u001b[39m                        Δt: 500 ms\n",
      "\u001b[36m\u001b[1m┌ \u001b[22m\u001b[39m\u001b[36m\u001b[1mInfo: \u001b[22m\u001b[39mTime : 7 minutes,\n",
      "\u001b[36m\u001b[1m│ \u001b[22m\u001b[39m                        max(|u|): 0.033755541518444135,\n",
      "\u001b[36m\u001b[1m│ \u001b[22m\u001b[39m                        max(S): 15.500000000938243,\n",
      "\u001b[36m\u001b[1m└ \u001b[22m\u001b[39m                        Δt: 500 ms\n",
      "\u001b[36m\u001b[1m┌ \u001b[22m\u001b[39m\u001b[36m\u001b[1mInfo: \u001b[22m\u001b[39mTime : 7.167 minutes,\n",
      "\u001b[36m\u001b[1m│ \u001b[22m\u001b[39m                        max(|u|): 0.033802883784009086,\n",
      "\u001b[36m\u001b[1m│ \u001b[22m\u001b[39m                        max(S): 15.50000000096204,\n",
      "\u001b[36m\u001b[1m└ \u001b[22m\u001b[39m                        Δt: 500 ms\n",
      "\u001b[36m\u001b[1m┌ \u001b[22m\u001b[39m\u001b[36m\u001b[1mInfo: \u001b[22m\u001b[39mTime : 7.333 minutes,\n",
      "\u001b[36m\u001b[1m│ \u001b[22m\u001b[39m                        max(|u|): 0.03384427794478462,\n",
      "\u001b[36m\u001b[1m│ \u001b[22m\u001b[39m                        max(S): 15.500000000984539,\n",
      "\u001b[36m\u001b[1m└ \u001b[22m\u001b[39m                        Δt: 500 ms\n",
      "\u001b[36m\u001b[1m┌ \u001b[22m\u001b[39m\u001b[36m\u001b[1mInfo: \u001b[22m\u001b[39mTime : 7.500 minutes,\n",
      "\u001b[36m\u001b[1m│ \u001b[22m\u001b[39m                        max(|u|): 0.03388021750334545,\n",
      "\u001b[36m\u001b[1m│ \u001b[22m\u001b[39m                        max(S): 15.500000001005983,\n",
      "\u001b[36m\u001b[1m└ \u001b[22m\u001b[39m                        Δt: 500 ms\n",
      "\u001b[36m\u001b[1m┌ \u001b[22m\u001b[39m\u001b[36m\u001b[1mInfo: \u001b[22m\u001b[39mTime : 7.667 minutes,\n",
      "\u001b[36m\u001b[1m│ \u001b[22m\u001b[39m                        max(|u|): 0.03391240718060078,\n",
      "\u001b[36m\u001b[1m│ \u001b[22m\u001b[39m                        max(S): 15.500000001026462,\n",
      "\u001b[36m\u001b[1m└ \u001b[22m\u001b[39m                        Δt: 500 ms\n",
      "\u001b[36m\u001b[1m┌ \u001b[22m\u001b[39m\u001b[36m\u001b[1mInfo: \u001b[22m\u001b[39mTime : 7.833 minutes,\n",
      "\u001b[36m\u001b[1m│ \u001b[22m\u001b[39m                        max(|u|): 0.03394455510031428,\n",
      "\u001b[36m\u001b[1m│ \u001b[22m\u001b[39m                        max(S): 15.500000001045645,\n",
      "\u001b[36m\u001b[1m└ \u001b[22m\u001b[39m                        Δt: 500 ms\n",
      "\u001b[36m\u001b[1m┌ \u001b[22m\u001b[39m\u001b[36m\u001b[1mInfo: \u001b[22m\u001b[39mTime : 8 minutes,\n",
      "\u001b[36m\u001b[1m│ \u001b[22m\u001b[39m                        max(|u|): 0.0339725227764817,\n",
      "\u001b[36m\u001b[1m│ \u001b[22m\u001b[39m                        max(S): 15.500000001063686,\n",
      "\u001b[36m\u001b[1m└ \u001b[22m\u001b[39m                        Δt: 500 ms\n",
      "\u001b[36m\u001b[1m┌ \u001b[22m\u001b[39m\u001b[36m\u001b[1mInfo: \u001b[22m\u001b[39mTime : 8.167 minutes,\n",
      "\u001b[36m\u001b[1m│ \u001b[22m\u001b[39m                        max(|u|): 0.03399665310011739,\n",
      "\u001b[36m\u001b[1m│ \u001b[22m\u001b[39m                        max(S): 15.500000001080707,\n",
      "\u001b[36m\u001b[1m└ \u001b[22m\u001b[39m                        Δt: 500 ms\n",
      "\u001b[36m\u001b[1m┌ \u001b[22m\u001b[39m\u001b[36m\u001b[1mInfo: \u001b[22m\u001b[39mTime : 8.333 minutes,\n",
      "\u001b[36m\u001b[1m│ \u001b[22m\u001b[39m                        max(|u|): 0.03401725243958759,\n",
      "\u001b[36m\u001b[1m│ \u001b[22m\u001b[39m                        max(S): 15.500000001097085,\n",
      "\u001b[36m\u001b[1m└ \u001b[22m\u001b[39m                        Δt: 500 ms\n",
      "\u001b[36m\u001b[1m┌ \u001b[22m\u001b[39m\u001b[36m\u001b[1mInfo: \u001b[22m\u001b[39mTime : 8.500 minutes,\n",
      "\u001b[36m\u001b[1m│ \u001b[22m\u001b[39m                        max(|u|): 0.03403459407786152,\n",
      "\u001b[36m\u001b[1m│ \u001b[22m\u001b[39m                        max(S): 15.500000001113031,\n",
      "\u001b[36m\u001b[1m└ \u001b[22m\u001b[39m                        Δt: 500 ms\n",
      "\u001b[36m\u001b[1m┌ \u001b[22m\u001b[39m\u001b[36m\u001b[1mInfo: \u001b[22m\u001b[39mTime : 8.667 minutes,\n",
      "\u001b[36m\u001b[1m│ \u001b[22m\u001b[39m                        max(|u|): 0.03404892174111055,\n",
      "\u001b[36m\u001b[1m│ \u001b[22m\u001b[39m                        max(S): 15.500000001127852,\n",
      "\u001b[36m\u001b[1m└ \u001b[22m\u001b[39m                        Δt: 500 ms\n",
      "\u001b[36m\u001b[1m┌ \u001b[22m\u001b[39m\u001b[36m\u001b[1mInfo: \u001b[22m\u001b[39mTime : 8.833 minutes,\n",
      "\u001b[36m\u001b[1m│ \u001b[22m\u001b[39m                        max(|u|): 0.03406045313555239,\n",
      "\u001b[36m\u001b[1m│ \u001b[22m\u001b[39m                        max(S): 15.50000000114094,\n",
      "\u001b[36m\u001b[1m└ \u001b[22m\u001b[39m                        Δt: 500 ms\n",
      "\u001b[36m\u001b[1m┌ \u001b[22m\u001b[39m\u001b[36m\u001b[1mInfo: \u001b[22m\u001b[39mTime : 9 minutes,\n",
      "\u001b[36m\u001b[1m│ \u001b[22m\u001b[39m                        max(|u|): 0.03406938340483923,\n",
      "\u001b[36m\u001b[1m│ \u001b[22m\u001b[39m                        max(S): 15.50000000115157,\n",
      "\u001b[36m\u001b[1m└ \u001b[22m\u001b[39m                        Δt: 500 ms\n",
      "\u001b[36m\u001b[1m┌ \u001b[22m\u001b[39m\u001b[36m\u001b[1mInfo: \u001b[22m\u001b[39mTime : 9.167 minutes,\n",
      "\u001b[36m\u001b[1m│ \u001b[22m\u001b[39m                        max(|u|): 0.03407588842346669,\n",
      "\u001b[36m\u001b[1m│ \u001b[22m\u001b[39m                        max(S): 15.500000001157826,\n",
      "\u001b[36m\u001b[1m└ \u001b[22m\u001b[39m                        Δt: 500 ms\n",
      "\u001b[36m\u001b[1m┌ \u001b[22m\u001b[39m\u001b[36m\u001b[1mInfo: \u001b[22m\u001b[39mTime : 9.333 minutes,\n",
      "\u001b[36m\u001b[1m│ \u001b[22m\u001b[39m                        max(|u|): 0.03408012785226641,\n",
      "\u001b[36m\u001b[1m│ \u001b[22m\u001b[39m                        max(S): 15.500000001161638,\n",
      "\u001b[36m\u001b[1m└ \u001b[22m\u001b[39m                        Δt: 500 ms\n",
      "\u001b[36m\u001b[1m┌ \u001b[22m\u001b[39m\u001b[36m\u001b[1mInfo: \u001b[22m\u001b[39mTime : 9.500 minutes,\n",
      "\u001b[36m\u001b[1m│ \u001b[22m\u001b[39m                        max(|u|): 0.03408224789532423,\n",
      "\u001b[36m\u001b[1m│ \u001b[22m\u001b[39m                        max(S): 15.500000001158398,\n",
      "\u001b[36m\u001b[1m└ \u001b[22m\u001b[39m                        Δt: 500 ms\n",
      "\u001b[36m\u001b[1m┌ \u001b[22m\u001b[39m\u001b[36m\u001b[1mInfo: \u001b[22m\u001b[39mTime : 9.667 minutes,\n",
      "\u001b[36m\u001b[1m│ \u001b[22m\u001b[39m                        max(|u|): 0.03408238371360786,\n",
      "\u001b[36m\u001b[1m│ \u001b[22m\u001b[39m                        max(S): 15.500000001149942,\n",
      "\u001b[36m\u001b[1m└ \u001b[22m\u001b[39m                        Δt: 500 ms\n",
      "\u001b[36m\u001b[1m┌ \u001b[22m\u001b[39m\u001b[36m\u001b[1mInfo: \u001b[22m\u001b[39mTime : 9.833 minutes,\n",
      "\u001b[36m\u001b[1m│ \u001b[22m\u001b[39m                        max(|u|): 0.03408066147238172,\n",
      "\u001b[36m\u001b[1m│ \u001b[22m\u001b[39m                        max(S): 15.500000001144729,\n",
      "\u001b[36m\u001b[1m└ \u001b[22m\u001b[39m                        Δt: 500 ms\n",
      "\u001b[36m\u001b[1m┌ \u001b[22m\u001b[39m\u001b[36m\u001b[1mInfo: \u001b[22m\u001b[39mTime : 10 minutes,\n",
      "\u001b[36m\u001b[1m│ \u001b[22m\u001b[39m                        max(|u|): 0.034077200015874665,\n",
      "\u001b[36m\u001b[1m│ \u001b[22m\u001b[39m                        max(S): 15.500000001143164,\n",
      "\u001b[36m\u001b[1m└ \u001b[22m\u001b[39m                        Δt: 500 ms\n",
      "\u001b[36m\u001b[1m┌ \u001b[22m\u001b[39m\u001b[36m\u001b[1mInfo: \u001b[22m\u001b[39mTime : 10.167 minutes,\n",
      "\u001b[36m\u001b[1m│ \u001b[22m\u001b[39m                        max(|u|): 0.034072112178412044,\n",
      "\u001b[36m\u001b[1m│ \u001b[22m\u001b[39m                        max(S): 15.50000000114436,\n",
      "\u001b[36m\u001b[1m└ \u001b[22m\u001b[39m                        Δt: 500 ms\n",
      "\u001b[36m\u001b[1m┌ \u001b[22m\u001b[39m\u001b[36m\u001b[1mInfo: \u001b[22m\u001b[39mTime : 10.333 minutes,\n",
      "\u001b[36m\u001b[1m│ \u001b[22m\u001b[39m                        max(|u|): 0.03406550575625446,\n",
      "\u001b[36m\u001b[1m│ \u001b[22m\u001b[39m                        max(S): 15.50000000114675,\n",
      "\u001b[36m\u001b[1m└ \u001b[22m\u001b[39m                        Δt: 500 ms\n",
      "\u001b[36m\u001b[1m┌ \u001b[22m\u001b[39m\u001b[36m\u001b[1mInfo: \u001b[22m\u001b[39mTime : 10.500 minutes,\n",
      "\u001b[36m\u001b[1m│ \u001b[22m\u001b[39m                        max(|u|): 0.034057484176156054,\n",
      "\u001b[36m\u001b[1m│ \u001b[22m\u001b[39m                        max(S): 15.500000001149536,\n",
      "\u001b[36m\u001b[1m└ \u001b[22m\u001b[39m                        Δt: 500 ms\n",
      "\u001b[36m\u001b[1m┌ \u001b[22m\u001b[39m\u001b[36m\u001b[1mInfo: \u001b[22m\u001b[39mTime : 10.667 minutes,\n",
      "\u001b[36m\u001b[1m│ \u001b[22m\u001b[39m                        max(|u|): 0.03404814690418961,\n",
      "\u001b[36m\u001b[1m│ \u001b[22m\u001b[39m                        max(S): 15.500000001152213,\n",
      "\u001b[36m\u001b[1m└ \u001b[22m\u001b[39m                        Δt: 500 ms\n",
      "\u001b[36m\u001b[1m┌ \u001b[22m\u001b[39m\u001b[36m\u001b[1mInfo: \u001b[22m\u001b[39mTime : 10.833 minutes,\n",
      "\u001b[36m\u001b[1m│ \u001b[22m\u001b[39m                        max(|u|): 0.034037589643681844,\n",
      "\u001b[36m\u001b[1m│ \u001b[22m\u001b[39m                        max(S): 15.500000001154474,\n",
      "\u001b[36m\u001b[1m└ \u001b[22m\u001b[39m                        Δt: 500 ms\n",
      "\u001b[36m\u001b[1m┌ \u001b[22m\u001b[39m\u001b[36m\u001b[1mInfo: \u001b[22m\u001b[39mTime : 11 minutes,\n",
      "\u001b[36m\u001b[1m│ \u001b[22m\u001b[39m                        max(|u|): 0.03402590437042895,\n",
      "\u001b[36m\u001b[1m│ \u001b[22m\u001b[39m                        max(S): 15.500000001163254,\n",
      "\u001b[36m\u001b[1m└ \u001b[22m\u001b[39m                        Δt: 500 ms\n",
      "\u001b[36m\u001b[1m┌ \u001b[22m\u001b[39m\u001b[36m\u001b[1mInfo: \u001b[22m\u001b[39mTime : 11.167 minutes,\n",
      "\u001b[36m\u001b[1m│ \u001b[22m\u001b[39m                        max(|u|): 0.03401317925427934,\n",
      "\u001b[36m\u001b[1m│ \u001b[22m\u001b[39m                        max(S): 15.500000001171008,\n",
      "\u001b[36m\u001b[1m└ \u001b[22m\u001b[39m                        Δt: 500 ms\n",
      "\u001b[36m\u001b[1m┌ \u001b[22m\u001b[39m\u001b[36m\u001b[1mInfo: \u001b[22m\u001b[39mTime : 11.333 minutes,\n",
      "\u001b[36m\u001b[1m│ \u001b[22m\u001b[39m                        max(|u|): 0.033999498513606,\n",
      "\u001b[36m\u001b[1m│ \u001b[22m\u001b[39m                        max(S): 15.500000001176653,\n",
      "\u001b[36m\u001b[1m└ \u001b[22m\u001b[39m                        Δt: 500 ms\n",
      "\u001b[36m\u001b[1m┌ \u001b[22m\u001b[39m\u001b[36m\u001b[1mInfo: \u001b[22m\u001b[39mTime : 11.500 minutes,\n",
      "\u001b[36m\u001b[1m│ \u001b[22m\u001b[39m                        max(|u|): 0.03398494224130463,\n",
      "\u001b[36m\u001b[1m│ \u001b[22m\u001b[39m                        max(S): 15.500000001181101,\n",
      "\u001b[36m\u001b[1m└ \u001b[22m\u001b[39m                        Δt: 500 ms\n",
      "\u001b[36m\u001b[1m┌ \u001b[22m\u001b[39m\u001b[36m\u001b[1mInfo: \u001b[22m\u001b[39mTime : 11.667 minutes,\n",
      "\u001b[36m\u001b[1m│ \u001b[22m\u001b[39m                        max(|u|): 0.033969586235306805,\n",
      "\u001b[36m\u001b[1m│ \u001b[22m\u001b[39m                        max(S): 15.500000001184882,\n",
      "\u001b[36m\u001b[1m└ \u001b[22m\u001b[39m                        Δt: 500 ms\n",
      "\u001b[36m\u001b[1m┌ \u001b[22m\u001b[39m\u001b[36m\u001b[1mInfo: \u001b[22m\u001b[39mTime : 11.833 minutes,\n",
      "\u001b[36m\u001b[1m│ \u001b[22m\u001b[39m                        max(|u|): 0.033953501859664795,\n",
      "\u001b[36m\u001b[1m│ \u001b[22m\u001b[39m                        max(S): 15.500000001185287,\n",
      "\u001b[36m\u001b[1m└ \u001b[22m\u001b[39m                        Δt: 500 ms\n",
      "\u001b[36m\u001b[1m┌ \u001b[22m\u001b[39m\u001b[36m\u001b[1mInfo: \u001b[22m\u001b[39mTime : 12 minutes,\n",
      "\u001b[36m\u001b[1m│ \u001b[22m\u001b[39m                        max(|u|): 0.03393675595494565,\n",
      "\u001b[36m\u001b[1m│ \u001b[22m\u001b[39m                        max(S): 15.500000001208392,\n",
      "\u001b[36m\u001b[1m└ \u001b[22m\u001b[39m                        Δt: 500 ms\n",
      "\u001b[36m\u001b[1m┌ \u001b[22m\u001b[39m\u001b[36m\u001b[1mInfo: \u001b[22m\u001b[39mTime : 12.167 minutes,\n",
      "\u001b[36m\u001b[1m│ \u001b[22m\u001b[39m                        max(|u|): 0.03391941080941049,\n",
      "\u001b[36m\u001b[1m│ \u001b[22m\u001b[39m                        max(S): 15.500000001198012,\n",
      "\u001b[36m\u001b[1m└ \u001b[22m\u001b[39m                        Δt: 500 ms\n",
      "\u001b[36m\u001b[1m┌ \u001b[22m\u001b[39m\u001b[36m\u001b[1mInfo: \u001b[22m\u001b[39mTime : 12.333 minutes,\n",
      "\u001b[36m\u001b[1m│ \u001b[22m\u001b[39m                        max(|u|): 0.033901524195923356,\n",
      "\u001b[36m\u001b[1m│ \u001b[22m\u001b[39m                        max(S): 15.500000001194662,\n",
      "\u001b[36m\u001b[1m└ \u001b[22m\u001b[39m                        Δt: 500 ms\n",
      "\u001b[36m\u001b[1m┌ \u001b[22m\u001b[39m\u001b[36m\u001b[1mInfo: \u001b[22m\u001b[39mTime : 12.500 minutes,\n",
      "\u001b[36m\u001b[1m│ \u001b[22m\u001b[39m                        max(|u|): 0.03388314947396211,\n",
      "\u001b[36m\u001b[1m│ \u001b[22m\u001b[39m                        max(S): 15.500000001199616,\n",
      "\u001b[36m\u001b[1m└ \u001b[22m\u001b[39m                        Δt: 500 ms\n",
      "\u001b[36m\u001b[1m┌ \u001b[22m\u001b[39m\u001b[36m\u001b[1mInfo: \u001b[22m\u001b[39mTime : 12.667 minutes,\n",
      "\u001b[36m\u001b[1m│ \u001b[22m\u001b[39m                        max(|u|): 0.033864335751579204,\n",
      "\u001b[36m\u001b[1m│ \u001b[22m\u001b[39m                        max(S): 15.500000001205215,\n",
      "\u001b[36m\u001b[1m└ \u001b[22m\u001b[39m                        Δt: 500 ms\n",
      "\u001b[36m\u001b[1m┌ \u001b[22m\u001b[39m\u001b[36m\u001b[1mInfo: \u001b[22m\u001b[39mTime : 12.833 minutes,\n",
      "\u001b[36m\u001b[1m│ \u001b[22m\u001b[39m                        max(|u|): 0.03384512809876884,\n",
      "\u001b[36m\u001b[1m│ \u001b[22m\u001b[39m                        max(S): 15.500000001210802,\n",
      "\u001b[36m\u001b[1m└ \u001b[22m\u001b[39m                        Δt: 500 ms\n",
      "\u001b[36m\u001b[1m┌ \u001b[22m\u001b[39m\u001b[36m\u001b[1mInfo: \u001b[22m\u001b[39mTime : 13 minutes,\n",
      "\u001b[36m\u001b[1m│ \u001b[22m\u001b[39m                        max(|u|): 0.03382556780143305,\n",
      "\u001b[36m\u001b[1m│ \u001b[22m\u001b[39m                        max(S): 15.5000000012162,\n",
      "\u001b[36m\u001b[1m└ \u001b[22m\u001b[39m                        Δt: 500 ms\n",
      "\u001b[36m\u001b[1m┌ \u001b[22m\u001b[39m\u001b[36m\u001b[1mInfo: \u001b[22m\u001b[39mTime : 13.167 minutes,\n",
      "\u001b[36m\u001b[1m│ \u001b[22m\u001b[39m                        max(|u|): 0.03380569264390559,\n",
      "\u001b[36m\u001b[1m│ \u001b[22m\u001b[39m                        max(S): 15.500000001221348,\n",
      "\u001b[36m\u001b[1m└ \u001b[22m\u001b[39m                        Δt: 500 ms\n",
      "\u001b[36m\u001b[1m┌ \u001b[22m\u001b[39m\u001b[36m\u001b[1mInfo: \u001b[22m\u001b[39mTime : 13.333 minutes,\n",
      "\u001b[36m\u001b[1m│ \u001b[22m\u001b[39m                        max(|u|): 0.033785537207733626,\n",
      "\u001b[36m\u001b[1m│ \u001b[22m\u001b[39m                        max(S): 15.50000000122619,\n",
      "\u001b[36m\u001b[1m└ \u001b[22m\u001b[39m                        Δt: 500 ms\n",
      "\u001b[36m\u001b[1m┌ \u001b[22m\u001b[39m\u001b[36m\u001b[1mInfo: \u001b[22m\u001b[39mTime : 13.500 minutes,\n",
      "\u001b[36m\u001b[1m│ \u001b[22m\u001b[39m                        max(|u|): 0.03376513317498934,\n",
      "\u001b[36m\u001b[1m│ \u001b[22m\u001b[39m                        max(S): 15.500000001230713,\n",
      "\u001b[36m\u001b[1m└ \u001b[22m\u001b[39m                        Δt: 500 ms\n",
      "\u001b[36m\u001b[1m┌ \u001b[22m\u001b[39m\u001b[36m\u001b[1mInfo: \u001b[22m\u001b[39mTime : 13.667 minutes,\n",
      "\u001b[36m\u001b[1m│ \u001b[22m\u001b[39m                        max(|u|): 0.03374450962554544,\n",
      "\u001b[36m\u001b[1m│ \u001b[22m\u001b[39m                        max(S): 15.500000001234907,\n",
      "\u001b[36m\u001b[1m└ \u001b[22m\u001b[39m                        Δt: 500 ms\n",
      "\u001b[36m\u001b[1m┌ \u001b[22m\u001b[39m\u001b[36m\u001b[1mInfo: \u001b[22m\u001b[39mTime : 13.833 minutes,\n",
      "\u001b[36m\u001b[1m│ \u001b[22m\u001b[39m                        max(|u|): 0.033723693319475896,\n",
      "\u001b[36m\u001b[1m│ \u001b[22m\u001b[39m                        max(S): 15.500000001238778,\n",
      "\u001b[36m\u001b[1m└ \u001b[22m\u001b[39m                        Δt: 500 ms\n",
      "\u001b[36m\u001b[1m┌ \u001b[22m\u001b[39m\u001b[36m\u001b[1mInfo: \u001b[22m\u001b[39mTime : 14 minutes,\n",
      "\u001b[36m\u001b[1m│ \u001b[22m\u001b[39m                        max(|u|): 0.03370270895769153,\n",
      "\u001b[36m\u001b[1m│ \u001b[22m\u001b[39m                        max(S): 15.500000001242329,\n",
      "\u001b[36m\u001b[1m└ \u001b[22m\u001b[39m                        Δt: 500 ms\n",
      "\u001b[36m\u001b[1m┌ \u001b[22m\u001b[39m\u001b[36m\u001b[1mInfo: \u001b[22m\u001b[39mTime : 14.167 minutes,\n",
      "\u001b[36m\u001b[1m│ \u001b[22m\u001b[39m                        max(|u|): 0.033681579415939106,\n",
      "\u001b[36m\u001b[1m│ \u001b[22m\u001b[39m                        max(S): 15.500000001245576,\n",
      "\u001b[36m\u001b[1m└ \u001b[22m\u001b[39m                        Δt: 500 ms\n",
      "\u001b[36m\u001b[1m┌ \u001b[22m\u001b[39m\u001b[36m\u001b[1mInfo: \u001b[22m\u001b[39mTime : 14.333 minutes,\n",
      "\u001b[36m\u001b[1m│ \u001b[22m\u001b[39m                        max(|u|): 0.03366032594930522,\n",
      "\u001b[36m\u001b[1m│ \u001b[22m\u001b[39m                        max(S): 15.50000000124855,\n",
      "\u001b[36m\u001b[1m└ \u001b[22m\u001b[39m                        Δt: 500 ms\n",
      "\u001b[36m\u001b[1m┌ \u001b[22m\u001b[39m\u001b[36m\u001b[1mInfo: \u001b[22m\u001b[39mTime : 14.500 minutes,\n",
      "\u001b[36m\u001b[1m│ \u001b[22m\u001b[39m                        max(|u|): 0.03363896836623683,\n",
      "\u001b[36m\u001b[1m│ \u001b[22m\u001b[39m                        max(S): 15.50000000125126,\n",
      "\u001b[36m\u001b[1m└ \u001b[22m\u001b[39m                        Δt: 500 ms\n",
      "\u001b[36m\u001b[1m┌ \u001b[22m\u001b[39m\u001b[36m\u001b[1mInfo: \u001b[22m\u001b[39mTime : 14.667 minutes,\n",
      "\u001b[36m\u001b[1m│ \u001b[22m\u001b[39m                        max(|u|): 0.033617525172727133,\n",
      "\u001b[36m\u001b[1m│ \u001b[22m\u001b[39m                        max(S): 15.500000001253733,\n",
      "\u001b[36m\u001b[1m└ \u001b[22m\u001b[39m                        Δt: 500 ms\n",
      "\u001b[36m\u001b[1m┌ \u001b[22m\u001b[39m\u001b[36m\u001b[1mInfo: \u001b[22m\u001b[39mTime : 14.833 minutes,\n",
      "\u001b[36m\u001b[1m│ \u001b[22m\u001b[39m                        max(|u|): 0.033596013688657486,\n",
      "\u001b[36m\u001b[1m│ \u001b[22m\u001b[39m                        max(S): 15.50000000125598,\n",
      "\u001b[36m\u001b[1m└ \u001b[22m\u001b[39m                        Δt: 500 ms\n",
      "\u001b[36m\u001b[1m┌ \u001b[22m\u001b[39m\u001b[36m\u001b[1mInfo: \u001b[22m\u001b[39mTime : 15 minutes,\n",
      "\u001b[36m\u001b[1m│ \u001b[22m\u001b[39m                        max(|u|): 0.03357445013929416,\n",
      "\u001b[36m\u001b[1m│ \u001b[22m\u001b[39m                        max(S): 15.50000000125803,\n",
      "\u001b[36m\u001b[1m└ \u001b[22m\u001b[39m                        Δt: 500 ms\n",
      "\u001b[36m\u001b[1m┌ \u001b[22m\u001b[39m\u001b[36m\u001b[1mInfo: \u001b[22m\u001b[39mTime : 15.167 minutes,\n",
      "\u001b[36m\u001b[1m│ \u001b[22m\u001b[39m                        max(|u|): 0.033552849725627075,\n",
      "\u001b[36m\u001b[1m│ \u001b[22m\u001b[39m                        max(S): 15.500000001259899,\n",
      "\u001b[36m\u001b[1m└ \u001b[22m\u001b[39m                        Δt: 500 ms\n",
      "\u001b[36m\u001b[1m┌ \u001b[22m\u001b[39m\u001b[36m\u001b[1mInfo: \u001b[22m\u001b[39mTime : 15.333 minutes,\n",
      "\u001b[36m\u001b[1m│ \u001b[22m\u001b[39m                        max(|u|): 0.03353122667756782,\n",
      "\u001b[36m\u001b[1m│ \u001b[22m\u001b[39m                        max(S): 15.500000001261604,\n",
      "\u001b[36m\u001b[1m└ \u001b[22m\u001b[39m                        Δt: 500 ms\n",
      "\u001b[36m\u001b[1m┌ \u001b[22m\u001b[39m\u001b[36m\u001b[1mInfo: \u001b[22m\u001b[39mTime : 15.500 minutes,\n",
      "\u001b[36m\u001b[1m│ \u001b[22m\u001b[39m                        max(|u|): 0.03350959429409404,\n",
      "\u001b[36m\u001b[1m│ \u001b[22m\u001b[39m                        max(S): 15.500000001263153,\n",
      "\u001b[36m\u001b[1m└ \u001b[22m\u001b[39m                        Δt: 500 ms\n",
      "\u001b[36m\u001b[1m┌ \u001b[22m\u001b[39m\u001b[36m\u001b[1mInfo: \u001b[22m\u001b[39mTime : 15.667 minutes,\n",
      "\u001b[36m\u001b[1m│ \u001b[22m\u001b[39m                        max(|u|): 0.03348796497427629,\n",
      "\u001b[36m\u001b[1m│ \u001b[22m\u001b[39m                        max(S): 15.500000001264567,\n",
      "\u001b[36m\u001b[1m└ \u001b[22m\u001b[39m                        Δt: 500 ms\n",
      "\u001b[36m\u001b[1m┌ \u001b[22m\u001b[39m\u001b[36m\u001b[1mInfo: \u001b[22m\u001b[39mTime : 15.833 minutes,\n",
      "\u001b[36m\u001b[1m│ \u001b[22m\u001b[39m                        max(|u|): 0.03346635024274725,\n",
      "\u001b[36m\u001b[1m│ \u001b[22m\u001b[39m                        max(S): 15.500000001265855,\n",
      "\u001b[36m\u001b[1m└ \u001b[22m\u001b[39m                        Δt: 500 ms\n",
      "\u001b[36m\u001b[1m┌ \u001b[22m\u001b[39m\u001b[36m\u001b[1mInfo: \u001b[22m\u001b[39mTime : 16 minutes,\n",
      "\u001b[36m\u001b[1m│ \u001b[22m\u001b[39m                        max(|u|): 0.03344476077263427,\n",
      "\u001b[36m\u001b[1m│ \u001b[22m\u001b[39m                        max(S): 15.500000001267034,\n",
      "\u001b[36m\u001b[1m└ \u001b[22m\u001b[39m                        Δt: 500 ms\n",
      "\u001b[36m\u001b[1m┌ \u001b[22m\u001b[39m\u001b[36m\u001b[1mInfo: \u001b[22m\u001b[39mTime : 16.167 minutes,\n",
      "\u001b[36m\u001b[1m│ \u001b[22m\u001b[39m                        max(|u|): 0.033423206408435206,\n",
      "\u001b[36m\u001b[1m│ \u001b[22m\u001b[39m                        max(S): 15.500000001268123,\n",
      "\u001b[36m\u001b[1m└ \u001b[22m\u001b[39m                        Δt: 500 ms\n",
      "\u001b[36m\u001b[1m┌ \u001b[22m\u001b[39m\u001b[36m\u001b[1mInfo: \u001b[22m\u001b[39mTime : 16.333 minutes,\n",
      "\u001b[36m\u001b[1m│ \u001b[22m\u001b[39m                        max(|u|): 0.033401696190680744,\n",
      "\u001b[36m\u001b[1m│ \u001b[22m\u001b[39m                        max(S): 15.500000001269116,\n",
      "\u001b[36m\u001b[1m└ \u001b[22m\u001b[39m                        Δt: 500 ms\n",
      "\u001b[36m\u001b[1m┌ \u001b[22m\u001b[39m\u001b[36m\u001b[1mInfo: \u001b[22m\u001b[39mTime : 16.500 minutes,\n",
      "\u001b[36m\u001b[1m│ \u001b[22m\u001b[39m                        max(|u|): 0.03338023838358563,\n",
      "\u001b[36m\u001b[1m│ \u001b[22m\u001b[39m                        max(S): 15.50000000127003,\n",
      "\u001b[36m\u001b[1m└ \u001b[22m\u001b[39m                        Δt: 500 ms\n",
      "\u001b[36m\u001b[1m┌ \u001b[22m\u001b[39m\u001b[36m\u001b[1mInfo: \u001b[22m\u001b[39mTime : 16.667 minutes,\n",
      "\u001b[36m\u001b[1m│ \u001b[22m\u001b[39m                        max(|u|): 0.03335884050631679,\n",
      "\u001b[36m\u001b[1m│ \u001b[22m\u001b[39m                        max(S): 15.500000001270873,\n",
      "\u001b[36m\u001b[1m└ \u001b[22m\u001b[39m                        Δt: 500 ms\n",
      "\u001b[36m\u001b[1m┌ \u001b[22m\u001b[39m\u001b[36m\u001b[1mInfo: \u001b[22m\u001b[39mTime : 16.833 minutes,\n",
      "\u001b[36m\u001b[1m│ \u001b[22m\u001b[39m                        max(|u|): 0.033337509368010394,\n",
      "\u001b[36m\u001b[1m│ \u001b[22m\u001b[39m                        max(S): 15.500000001271657,\n",
      "\u001b[36m\u001b[1m└ \u001b[22m\u001b[39m                        Δt: 500 ms\n",
      "\u001b[36m\u001b[1m┌ \u001b[22m\u001b[39m\u001b[36m\u001b[1mInfo: \u001b[22m\u001b[39mTime : 17 minutes,\n",
      "\u001b[36m\u001b[1m│ \u001b[22m\u001b[39m                        max(|u|): 0.033316251106257806,\n",
      "\u001b[36m\u001b[1m│ \u001b[22m\u001b[39m                        max(S): 15.500000001272378,\n",
      "\u001b[36m\u001b[1m└ \u001b[22m\u001b[39m                        Δt: 500 ms\n",
      "\u001b[36m\u001b[1m┌ \u001b[22m\u001b[39m\u001b[36m\u001b[1mInfo: \u001b[22m\u001b[39mTime : 17.167 minutes,\n",
      "\u001b[36m\u001b[1m│ \u001b[22m\u001b[39m                        max(|u|): 0.03329507122846268,\n",
      "\u001b[36m\u001b[1m│ \u001b[22m\u001b[39m                        max(S): 15.500000001273046,\n",
      "\u001b[36m\u001b[1m└ \u001b[22m\u001b[39m                        Δt: 500 ms\n",
      "\u001b[36m\u001b[1m┌ \u001b[22m\u001b[39m\u001b[36m\u001b[1mInfo: \u001b[22m\u001b[39mTime : 17.333 minutes,\n",
      "\u001b[36m\u001b[1m│ \u001b[22m\u001b[39m                        max(|u|): 0.033273974655251684,\n",
      "\u001b[36m\u001b[1m│ \u001b[22m\u001b[39m                        max(S): 15.500000001273666,\n",
      "\u001b[36m\u001b[1m└ \u001b[22m\u001b[39m                        Δt: 500 ms\n",
      "\u001b[36m\u001b[1m┌ \u001b[22m\u001b[39m\u001b[36m\u001b[1mInfo: \u001b[22m\u001b[39mTime : 17.500 minutes,\n",
      "\u001b[36m\u001b[1m│ \u001b[22m\u001b[39m                        max(|u|): 0.033252965765003695,\n",
      "\u001b[36m\u001b[1m│ \u001b[22m\u001b[39m                        max(S): 15.500000001274246,\n",
      "\u001b[36m\u001b[1m└ \u001b[22m\u001b[39m                        Δt: 500 ms\n",
      "\u001b[36m\u001b[1m┌ \u001b[22m\u001b[39m\u001b[36m\u001b[1mInfo: \u001b[22m\u001b[39mTime : 17.667 minutes,\n",
      "\u001b[36m\u001b[1m│ \u001b[22m\u001b[39m                        max(|u|): 0.033232048438508466,\n",
      "\u001b[36m\u001b[1m│ \u001b[22m\u001b[39m                        max(S): 15.500000001274783,\n",
      "\u001b[36m\u001b[1m└ \u001b[22m\u001b[39m                        Δt: 500 ms\n",
      "\u001b[36m\u001b[1m┌ \u001b[22m\u001b[39m\u001b[36m\u001b[1mInfo: \u001b[22m\u001b[39mTime : 17.833 minutes,\n",
      "\u001b[36m\u001b[1m│ \u001b[22m\u001b[39m                        max(|u|): 0.0332112261027944,\n",
      "\u001b[36m\u001b[1m│ \u001b[22m\u001b[39m                        max(S): 15.500000001275287,\n",
      "\u001b[36m\u001b[1m└ \u001b[22m\u001b[39m                        Δt: 500 ms\n",
      "\u001b[36m\u001b[1m┌ \u001b[22m\u001b[39m\u001b[36m\u001b[1mInfo: \u001b[22m\u001b[39mTime : 18 minutes,\n",
      "\u001b[36m\u001b[1m│ \u001b[22m\u001b[39m                        max(|u|): 0.03319050177332546,\n",
      "\u001b[36m\u001b[1m│ \u001b[22m\u001b[39m                        max(S): 15.500000001275751,\n",
      "\u001b[36m\u001b[1m└ \u001b[22m\u001b[39m                        Δt: 500 ms\n",
      "\u001b[36m\u001b[1m┌ \u001b[22m\u001b[39m\u001b[36m\u001b[1mInfo: \u001b[22m\u001b[39mTime : 18.167 minutes,\n",
      "\u001b[36m\u001b[1m│ \u001b[22m\u001b[39m                        max(|u|): 0.03316987809384245,\n",
      "\u001b[36m\u001b[1m│ \u001b[22m\u001b[39m                        max(S): 15.500000001276195,\n",
      "\u001b[36m\u001b[1m└ \u001b[22m\u001b[39m                        Δt: 500 ms\n",
      "\u001b[36m\u001b[1m┌ \u001b[22m\u001b[39m\u001b[36m\u001b[1mInfo: \u001b[22m\u001b[39mTime : 18.333 minutes,\n",
      "\u001b[36m\u001b[1m│ \u001b[22m\u001b[39m                        max(|u|): 0.03314935737328738,\n",
      "\u001b[36m\u001b[1m│ \u001b[22m\u001b[39m                        max(S): 15.50000000127661,\n",
      "\u001b[36m\u001b[1m└ \u001b[22m\u001b[39m                        Δt: 500 ms\n",
      "\u001b[36m\u001b[1m┌ \u001b[22m\u001b[39m\u001b[36m\u001b[1mInfo: \u001b[22m\u001b[39mTime : 18.500 minutes,\n",
      "\u001b[36m\u001b[1m│ \u001b[22m\u001b[39m                        max(|u|): 0.033128941619439224,\n",
      "\u001b[36m\u001b[1m│ \u001b[22m\u001b[39m                        max(S): 15.500000001276995,\n",
      "\u001b[36m\u001b[1m└ \u001b[22m\u001b[39m                        Δt: 500 ms\n",
      "\u001b[36m\u001b[1m┌ \u001b[22m\u001b[39m\u001b[36m\u001b[1mInfo: \u001b[22m\u001b[39mTime : 18.667 minutes,\n",
      "\u001b[36m\u001b[1m│ \u001b[22m\u001b[39m                        max(|u|): 0.03310863256906535,\n",
      "\u001b[36m\u001b[1m│ \u001b[22m\u001b[39m                        max(S): 15.500000001277352,\n",
      "\u001b[36m\u001b[1m└ \u001b[22m\u001b[39m                        Δt: 500 ms\n",
      "\u001b[36m\u001b[1m┌ \u001b[22m\u001b[39m\u001b[36m\u001b[1mInfo: \u001b[22m\u001b[39mTime : 18.833 minutes,\n",
      "\u001b[36m\u001b[1m│ \u001b[22m\u001b[39m                        max(|u|): 0.03308843171455021,\n",
      "\u001b[36m\u001b[1m│ \u001b[22m\u001b[39m                        max(S): 15.50000000127769,\n",
      "\u001b[36m\u001b[1m└ \u001b[22m\u001b[39m                        Δt: 500 ms\n",
      "\u001b[36m\u001b[1m┌ \u001b[22m\u001b[39m\u001b[36m\u001b[1mInfo: \u001b[22m\u001b[39mTime : 19 minutes,\n",
      "\u001b[36m\u001b[1m│ \u001b[22m\u001b[39m                        max(|u|): 0.03306834032710207,\n",
      "\u001b[36m\u001b[1m│ \u001b[22m\u001b[39m                        max(S): 15.500000001278014,\n",
      "\u001b[36m\u001b[1m└ \u001b[22m\u001b[39m                        Δt: 500 ms\n",
      "\u001b[36m\u001b[1m┌ \u001b[22m\u001b[39m\u001b[36m\u001b[1mInfo: \u001b[22m\u001b[39mTime : 19.167 minutes,\n",
      "\u001b[36m\u001b[1m│ \u001b[22m\u001b[39m                        max(|u|): 0.03304835947675447,\n",
      "\u001b[36m\u001b[1m│ \u001b[22m\u001b[39m                        max(S): 15.500000001278321,\n",
      "\u001b[36m\u001b[1m└ \u001b[22m\u001b[39m                        Δt: 500 ms\n",
      "\u001b[36m\u001b[1m┌ \u001b[22m\u001b[39m\u001b[36m\u001b[1mInfo: \u001b[22m\u001b[39mTime : 19.333 minutes,\n",
      "\u001b[36m\u001b[1m│ \u001b[22m\u001b[39m                        max(|u|): 0.03302849004946782,\n",
      "\u001b[36m\u001b[1m│ \u001b[22m\u001b[39m                        max(S): 15.500000001278606,\n",
      "\u001b[36m\u001b[1m└ \u001b[22m\u001b[39m                        Δt: 500 ms\n",
      "\u001b[36m\u001b[1m┌ \u001b[22m\u001b[39m\u001b[36m\u001b[1mInfo: \u001b[22m\u001b[39mTime : 19.500 minutes,\n",
      "\u001b[36m\u001b[1m│ \u001b[22m\u001b[39m                        max(|u|): 0.033008732761693166,\n",
      "\u001b[36m\u001b[1m│ \u001b[22m\u001b[39m                        max(S): 15.500000001278872,\n",
      "\u001b[36m\u001b[1m└ \u001b[22m\u001b[39m                        Δt: 500 ms\n",
      "\u001b[36m\u001b[1m┌ \u001b[22m\u001b[39m\u001b[36m\u001b[1mInfo: \u001b[22m\u001b[39mTime : 19.667 minutes,\n",
      "\u001b[36m\u001b[1m│ \u001b[22m\u001b[39m                        max(|u|): 0.03298908817279058,\n",
      "\u001b[36m\u001b[1m│ \u001b[22m\u001b[39m                        max(S): 15.500000001279124,\n",
      "\u001b[36m\u001b[1m└ \u001b[22m\u001b[39m                        Δt: 500 ms\n",
      "\u001b[36m\u001b[1m┌ \u001b[22m\u001b[39m\u001b[36m\u001b[1mInfo: \u001b[22m\u001b[39mTime : 19.833 minutes,\n",
      "\u001b[36m\u001b[1m│ \u001b[22m\u001b[39m                        max(|u|): 0.032969556695699995,\n",
      "\u001b[36m\u001b[1m│ \u001b[22m\u001b[39m                        max(S): 15.500000001279364,\n",
      "\u001b[36m\u001b[1m└ \u001b[22m\u001b[39m                        Δt: 500 ms\n",
      "\u001b[36m\u001b[1m┌ \u001b[22m\u001b[39m\u001b[36m\u001b[1mInfo: \u001b[22m\u001b[39mTime : 20 minutes,\n",
      "\u001b[36m\u001b[1m│ \u001b[22m\u001b[39m                        max(|u|): 0.03295013860624692,\n",
      "\u001b[36m\u001b[1m│ \u001b[22m\u001b[39m                        max(S): 15.50000000127959,\n",
      "\u001b[36m\u001b[1m└ \u001b[22m\u001b[39m                        Δt: 500 ms\n",
      "\u001b[36m\u001b[1m┌ \u001b[22m\u001b[39m\u001b[36m\u001b[1mInfo: \u001b[22m\u001b[39mTime : 20.167 minutes,\n",
      "\u001b[36m\u001b[1m│ \u001b[22m\u001b[39m                        max(|u|): 0.032930834051433204,\n",
      "\u001b[36m\u001b[1m│ \u001b[22m\u001b[39m                        max(S): 15.500000001279803,\n",
      "\u001b[36m\u001b[1m└ \u001b[22m\u001b[39m                        Δt: 500 ms\n",
      "\u001b[36m\u001b[1m┌ \u001b[22m\u001b[39m\u001b[36m\u001b[1mInfo: \u001b[22m\u001b[39mTime : 20.333 minutes,\n",
      "\u001b[36m\u001b[1m│ \u001b[22m\u001b[39m                        max(|u|): 0.03291164305701869,\n",
      "\u001b[36m\u001b[1m│ \u001b[22m\u001b[39m                        max(S): 15.500000001279997,\n",
      "\u001b[36m\u001b[1m└ \u001b[22m\u001b[39m                        Δt: 500 ms\n",
      "\u001b[36m\u001b[1m┌ \u001b[22m\u001b[39m\u001b[36m\u001b[1mInfo: \u001b[22m\u001b[39mTime : 20.500 minutes,\n",
      "\u001b[36m\u001b[1m│ \u001b[22m\u001b[39m                        max(|u|): 0.03289256553464707,\n",
      "\u001b[36m\u001b[1m│ \u001b[22m\u001b[39m                        max(S): 15.500000001280187,\n",
      "\u001b[36m\u001b[1m└ \u001b[22m\u001b[39m                        Δt: 500 ms\n",
      "\u001b[36m\u001b[1m┌ \u001b[22m\u001b[39m\u001b[36m\u001b[1mInfo: \u001b[22m\u001b[39mTime : 20.667 minutes,\n",
      "\u001b[36m\u001b[1m│ \u001b[22m\u001b[39m                        max(|u|): 0.0328736012887134,\n",
      "\u001b[36m\u001b[1m│ \u001b[22m\u001b[39m                        max(S): 15.500000001280355,\n",
      "\u001b[36m\u001b[1m└ \u001b[22m\u001b[39m                        Δt: 500 ms\n",
      "\u001b[36m\u001b[1m┌ \u001b[22m\u001b[39m\u001b[36m\u001b[1mInfo: \u001b[22m\u001b[39mTime : 20.833 minutes,\n",
      "\u001b[36m\u001b[1m│ \u001b[22m\u001b[39m                        max(|u|): 0.03285475002311644,\n",
      "\u001b[36m\u001b[1m│ \u001b[22m\u001b[39m                        max(S): 15.500000001280519,\n",
      "\u001b[36m\u001b[1m└ \u001b[22m\u001b[39m                        Δt: 500 ms\n",
      "\u001b[36m\u001b[1m┌ \u001b[22m\u001b[39m\u001b[36m\u001b[1mInfo: \u001b[22m\u001b[39mTime : 21 minutes,\n",
      "\u001b[36m\u001b[1m│ \u001b[22m\u001b[39m                        max(|u|): 0.0328360113479861,\n",
      "\u001b[36m\u001b[1m│ \u001b[22m\u001b[39m                        max(S): 15.50000000128067,\n",
      "\u001b[36m\u001b[1m└ \u001b[22m\u001b[39m                        Δt: 500 ms\n",
      "\u001b[36m\u001b[1m┌ \u001b[22m\u001b[39m\u001b[36m\u001b[1mInfo: \u001b[22m\u001b[39mTime : 21.167 minutes,\n",
      "\u001b[36m\u001b[1m│ \u001b[22m\u001b[39m                        max(|u|): 0.03281738478643187,\n",
      "\u001b[36m\u001b[1m│ \u001b[22m\u001b[39m                        max(S): 15.500000001280814,\n",
      "\u001b[36m\u001b[1m└ \u001b[22m\u001b[39m                        Δt: 500 ms\n",
      "\u001b[36m\u001b[1m┌ \u001b[22m\u001b[39m\u001b[36m\u001b[1mInfo: \u001b[22m\u001b[39mTime : 21.333 minutes,\n",
      "\u001b[36m\u001b[1m│ \u001b[22m\u001b[39m                        max(|u|): 0.03279886978131909,\n",
      "\u001b[36m\u001b[1m│ \u001b[22m\u001b[39m                        max(S): 15.500000001280938,\n",
      "\u001b[36m\u001b[1m└ \u001b[22m\u001b[39m                        Δt: 500 ms\n",
      "\u001b[36m\u001b[1m┌ \u001b[22m\u001b[39m\u001b[36m\u001b[1mInfo: \u001b[22m\u001b[39mTime : 21.500 minutes,\n",
      "\u001b[36m\u001b[1m│ \u001b[22m\u001b[39m                        max(|u|): 0.032780465702049726,\n",
      "\u001b[36m\u001b[1m│ \u001b[22m\u001b[39m                        max(S): 15.500000001281053,\n",
      "\u001b[36m\u001b[1m└ \u001b[22m\u001b[39m                        Δt: 500 ms\n",
      "\u001b[36m\u001b[1m┌ \u001b[22m\u001b[39m\u001b[36m\u001b[1mInfo: \u001b[22m\u001b[39mTime : 21.667 minutes,\n",
      "\u001b[36m\u001b[1m│ \u001b[22m\u001b[39m                        max(|u|): 0.03276217185130781,\n",
      "\u001b[36m\u001b[1m│ \u001b[22m\u001b[39m                        max(S): 15.50000000128116,\n",
      "\u001b[36m\u001b[1m└ \u001b[22m\u001b[39m                        Δt: 500 ms\n",
      "\u001b[36m\u001b[1m┌ \u001b[22m\u001b[39m\u001b[36m\u001b[1mInfo: \u001b[22m\u001b[39mTime : 21.833 minutes,\n",
      "\u001b[36m\u001b[1m│ \u001b[22m\u001b[39m                        max(|u|): 0.032743987471704365,\n",
      "\u001b[36m\u001b[1m│ \u001b[22m\u001b[39m                        max(S): 15.500000001281256,\n",
      "\u001b[36m\u001b[1m└ \u001b[22m\u001b[39m                        Δt: 500 ms\n",
      "\u001b[36m\u001b[1m┌ \u001b[22m\u001b[39m\u001b[36m\u001b[1mInfo: \u001b[22m\u001b[39mTime : 22 minutes,\n",
      "\u001b[36m\u001b[1m│ \u001b[22m\u001b[39m                        max(|u|): 0.03272591175224412,\n",
      "\u001b[36m\u001b[1m│ \u001b[22m\u001b[39m                        max(S): 15.500000001281345,\n",
      "\u001b[36m\u001b[1m└ \u001b[22m\u001b[39m                        Δt: 500 ms\n",
      "\u001b[36m\u001b[1m┌ \u001b[22m\u001b[39m\u001b[36m\u001b[1mInfo: \u001b[22m\u001b[39mTime : 22.167 minutes,\n",
      "\u001b[36m\u001b[1m│ \u001b[22m\u001b[39m                        max(|u|): 0.03270794383458169,\n",
      "\u001b[36m\u001b[1m│ \u001b[22m\u001b[39m                        max(S): 15.500000001281425,\n",
      "\u001b[36m\u001b[1m└ \u001b[22m\u001b[39m                        Δt: 500 ms\n",
      "\u001b[36m\u001b[1m┌ \u001b[22m\u001b[39m\u001b[36m\u001b[1mInfo: \u001b[22m\u001b[39mTime : 22.333 minutes,\n",
      "\u001b[36m\u001b[1m│ \u001b[22m\u001b[39m                        max(|u|): 0.03269008281900117,\n",
      "\u001b[36m\u001b[1m│ \u001b[22m\u001b[39m                        max(S): 15.500000001281496,\n",
      "\u001b[36m\u001b[1m└ \u001b[22m\u001b[39m                        Δt: 500 ms\n",
      "\u001b[36m\u001b[1m┌ \u001b[22m\u001b[39m\u001b[36m\u001b[1mInfo: \u001b[22m\u001b[39mTime : 22.500 minutes,\n",
      "\u001b[36m\u001b[1m│ \u001b[22m\u001b[39m                        max(|u|): 0.03267232777005967,\n",
      "\u001b[36m\u001b[1m│ \u001b[22m\u001b[39m                        max(S): 15.500000001281553,\n",
      "\u001b[36m\u001b[1m└ \u001b[22m\u001b[39m                        Δt: 500 ms\n",
      "\u001b[36m\u001b[1m┌ \u001b[22m\u001b[39m\u001b[36m\u001b[1mInfo: \u001b[22m\u001b[39mTime : 22.667 minutes,\n",
      "\u001b[36m\u001b[1m│ \u001b[22m\u001b[39m                        max(|u|): 0.03265467772185774,\n",
      "\u001b[36m\u001b[1m│ \u001b[22m\u001b[39m                        max(S): 15.500000001281604,\n",
      "\u001b[36m\u001b[1m└ \u001b[22m\u001b[39m                        Δt: 500 ms\n",
      "\u001b[36m\u001b[1m┌ \u001b[22m\u001b[39m\u001b[36m\u001b[1mInfo: \u001b[22m\u001b[39mTime : 22.833 minutes,\n",
      "\u001b[36m\u001b[1m│ \u001b[22m\u001b[39m                        max(|u|): 0.032637131682914385,\n",
      "\u001b[36m\u001b[1m│ \u001b[22m\u001b[39m                        max(S): 15.500000001281645,\n",
      "\u001b[36m\u001b[1m└ \u001b[22m\u001b[39m                        Δt: 500 ms\n",
      "\u001b[36m\u001b[1m┌ \u001b[22m\u001b[39m\u001b[36m\u001b[1mInfo: \u001b[22m\u001b[39mTime : 23 minutes,\n",
      "\u001b[36m\u001b[1m│ \u001b[22m\u001b[39m                        max(|u|): 0.032619688640636024,\n",
      "\u001b[36m\u001b[1m│ \u001b[22m\u001b[39m                        max(S): 15.500000001281673,\n",
      "\u001b[36m\u001b[1m└ \u001b[22m\u001b[39m                        Δt: 500 ms\n",
      "\u001b[36m\u001b[1m┌ \u001b[22m\u001b[39m\u001b[36m\u001b[1mInfo: \u001b[22m\u001b[39mTime : 23.167 minutes,\n",
      "\u001b[36m\u001b[1m│ \u001b[22m\u001b[39m                        max(|u|): 0.03260234756538,\n",
      "\u001b[36m\u001b[1m│ \u001b[22m\u001b[39m                        max(S): 15.50000000128169,\n",
      "\u001b[36m\u001b[1m└ \u001b[22m\u001b[39m                        Δt: 500 ms\n",
      "\u001b[36m\u001b[1m┌ \u001b[22m\u001b[39m\u001b[36m\u001b[1mInfo: \u001b[22m\u001b[39mTime : 23.333 minutes,\n",
      "\u001b[36m\u001b[1m│ \u001b[22m\u001b[39m                        max(|u|): 0.03258510741412331,\n",
      "\u001b[36m\u001b[1m│ \u001b[22m\u001b[39m                        max(S): 15.500000001281707,\n",
      "\u001b[36m\u001b[1m└ \u001b[22m\u001b[39m                        Δt: 500 ms\n",
      "\u001b[36m\u001b[1m┌ \u001b[22m\u001b[39m\u001b[36m\u001b[1mInfo: \u001b[22m\u001b[39mTime : 23.500 minutes,\n",
      "\u001b[36m\u001b[1m│ \u001b[22m\u001b[39m                        max(|u|): 0.032567967133756745,\n",
      "\u001b[36m\u001b[1m│ \u001b[22m\u001b[39m                        max(S): 15.500000001281707,\n",
      "\u001b[36m\u001b[1m└ \u001b[22m\u001b[39m                        Δt: 500 ms\n",
      "\u001b[36m\u001b[1m┌ \u001b[22m\u001b[39m\u001b[36m\u001b[1mInfo: \u001b[22m\u001b[39mTime : 23.667 minutes,\n",
      "\u001b[36m\u001b[1m│ \u001b[22m\u001b[39m                        max(|u|): 0.03255092566403146,\n",
      "\u001b[36m\u001b[1m│ \u001b[22m\u001b[39m                        max(S): 15.5000000012817,\n",
      "\u001b[36m\u001b[1m└ \u001b[22m\u001b[39m                        Δt: 500 ms\n",
      "\u001b[36m\u001b[1m┌ \u001b[22m\u001b[39m\u001b[36m\u001b[1mInfo: \u001b[22m\u001b[39mTime : 23.833 minutes,\n",
      "\u001b[36m\u001b[1m│ \u001b[22m\u001b[39m                        max(|u|): 0.032533981940188576,\n",
      "\u001b[36m\u001b[1m│ \u001b[22m\u001b[39m                        max(S): 15.500000001281673,\n",
      "\u001b[36m\u001b[1m└ \u001b[22m\u001b[39m                        Δt: 500 ms\n",
      "\u001b[36m\u001b[1m┌ \u001b[22m\u001b[39m\u001b[36m\u001b[1mInfo: \u001b[22m\u001b[39mTime : 24 minutes,\n",
      "\u001b[36m\u001b[1m│ \u001b[22m\u001b[39m                        max(|u|): 0.03251713489530453,\n",
      "\u001b[36m\u001b[1m│ \u001b[22m\u001b[39m                        max(S): 15.500000001281645,\n",
      "\u001b[36m\u001b[1m└ \u001b[22m\u001b[39m                        Δt: 500 ms\n",
      "\u001b[36m\u001b[1m┌ \u001b[22m\u001b[39m\u001b[36m\u001b[1mInfo: \u001b[22m\u001b[39mTime : 24.167 minutes,\n",
      "\u001b[36m\u001b[1m│ \u001b[22m\u001b[39m                        max(|u|): 0.03250038346238969,\n",
      "\u001b[36m\u001b[1m│ \u001b[22m\u001b[39m                        max(S): 15.500000001281597,\n",
      "\u001b[36m\u001b[1m└ \u001b[22m\u001b[39m                        Δt: 500 ms\n",
      "\u001b[36m\u001b[1m┌ \u001b[22m\u001b[39m\u001b[36m\u001b[1mInfo: \u001b[22m\u001b[39mTime : 24.333 minutes,\n",
      "\u001b[36m\u001b[1m│ \u001b[22m\u001b[39m                        max(|u|): 0.032483726576271965,\n",
      "\u001b[36m\u001b[1m│ \u001b[22m\u001b[39m                        max(S): 15.500000001281546,\n",
      "\u001b[36m\u001b[1m└ \u001b[22m\u001b[39m                        Δt: 500 ms\n",
      "\u001b[36m\u001b[1m┌ \u001b[22m\u001b[39m\u001b[36m\u001b[1mInfo: \u001b[22m\u001b[39mTime : 24.500 minutes,\n",
      "\u001b[36m\u001b[1m│ \u001b[22m\u001b[39m                        max(|u|): 0.032467163175292066,\n",
      "\u001b[36m\u001b[1m│ \u001b[22m\u001b[39m                        max(S): 15.500000001281496,\n",
      "\u001b[36m\u001b[1m└ \u001b[22m\u001b[39m                        Δt: 500 ms\n",
      "\u001b[36m\u001b[1m┌ \u001b[22m\u001b[39m\u001b[36m\u001b[1mInfo: \u001b[22m\u001b[39mTime : 24.667 minutes,\n",
      "\u001b[36m\u001b[1m│ \u001b[22m\u001b[39m                        max(|u|): 0.03245069220283972,\n",
      "\u001b[36m\u001b[1m│ \u001b[22m\u001b[39m                        max(S): 15.500000001281423,\n",
      "\u001b[36m\u001b[1m└ \u001b[22m\u001b[39m                        Δt: 500 ms\n",
      "\u001b[36m\u001b[1m┌ \u001b[22m\u001b[39m\u001b[36m\u001b[1mInfo: \u001b[22m\u001b[39mTime : 24.833 minutes,\n",
      "\u001b[36m\u001b[1m│ \u001b[22m\u001b[39m                        max(|u|): 0.03243431260875513,\n",
      "\u001b[36m\u001b[1m│ \u001b[22m\u001b[39m                        max(S): 15.500000001281354,\n",
      "\u001b[36m\u001b[1m└ \u001b[22m\u001b[39m                        Δt: 500 ms\n",
      "\u001b[36m\u001b[1m┌ \u001b[22m\u001b[39m\u001b[36m\u001b[1mInfo: \u001b[22m\u001b[39mTime : 25 minutes,\n",
      "\u001b[36m\u001b[1m│ \u001b[22m\u001b[39m                        max(|u|): 0.032418023350614326,\n",
      "\u001b[36m\u001b[1m│ \u001b[22m\u001b[39m                        max(S): 15.500000001281261,\n",
      "\u001b[36m\u001b[1m└ \u001b[22m\u001b[39m                        Δt: 500 ms\n",
      "\u001b[36m\u001b[1m┌ \u001b[22m\u001b[39m\u001b[36m\u001b[1mInfo: \u001b[22m\u001b[39mTime : 25.167 minutes,\n",
      "\u001b[36m\u001b[1m│ \u001b[22m\u001b[39m                        max(|u|): 0.03240182339491189,\n",
      "\u001b[36m\u001b[1m│ \u001b[22m\u001b[39m                        max(S): 15.50000000128116,\n",
      "\u001b[36m\u001b[1m└ \u001b[22m\u001b[39m                        Δt: 500 ms\n",
      "\u001b[36m\u001b[1m┌ \u001b[22m\u001b[39m\u001b[36m\u001b[1mInfo: \u001b[22m\u001b[39mTime : 25.333 minutes,\n",
      "\u001b[36m\u001b[1m│ \u001b[22m\u001b[39m                        max(|u|): 0.03238571171815102,\n",
      "\u001b[36m\u001b[1m│ \u001b[22m\u001b[39m                        max(S): 15.500000001281055,\n",
      "\u001b[36m\u001b[1m└ \u001b[22m\u001b[39m                        Δt: 500 ms\n",
      "\u001b[36m\u001b[1m┌ \u001b[22m\u001b[39m\u001b[36m\u001b[1mInfo: \u001b[22m\u001b[39mTime : 25.500 minutes,\n",
      "\u001b[36m\u001b[1m│ \u001b[22m\u001b[39m                        max(|u|): 0.03236968730784983,\n",
      "\u001b[36m\u001b[1m│ \u001b[22m\u001b[39m                        max(S): 15.500000001280927,\n",
      "\u001b[36m\u001b[1m└ \u001b[22m\u001b[39m                        Δt: 500 ms\n",
      "\u001b[36m\u001b[1m┌ \u001b[22m\u001b[39m\u001b[36m\u001b[1mInfo: \u001b[22m\u001b[39mTime : 25.667 minutes,\n",
      "\u001b[36m\u001b[1m│ \u001b[22m\u001b[39m                        max(|u|): 0.032353749163468594,\n",
      "\u001b[36m\u001b[1m│ \u001b[22m\u001b[39m                        max(S): 15.500000001280794,\n",
      "\u001b[36m\u001b[1m└ \u001b[22m\u001b[39m                        Δt: 500 ms\n",
      "\u001b[36m\u001b[1m┌ \u001b[22m\u001b[39m\u001b[36m\u001b[1mInfo: \u001b[22m\u001b[39mTime : 25.833 minutes,\n",
      "\u001b[36m\u001b[1m│ \u001b[22m\u001b[39m                        max(|u|): 0.03233789629725987,\n",
      "\u001b[36m\u001b[1m│ \u001b[22m\u001b[39m                        max(S): 15.500000001280643,\n",
      "\u001b[36m\u001b[1m└ \u001b[22m\u001b[39m                        Δt: 500 ms\n",
      "\u001b[36m\u001b[1m┌ \u001b[22m\u001b[39m\u001b[36m\u001b[1mInfo: \u001b[22m\u001b[39mTime : 26 minutes,\n",
      "\u001b[36m\u001b[1m│ \u001b[22m\u001b[39m                        max(|u|): 0.03232246209514654,\n",
      "\u001b[36m\u001b[1m│ \u001b[22m\u001b[39m                        max(S): 15.5000000012805,\n",
      "\u001b[36m\u001b[1m└ \u001b[22m\u001b[39m                        Δt: 500 ms\n",
      "\u001b[36m\u001b[1m┌ \u001b[22m\u001b[39m\u001b[36m\u001b[1mInfo: \u001b[22m\u001b[39mTime : 26.167 minutes,\n",
      "\u001b[36m\u001b[1m│ \u001b[22m\u001b[39m                        max(|u|): 0.032307132504388776,\n",
      "\u001b[36m\u001b[1m│ \u001b[22m\u001b[39m                        max(S): 15.500000001280322,\n",
      "\u001b[36m\u001b[1m└ \u001b[22m\u001b[39m                        Δt: 500 ms\n",
      "\u001b[36m\u001b[1m┌ \u001b[22m\u001b[39m\u001b[36m\u001b[1mInfo: \u001b[22m\u001b[39mTime : 26.333 minutes,\n",
      "\u001b[36m\u001b[1m│ \u001b[22m\u001b[39m                        max(|u|): 0.03229188345149254,\n",
      "\u001b[36m\u001b[1m│ \u001b[22m\u001b[39m                        max(S): 15.500000001280146,\n",
      "\u001b[36m\u001b[1m└ \u001b[22m\u001b[39m                        Δt: 500 ms\n",
      "\u001b[36m\u001b[1m┌ \u001b[22m\u001b[39m\u001b[36m\u001b[1mInfo: \u001b[22m\u001b[39mTime : 26.500 minutes,\n",
      "\u001b[36m\u001b[1m│ \u001b[22m\u001b[39m                        max(|u|): 0.032276714029069634,\n",
      "\u001b[36m\u001b[1m│ \u001b[22m\u001b[39m                        max(S): 15.500000001279954,\n",
      "\u001b[36m\u001b[1m└ \u001b[22m\u001b[39m                        Δt: 500 ms\n",
      "\u001b[36m\u001b[1m┌ \u001b[22m\u001b[39m\u001b[36m\u001b[1mInfo: \u001b[22m\u001b[39mTime : 26.667 minutes,\n",
      "\u001b[36m\u001b[1m│ \u001b[22m\u001b[39m                        max(|u|): 0.03226162334503351,\n",
      "\u001b[36m\u001b[1m│ \u001b[22m\u001b[39m                        max(S): 15.50000000127975,\n",
      "\u001b[36m\u001b[1m└ \u001b[22m\u001b[39m                        Δt: 500 ms\n",
      "\u001b[36m\u001b[1m┌ \u001b[22m\u001b[39m\u001b[36m\u001b[1mInfo: \u001b[22m\u001b[39mTime : 26.833 minutes,\n",
      "\u001b[36m\u001b[1m│ \u001b[22m\u001b[39m                        max(|u|): 0.032246610522996405,\n",
      "\u001b[36m\u001b[1m│ \u001b[22m\u001b[39m                        max(S): 15.500000001279536,\n",
      "\u001b[36m\u001b[1m└ \u001b[22m\u001b[39m                        Δt: 500 ms\n",
      "\u001b[36m\u001b[1m┌ \u001b[22m\u001b[39m\u001b[36m\u001b[1mInfo: \u001b[22m\u001b[39mTime : 27 minutes,\n",
      "\u001b[36m\u001b[1m│ \u001b[22m\u001b[39m                        max(|u|): 0.032231674702589905,\n",
      "\u001b[36m\u001b[1m│ \u001b[22m\u001b[39m                        max(S): 15.500000001279298,\n",
      "\u001b[36m\u001b[1m└ \u001b[22m\u001b[39m                        Δt: 500 ms\n",
      "\u001b[36m\u001b[1m┌ \u001b[22m\u001b[39m\u001b[36m\u001b[1mInfo: \u001b[22m\u001b[39mTime : 27.167 minutes,\n",
      "\u001b[36m\u001b[1m│ \u001b[22m\u001b[39m                        max(|u|): 0.032216815039710314,\n",
      "\u001b[36m\u001b[1m│ \u001b[22m\u001b[39m                        max(S): 15.500000001279052,\n",
      "\u001b[36m\u001b[1m└ \u001b[22m\u001b[39m                        Δt: 500 ms\n",
      "\u001b[36m\u001b[1m┌ \u001b[22m\u001b[39m\u001b[36m\u001b[1mInfo: \u001b[22m\u001b[39mTime : 27.333 minutes,\n",
      "\u001b[36m\u001b[1m│ \u001b[22m\u001b[39m                        max(|u|): 0.03220203070669289,\n",
      "\u001b[36m\u001b[1m│ \u001b[22m\u001b[39m                        max(S): 15.500000001278785,\n",
      "\u001b[36m\u001b[1m└ \u001b[22m\u001b[39m                        Δt: 500 ms\n",
      "\u001b[36m\u001b[1m┌ \u001b[22m\u001b[39m\u001b[36m\u001b[1mInfo: \u001b[22m\u001b[39mTime : 27.500 minutes,\n",
      "\u001b[36m\u001b[1m│ \u001b[22m\u001b[39m                        max(|u|): 0.03218732089241738,\n",
      "\u001b[36m\u001b[1m│ \u001b[22m\u001b[39m                        max(S): 15.50000000127852,\n",
      "\u001b[36m\u001b[1m└ \u001b[22m\u001b[39m                        Δt: 500 ms\n",
      "\u001b[36m\u001b[1m┌ \u001b[22m\u001b[39m\u001b[36m\u001b[1mInfo: \u001b[22m\u001b[39mTime : 27.667 minutes,\n",
      "\u001b[36m\u001b[1m│ \u001b[22m\u001b[39m                        max(|u|): 0.0321726848023457,\n",
      "\u001b[36m\u001b[1m│ \u001b[22m\u001b[39m                        max(S): 15.500000001278236,\n",
      "\u001b[36m\u001b[1m└ \u001b[22m\u001b[39m                        Δt: 500 ms\n",
      "\u001b[36m\u001b[1m┌ \u001b[22m\u001b[39m\u001b[36m\u001b[1mInfo: \u001b[22m\u001b[39mTime : 27.833 minutes,\n",
      "\u001b[36m\u001b[1m│ \u001b[22m\u001b[39m                        max(|u|): 0.03215812165850301,\n",
      "\u001b[36m\u001b[1m│ \u001b[22m\u001b[39m                        max(S): 15.50000000127793,\n",
      "\u001b[36m\u001b[1m└ \u001b[22m\u001b[39m                        Δt: 500 ms\n",
      "\u001b[36m\u001b[1m┌ \u001b[22m\u001b[39m\u001b[36m\u001b[1mInfo: \u001b[22m\u001b[39mTime : 28 minutes,\n",
      "\u001b[36m\u001b[1m│ \u001b[22m\u001b[39m                        max(|u|): 0.03214363069940787,\n",
      "\u001b[36m\u001b[1m│ \u001b[22m\u001b[39m                        max(S): 15.500000001277623,\n",
      "\u001b[36m\u001b[1m└ \u001b[22m\u001b[39m                        Δt: 500 ms\n",
      "\u001b[36m\u001b[1m┌ \u001b[22m\u001b[39m\u001b[36m\u001b[1mInfo: \u001b[22m\u001b[39mTime : 28.167 minutes,\n",
      "\u001b[36m\u001b[1m│ \u001b[22m\u001b[39m                        max(|u|): 0.032129211179954424,\n",
      "\u001b[36m\u001b[1m│ \u001b[22m\u001b[39m                        max(S): 15.500000001277296,\n",
      "\u001b[36m\u001b[1m└ \u001b[22m\u001b[39m                        Δt: 500 ms\n",
      "\u001b[36m\u001b[1m┌ \u001b[22m\u001b[39m\u001b[36m\u001b[1mInfo: \u001b[22m\u001b[39mTime : 28.333 minutes,\n",
      "\u001b[36m\u001b[1m│ \u001b[22m\u001b[39m                        max(|u|): 0.03211486237125276,\n",
      "\u001b[36m\u001b[1m│ \u001b[22m\u001b[39m                        max(S): 15.500000001276947,\n",
      "\u001b[36m\u001b[1m└ \u001b[22m\u001b[39m                        Δt: 500 ms\n",
      "\u001b[36m\u001b[1m┌ \u001b[22m\u001b[39m\u001b[36m\u001b[1mInfo: \u001b[22m\u001b[39mTime : 28.500 minutes,\n",
      "\u001b[36m\u001b[1m│ \u001b[22m\u001b[39m                        max(|u|): 0.03210058356043371,\n",
      "\u001b[36m\u001b[1m│ \u001b[22m\u001b[39m                        max(S): 15.500000001276591,\n",
      "\u001b[36m\u001b[1m└ \u001b[22m\u001b[39m                        Δt: 500 ms\n",
      "\u001b[36m\u001b[1m┌ \u001b[22m\u001b[39m\u001b[36m\u001b[1mInfo: \u001b[22m\u001b[39mTime : 28.667 minutes,\n",
      "\u001b[36m\u001b[1m│ \u001b[22m\u001b[39m                        max(|u|): 0.032086374050423715,\n",
      "\u001b[36m\u001b[1m│ \u001b[22m\u001b[39m                        max(S): 15.500000001276222,\n",
      "\u001b[36m\u001b[1m└ \u001b[22m\u001b[39m                        Δt: 500 ms\n",
      "\u001b[36m\u001b[1m┌ \u001b[22m\u001b[39m\u001b[36m\u001b[1mInfo: \u001b[22m\u001b[39mTime : 28.833 minutes,\n",
      "\u001b[36m\u001b[1m│ \u001b[22m\u001b[39m                        max(|u|): 0.03207223315969488,\n",
      "\u001b[36m\u001b[1m│ \u001b[22m\u001b[39m                        max(S): 15.500000001275831,\n",
      "\u001b[36m\u001b[1m└ \u001b[22m\u001b[39m                        Δt: 500 ms\n",
      "\u001b[36m\u001b[1m┌ \u001b[22m\u001b[39m\u001b[36m\u001b[1mInfo: \u001b[22m\u001b[39mTime : 29 minutes,\n",
      "\u001b[36m\u001b[1m│ \u001b[22m\u001b[39m                        max(|u|): 0.032058160221994605,\n",
      "\u001b[36m\u001b[1m│ \u001b[22m\u001b[39m                        max(S): 15.50000000127543,\n",
      "\u001b[36m\u001b[1m└ \u001b[22m\u001b[39m                        Δt: 500 ms\n",
      "\u001b[36m\u001b[1m┌ \u001b[22m\u001b[39m\u001b[36m\u001b[1mInfo: \u001b[22m\u001b[39mTime : 29.167 minutes,\n",
      "\u001b[36m\u001b[1m│ \u001b[22m\u001b[39m                        max(|u|): 0.032044154586059026,\n",
      "\u001b[36m\u001b[1m│ \u001b[22m\u001b[39m                        max(S): 15.500000001275017,\n",
      "\u001b[36m\u001b[1m└ \u001b[22m\u001b[39m                        Δt: 500 ms\n",
      "\u001b[36m\u001b[1m┌ \u001b[22m\u001b[39m\u001b[36m\u001b[1mInfo: \u001b[22m\u001b[39mTime : 29.333 minutes,\n",
      "\u001b[36m\u001b[1m│ \u001b[22m\u001b[39m                        max(|u|): 0.03203021561531396,\n",
      "\u001b[36m\u001b[1m│ \u001b[22m\u001b[39m                        max(S): 15.50000000127458,\n",
      "\u001b[36m\u001b[1m└ \u001b[22m\u001b[39m                        Δt: 500 ms\n",
      "\u001b[36m\u001b[1m┌ \u001b[22m\u001b[39m\u001b[36m\u001b[1mInfo: \u001b[22m\u001b[39mTime : 29.500 minutes,\n",
      "\u001b[36m\u001b[1m│ \u001b[22m\u001b[39m                        max(|u|): 0.03201634268756804,\n",
      "\u001b[36m\u001b[1m│ \u001b[22m\u001b[39m                        max(S): 15.500000001274135,\n",
      "\u001b[36m\u001b[1m└ \u001b[22m\u001b[39m                        Δt: 500 ms\n",
      "\u001b[36m\u001b[1m┌ \u001b[22m\u001b[39m\u001b[36m\u001b[1mInfo: \u001b[22m\u001b[39mTime : 29.667 minutes,\n",
      "\u001b[36m\u001b[1m│ \u001b[22m\u001b[39m                        max(|u|): 0.03200253519470175,\n",
      "\u001b[36m\u001b[1m│ \u001b[22m\u001b[39m                        max(S): 15.500000001273664,\n",
      "\u001b[36m\u001b[1m└ \u001b[22m\u001b[39m                        Δt: 500 ms\n",
      "\u001b[36m\u001b[1m┌ \u001b[22m\u001b[39m\u001b[36m\u001b[1mInfo: \u001b[22m\u001b[39mTime : 29.833 minutes,\n",
      "\u001b[36m\u001b[1m│ \u001b[22m\u001b[39m                        max(|u|): 0.03198879254234595,\n",
      "\u001b[36m\u001b[1m│ \u001b[22m\u001b[39m                        max(S): 15.500000001273179,\n",
      "\u001b[36m\u001b[1m└ \u001b[22m\u001b[39m                        Δt: 500 ms\n",
      "\u001b[36m\u001b[1m┌ \u001b[22m\u001b[39m\u001b[36m\u001b[1mInfo: \u001b[22m\u001b[39mTime : 30 minutes,\n",
      "\u001b[36m\u001b[1m│ \u001b[22m\u001b[39m                        max(|u|): 0.031975114149554264,\n",
      "\u001b[36m\u001b[1m│ \u001b[22m\u001b[39m                        max(S): 15.500000001272682,\n",
      "\u001b[36m\u001b[1m└ \u001b[22m\u001b[39m                        Δt: 500 ms\n",
      "\u001b[36m\u001b[1m┌ \u001b[22m\u001b[39m\u001b[36m\u001b[1mInfo: \u001b[22m\u001b[39mTime : 30.167 minutes,\n",
      "\u001b[36m\u001b[1m│ \u001b[22m\u001b[39m                        max(|u|): 0.031961499448478016,\n",
      "\u001b[36m\u001b[1m│ \u001b[22m\u001b[39m                        max(S): 15.500000001272165,\n",
      "\u001b[36m\u001b[1m└ \u001b[22m\u001b[39m                        Δt: 500 ms\n",
      "\u001b[36m\u001b[1m┌ \u001b[22m\u001b[39m\u001b[36m\u001b[1mInfo: \u001b[22m\u001b[39mTime : 30.333 minutes,\n",
      "\u001b[36m\u001b[1m│ \u001b[22m\u001b[39m                        max(|u|): 0.03194794788404337,\n",
      "\u001b[36m\u001b[1m│ \u001b[22m\u001b[39m                        max(S): 15.500000001271628,\n",
      "\u001b[36m\u001b[1m└ \u001b[22m\u001b[39m                        Δt: 500 ms\n",
      "\u001b[36m\u001b[1m┌ \u001b[22m\u001b[39m\u001b[36m\u001b[1mInfo: \u001b[22m\u001b[39mTime : 30.500 minutes,\n",
      "\u001b[36m\u001b[1m│ \u001b[22m\u001b[39m                        max(|u|): 0.031934458913629046,\n",
      "\u001b[36m\u001b[1m│ \u001b[22m\u001b[39m                        max(S): 15.50000000127108,\n",
      "\u001b[36m\u001b[1m└ \u001b[22m\u001b[39m                        Δt: 500 ms\n",
      "\u001b[36m\u001b[1m┌ \u001b[22m\u001b[39m\u001b[36m\u001b[1mInfo: \u001b[22m\u001b[39mTime : 30.667 minutes,\n",
      "\u001b[36m\u001b[1m│ \u001b[22m\u001b[39m                        max(|u|): 0.03192103200674372,\n",
      "\u001b[36m\u001b[1m│ \u001b[22m\u001b[39m                        max(S): 15.5000000012705,\n",
      "\u001b[36m\u001b[1m└ \u001b[22m\u001b[39m                        Δt: 500 ms\n",
      "\u001b[36m\u001b[1m┌ \u001b[22m\u001b[39m\u001b[36m\u001b[1mInfo: \u001b[22m\u001b[39mTime : 30.833 minutes,\n",
      "\u001b[36m\u001b[1m│ \u001b[22m\u001b[39m                        max(|u|): 0.031907666644706,\n",
      "\u001b[36m\u001b[1m│ \u001b[22m\u001b[39m                        max(S): 15.500000001269909,\n",
      "\u001b[36m\u001b[1m└ \u001b[22m\u001b[39m                        Δt: 500 ms\n",
      "\u001b[36m\u001b[1m┌ \u001b[22m\u001b[39m\u001b[36m\u001b[1mInfo: \u001b[22m\u001b[39mTime : 31 minutes,\n",
      "\u001b[36m\u001b[1m│ \u001b[22m\u001b[39m                        max(|u|): 0.031894362320325165,\n",
      "\u001b[36m\u001b[1m│ \u001b[22m\u001b[39m                        max(S): 15.500000001269303,\n",
      "\u001b[36m\u001b[1m└ \u001b[22m\u001b[39m                        Δt: 500 ms\n",
      "\u001b[36m\u001b[1m┌ \u001b[22m\u001b[39m\u001b[36m\u001b[1mInfo: \u001b[22m\u001b[39mTime : 31.167 minutes,\n",
      "\u001b[36m\u001b[1m│ \u001b[22m\u001b[39m                        max(|u|): 0.031881118537583346,\n",
      "\u001b[36m\u001b[1m│ \u001b[22m\u001b[39m                        max(S): 15.50000000126918,\n",
      "\u001b[36m\u001b[1m└ \u001b[22m\u001b[39m                        Δt: 500 ms\n",
      "\u001b[36m\u001b[1m┌ \u001b[22m\u001b[39m\u001b[36m\u001b[1mInfo: \u001b[22m\u001b[39mTime : 31.333 minutes,\n",
      "\u001b[36m\u001b[1m│ \u001b[22m\u001b[39m                        max(|u|): 0.031867934811320435,\n",
      "\u001b[36m\u001b[1m│ \u001b[22m\u001b[39m                        max(S): 15.500000001269258,\n",
      "\u001b[36m\u001b[1m└ \u001b[22m\u001b[39m                        Δt: 500 ms\n",
      "\u001b[36m\u001b[1m┌ \u001b[22m\u001b[39m\u001b[36m\u001b[1mInfo: \u001b[22m\u001b[39mTime : 31.500 minutes,\n",
      "\u001b[36m\u001b[1m│ \u001b[22m\u001b[39m                        max(|u|): 0.03185481066692279,\n",
      "\u001b[36m\u001b[1m│ \u001b[22m\u001b[39m                        max(S): 15.500000001269335,\n",
      "\u001b[36m\u001b[1m└ \u001b[22m\u001b[39m                        Δt: 500 ms\n",
      "\u001b[36m\u001b[1m┌ \u001b[22m\u001b[39m\u001b[36m\u001b[1mInfo: \u001b[22m\u001b[39mTime : 31.667 minutes,\n",
      "\u001b[36m\u001b[1m│ \u001b[22m\u001b[39m                        max(|u|): 0.03184174564001552,\n",
      "\u001b[36m\u001b[1m│ \u001b[22m\u001b[39m                        max(S): 15.500000001269392,\n",
      "\u001b[36m\u001b[1m└ \u001b[22m\u001b[39m                        Δt: 500 ms\n",
      "\u001b[36m\u001b[1m┌ \u001b[22m\u001b[39m\u001b[36m\u001b[1mInfo: \u001b[22m\u001b[39mTime : 31.833 minutes,\n",
      "\u001b[36m\u001b[1m│ \u001b[22m\u001b[39m                        max(|u|): 0.03182873927615917,\n",
      "\u001b[36m\u001b[1m│ \u001b[22m\u001b[39m                        max(S): 15.500000001269441,\n",
      "\u001b[36m\u001b[1m└ \u001b[22m\u001b[39m                        Δt: 500 ms\n",
      "\u001b[36m\u001b[1m┌ \u001b[22m\u001b[39m\u001b[36m\u001b[1mInfo: \u001b[22m\u001b[39mTime : 32 minutes,\n",
      "\u001b[36m\u001b[1m│ \u001b[22m\u001b[39m                        max(|u|): 0.03181579113055046,\n",
      "\u001b[36m\u001b[1m│ \u001b[22m\u001b[39m                        max(S): 15.500000001269486,\n",
      "\u001b[36m\u001b[1m└ \u001b[22m\u001b[39m                        Δt: 500 ms\n",
      "\u001b[36m\u001b[1m┌ \u001b[22m\u001b[39m\u001b[36m\u001b[1mInfo: \u001b[22m\u001b[39mTime : 32.167 minutes,\n",
      "\u001b[36m\u001b[1m│ \u001b[22m\u001b[39m                        max(|u|): 0.03180290076772823,\n",
      "\u001b[36m\u001b[1m│ \u001b[22m\u001b[39m                        max(S): 15.500000001269521,\n",
      "\u001b[36m\u001b[1m└ \u001b[22m\u001b[39m                        Δt: 500 ms\n",
      "\u001b[36m\u001b[1m┌ \u001b[22m\u001b[39m\u001b[36m\u001b[1mInfo: \u001b[22m\u001b[39mTime : 32.333 minutes,\n",
      "\u001b[36m\u001b[1m│ \u001b[22m\u001b[39m                        max(|u|): 0.03179006776128481,\n",
      "\u001b[36m\u001b[1m│ \u001b[22m\u001b[39m                        max(S): 15.500000001269546,\n",
      "\u001b[36m\u001b[1m└ \u001b[22m\u001b[39m                        Δt: 500 ms\n",
      "\u001b[36m\u001b[1m┌ \u001b[22m\u001b[39m\u001b[36m\u001b[1mInfo: \u001b[22m\u001b[39mTime : 32.500 minutes,\n",
      "\u001b[36m\u001b[1m│ \u001b[22m\u001b[39m                        max(|u|): 0.03177729169358301,\n",
      "\u001b[36m\u001b[1m│ \u001b[22m\u001b[39m                        max(S): 15.500000001269559,\n",
      "\u001b[36m\u001b[1m└ \u001b[22m\u001b[39m                        Δt: 500 ms\n",
      "\u001b[36m\u001b[1m┌ \u001b[22m\u001b[39m\u001b[36m\u001b[1mInfo: \u001b[22m\u001b[39mTime : 32.667 minutes,\n",
      "\u001b[36m\u001b[1m│ \u001b[22m\u001b[39m                        max(|u|): 0.031764572155478565,\n",
      "\u001b[36m\u001b[1m│ \u001b[22m\u001b[39m                        max(S): 15.500000001269564,\n",
      "\u001b[36m\u001b[1m└ \u001b[22m\u001b[39m                        Δt: 500 ms\n",
      "\u001b[36m\u001b[1m┌ \u001b[22m\u001b[39m\u001b[36m\u001b[1mInfo: \u001b[22m\u001b[39mTime : 32.833 minutes,\n",
      "\u001b[36m\u001b[1m│ \u001b[22m\u001b[39m                        max(|u|): 0.03175190874604872,\n",
      "\u001b[36m\u001b[1m│ \u001b[22m\u001b[39m                        max(S): 15.50000000126956,\n",
      "\u001b[36m\u001b[1m└ \u001b[22m\u001b[39m                        Δt: 500 ms\n",
      "\u001b[36m\u001b[1m┌ \u001b[22m\u001b[39m\u001b[36m\u001b[1mInfo: \u001b[22m\u001b[39mTime : 33 minutes,\n",
      "\u001b[36m\u001b[1m│ \u001b[22m\u001b[39m                        max(|u|): 0.03173930107232745,\n",
      "\u001b[36m\u001b[1m│ \u001b[22m\u001b[39m                        max(S): 15.50000000126955,\n",
      "\u001b[36m\u001b[1m└ \u001b[22m\u001b[39m                        Δt: 500 ms\n",
      "\u001b[36m\u001b[1m┌ \u001b[22m\u001b[39m\u001b[36m\u001b[1mInfo: \u001b[22m\u001b[39mTime : 33.167 minutes,\n",
      "\u001b[36m\u001b[1m│ \u001b[22m\u001b[39m                        max(|u|): 0.031726748749046886,\n",
      "\u001b[36m\u001b[1m│ \u001b[22m\u001b[39m                        max(S): 15.500000001269521,\n",
      "\u001b[36m\u001b[1m└ \u001b[22m\u001b[39m                        Δt: 500 ms\n",
      "\u001b[36m\u001b[1m┌ \u001b[22m\u001b[39m\u001b[36m\u001b[1mInfo: \u001b[22m\u001b[39mTime : 33.333 minutes,\n",
      "\u001b[36m\u001b[1m│ \u001b[22m\u001b[39m                        max(|u|): 0.03171425139838486,\n",
      "\u001b[36m\u001b[1m│ \u001b[22m\u001b[39m                        max(S): 15.500000001269486,\n",
      "\u001b[36m\u001b[1m└ \u001b[22m\u001b[39m                        Δt: 500 ms\n",
      "\u001b[36m\u001b[1m┌ \u001b[22m\u001b[39m\u001b[36m\u001b[1mInfo: \u001b[22m\u001b[39mTime : 33.500 minutes,\n",
      "\u001b[36m\u001b[1m│ \u001b[22m\u001b[39m                        max(|u|): 0.031701808649721094,\n",
      "\u001b[36m\u001b[1m│ \u001b[22m\u001b[39m                        max(S): 15.500000001269434,\n",
      "\u001b[36m\u001b[1m└ \u001b[22m\u001b[39m                        Δt: 500 ms\n",
      "\u001b[36m\u001b[1m┌ \u001b[22m\u001b[39m\u001b[36m\u001b[1mInfo: \u001b[22m\u001b[39mTime : 33.667 minutes,\n",
      "\u001b[36m\u001b[1m│ \u001b[22m\u001b[39m                        max(|u|): 0.03168942013940069,\n",
      "\u001b[36m\u001b[1m│ \u001b[22m\u001b[39m                        max(S): 15.50000000126938,\n",
      "\u001b[36m\u001b[1m└ \u001b[22m\u001b[39m                        Δt: 500 ms\n",
      "\u001b[36m\u001b[1m┌ \u001b[22m\u001b[39m\u001b[36m\u001b[1mInfo: \u001b[22m\u001b[39mTime : 33.833 minutes,\n",
      "\u001b[36m\u001b[1m│ \u001b[22m\u001b[39m                        max(|u|): 0.031677085510503855,\n",
      "\u001b[36m\u001b[1m│ \u001b[22m\u001b[39m                        max(S): 15.500000001269312,\n",
      "\u001b[36m\u001b[1m└ \u001b[22m\u001b[39m                        Δt: 500 ms\n",
      "\u001b[36m\u001b[1m┌ \u001b[22m\u001b[39m\u001b[36m\u001b[1mInfo: \u001b[22m\u001b[39mTime : 34 minutes,\n",
      "\u001b[36m\u001b[1m│ \u001b[22m\u001b[39m                        max(|u|): 0.03166480441262225,\n",
      "\u001b[36m\u001b[1m│ \u001b[22m\u001b[39m                        max(S): 15.500000001269237,\n",
      "\u001b[36m\u001b[1m└ \u001b[22m\u001b[39m                        Δt: 500 ms\n",
      "\u001b[36m\u001b[1m┌ \u001b[22m\u001b[39m\u001b[36m\u001b[1mInfo: \u001b[22m\u001b[39mTime : 34.167 minutes,\n",
      "\u001b[36m\u001b[1m│ \u001b[22m\u001b[39m                        max(|u|): 0.031652576501642216,\n",
      "\u001b[36m\u001b[1m│ \u001b[22m\u001b[39m                        max(S): 15.50000000126914,\n",
      "\u001b[36m\u001b[1m└ \u001b[22m\u001b[39m                        Δt: 500 ms\n",
      "\u001b[36m\u001b[1m┌ \u001b[22m\u001b[39m\u001b[36m\u001b[1mInfo: \u001b[22m\u001b[39mTime : 34.333 minutes,\n",
      "\u001b[36m\u001b[1m│ \u001b[22m\u001b[39m                        max(|u|): 0.03164040143953496,\n",
      "\u001b[36m\u001b[1m│ \u001b[22m\u001b[39m                        max(S): 15.500000001269033,\n",
      "\u001b[36m\u001b[1m└ \u001b[22m\u001b[39m                        Δt: 500 ms\n",
      "\u001b[36m\u001b[1m┌ \u001b[22m\u001b[39m\u001b[36m\u001b[1mInfo: \u001b[22m\u001b[39mTime : 34.500 minutes,\n",
      "\u001b[36m\u001b[1m│ \u001b[22m\u001b[39m                        max(|u|): 0.03162827889415379,\n",
      "\u001b[36m\u001b[1m│ \u001b[22m\u001b[39m                        max(S): 15.50000000126892,\n",
      "\u001b[36m\u001b[1m└ \u001b[22m\u001b[39m                        Δt: 500 ms\n",
      "\u001b[36m\u001b[1m┌ \u001b[22m\u001b[39m\u001b[36m\u001b[1mInfo: \u001b[22m\u001b[39mTime : 34.667 minutes,\n",
      "\u001b[36m\u001b[1m│ \u001b[22m\u001b[39m                        max(|u|): 0.03161620853903796,\n",
      "\u001b[36m\u001b[1m│ \u001b[22m\u001b[39m                        max(S): 15.500000001268797,\n",
      "\u001b[36m\u001b[1m└ \u001b[22m\u001b[39m                        Δt: 500 ms\n",
      "\u001b[36m\u001b[1m┌ \u001b[22m\u001b[39m\u001b[36m\u001b[1mInfo: \u001b[22m\u001b[39mTime : 34.833 minutes,\n",
      "\u001b[36m\u001b[1m│ \u001b[22m\u001b[39m                        max(|u|): 0.03160419005322337,\n",
      "\u001b[36m\u001b[1m│ \u001b[22m\u001b[39m                        max(S): 15.500000001268653,\n",
      "\u001b[36m\u001b[1m└ \u001b[22m\u001b[39m                        Δt: 500 ms\n",
      "\u001b[36m\u001b[1m┌ \u001b[22m\u001b[39m\u001b[36m\u001b[1mInfo: \u001b[22m\u001b[39mTime : 35 minutes,\n",
      "\u001b[36m\u001b[1m│ \u001b[22m\u001b[39m                        max(|u|): 0.03159222312105946,\n",
      "\u001b[36m\u001b[1m│ \u001b[22m\u001b[39m                        max(S): 15.500000001268496,\n",
      "\u001b[36m\u001b[1m└ \u001b[22m\u001b[39m                        Δt: 500 ms\n",
      "\u001b[36m\u001b[1m┌ \u001b[22m\u001b[39m\u001b[36m\u001b[1mInfo: \u001b[22m\u001b[39mTime : 35.167 minutes,\n",
      "\u001b[36m\u001b[1m│ \u001b[22m\u001b[39m                        max(|u|): 0.03158030743203255,\n",
      "\u001b[36m\u001b[1m│ \u001b[22m\u001b[39m                        max(S): 15.500000001268331,\n",
      "\u001b[36m\u001b[1m└ \u001b[22m\u001b[39m                        Δt: 500 ms\n",
      "\u001b[36m\u001b[1m┌ \u001b[22m\u001b[39m\u001b[36m\u001b[1mInfo: \u001b[22m\u001b[39mTime : 35.333 minutes,\n",
      "\u001b[36m\u001b[1m│ \u001b[22m\u001b[39m                        max(|u|): 0.0315684426805951,\n",
      "\u001b[36m\u001b[1m│ \u001b[22m\u001b[39m                        max(S): 15.50000000126815,\n",
      "\u001b[36m\u001b[1m└ \u001b[22m\u001b[39m                        Δt: 500 ms\n",
      "\u001b[36m\u001b[1m┌ \u001b[22m\u001b[39m\u001b[36m\u001b[1mInfo: \u001b[22m\u001b[39mTime : 35.500 minutes,\n",
      "\u001b[36m\u001b[1m│ \u001b[22m\u001b[39m                        max(|u|): 0.03155662856600063,\n",
      "\u001b[36m\u001b[1m│ \u001b[22m\u001b[39m                        max(S): 15.500000001267958,\n",
      "\u001b[36m\u001b[1m└ \u001b[22m\u001b[39m                        Δt: 500 ms\n",
      "\u001b[36m\u001b[1m┌ \u001b[22m\u001b[39m\u001b[36m\u001b[1mInfo: \u001b[22m\u001b[39mTime : 35.667 minutes,\n",
      "\u001b[36m\u001b[1m│ \u001b[22m\u001b[39m                        max(|u|): 0.0315448647921446,\n",
      "\u001b[36m\u001b[1m│ \u001b[22m\u001b[39m                        max(S): 15.500000001267763,\n",
      "\u001b[36m\u001b[1m└ \u001b[22m\u001b[39m                        Δt: 500 ms\n",
      "\u001b[36m\u001b[1m┌ \u001b[22m\u001b[39m\u001b[36m\u001b[1mInfo: \u001b[22m\u001b[39mTime : 35.833 minutes,\n",
      "\u001b[36m\u001b[1m│ \u001b[22m\u001b[39m                        max(|u|): 0.03153315106741087,\n",
      "\u001b[36m\u001b[1m│ \u001b[22m\u001b[39m                        max(S): 15.500000001267537,\n",
      "\u001b[36m\u001b[1m└ \u001b[22m\u001b[39m                        Δt: 500 ms\n",
      "\u001b[36m\u001b[1m┌ \u001b[22m\u001b[39m\u001b[36m\u001b[1mInfo: \u001b[22m\u001b[39mTime : 36 minutes,\n",
      "\u001b[36m\u001b[1m│ \u001b[22m\u001b[39m                        max(|u|): 0.031521487104523904,\n",
      "\u001b[36m\u001b[1m│ \u001b[22m\u001b[39m                        max(S): 15.500000001267304,\n",
      "\u001b[36m\u001b[1m└ \u001b[22m\u001b[39m                        Δt: 500 ms\n",
      "\u001b[36m\u001b[1m┌ \u001b[22m\u001b[39m\u001b[36m\u001b[1mInfo: \u001b[22m\u001b[39mTime : 36.167 minutes,\n",
      "\u001b[36m\u001b[1m│ \u001b[22m\u001b[39m                        max(|u|): 0.03150987262040596,\n",
      "\u001b[36m\u001b[1m│ \u001b[22m\u001b[39m                        max(S): 15.50000000126706,\n",
      "\u001b[36m\u001b[1m└ \u001b[22m\u001b[39m                        Δt: 500 ms\n",
      "\u001b[36m\u001b[1m┌ \u001b[22m\u001b[39m\u001b[36m\u001b[1mInfo: \u001b[22m\u001b[39mTime : 36.333 minutes,\n",
      "\u001b[36m\u001b[1m│ \u001b[22m\u001b[39m                        max(|u|): 0.03149830733603959,\n",
      "\u001b[36m\u001b[1m│ \u001b[22m\u001b[39m                        max(S): 15.500000001266793,\n",
      "\u001b[36m\u001b[1m└ \u001b[22m\u001b[39m                        Δt: 500 ms\n",
      "\u001b[36m\u001b[1m┌ \u001b[22m\u001b[39m\u001b[36m\u001b[1mInfo: \u001b[22m\u001b[39mTime : 36.500 minutes,\n",
      "\u001b[36m\u001b[1m│ \u001b[22m\u001b[39m                        max(|u|): 0.03148679097633493,\n",
      "\u001b[36m\u001b[1m│ \u001b[22m\u001b[39m                        max(S): 15.500000001266523,\n",
      "\u001b[36m\u001b[1m└ \u001b[22m\u001b[39m                        Δt: 500 ms\n",
      "\u001b[36m\u001b[1m┌ \u001b[22m\u001b[39m\u001b[36m\u001b[1mInfo: \u001b[22m\u001b[39mTime : 36.667 minutes,\n",
      "\u001b[36m\u001b[1m│ \u001b[22m\u001b[39m                        max(|u|): 0.031475323270002076,\n",
      "\u001b[36m\u001b[1m│ \u001b[22m\u001b[39m                        max(S): 15.500000001266233,\n",
      "\u001b[36m\u001b[1m└ \u001b[22m\u001b[39m                        Δt: 500 ms\n",
      "\u001b[36m\u001b[1m┌ \u001b[22m\u001b[39m\u001b[36m\u001b[1mInfo: \u001b[22m\u001b[39mTime : 36.833 minutes,\n",
      "\u001b[36m\u001b[1m│ \u001b[22m\u001b[39m                        max(|u|): 0.03146390394942891,\n",
      "\u001b[36m\u001b[1m│ \u001b[22m\u001b[39m                        max(S): 15.50000000126592,\n",
      "\u001b[36m\u001b[1m└ \u001b[22m\u001b[39m                        Δt: 500 ms\n",
      "\u001b[36m\u001b[1m┌ \u001b[22m\u001b[39m\u001b[36m\u001b[1mInfo: \u001b[22m\u001b[39mTime : 37 minutes,\n",
      "\u001b[36m\u001b[1m│ \u001b[22m\u001b[39m                        max(|u|): 0.03145253275056723,\n",
      "\u001b[36m\u001b[1m│ \u001b[22m\u001b[39m                        max(S): 15.500000001265603,\n",
      "\u001b[36m\u001b[1m└ \u001b[22m\u001b[39m                        Δt: 500 ms\n",
      "\u001b[36m\u001b[1m┌ \u001b[22m\u001b[39m\u001b[36m\u001b[1mInfo: \u001b[22m\u001b[39mTime : 37.167 minutes,\n",
      "\u001b[36m\u001b[1m│ \u001b[22m\u001b[39m                        max(|u|): 0.03144120941281777,\n",
      "\u001b[36m\u001b[1m│ \u001b[22m\u001b[39m                        max(S): 15.500000001265262,\n",
      "\u001b[36m\u001b[1m└ \u001b[22m\u001b[39m                        Δt: 500 ms\n",
      "\u001b[36m\u001b[1m┌ \u001b[22m\u001b[39m\u001b[36m\u001b[1mInfo: \u001b[22m\u001b[39mTime : 37.333 minutes,\n",
      "\u001b[36m\u001b[1m│ \u001b[22m\u001b[39m                        max(|u|): 0.03142993367891578,\n",
      "\u001b[36m\u001b[1m│ \u001b[22m\u001b[39m                        max(S): 15.50000000126491,\n",
      "\u001b[36m\u001b[1m└ \u001b[22m\u001b[39m                        Δt: 500 ms\n",
      "\u001b[36m\u001b[1m┌ \u001b[22m\u001b[39m\u001b[36m\u001b[1mInfo: \u001b[22m\u001b[39mTime : 37.500 minutes,\n",
      "\u001b[36m\u001b[1m│ \u001b[22m\u001b[39m                        max(|u|): 0.03141870529482294,\n",
      "\u001b[36m\u001b[1m│ \u001b[22m\u001b[39m                        max(S): 15.500000001264546,\n",
      "\u001b[36m\u001b[1m└ \u001b[22m\u001b[39m                        Δt: 500 ms\n",
      "\u001b[36m\u001b[1m┌ \u001b[22m\u001b[39m\u001b[36m\u001b[1mInfo: \u001b[22m\u001b[39mTime : 37.667 minutes,\n",
      "\u001b[36m\u001b[1m│ \u001b[22m\u001b[39m                        max(|u|): 0.031407524009626285,\n",
      "\u001b[36m\u001b[1m│ \u001b[22m\u001b[39m                        max(S): 15.500000001264159,\n",
      "\u001b[36m\u001b[1m└ \u001b[22m\u001b[39m                        Δt: 500 ms\n",
      "\u001b[36m\u001b[1m┌ \u001b[22m\u001b[39m\u001b[36m\u001b[1mInfo: \u001b[22m\u001b[39mTime : 37.833 minutes,\n",
      "\u001b[36m\u001b[1m│ \u001b[22m\u001b[39m                        max(|u|): 0.03139638957544262,\n",
      "\u001b[36m\u001b[1m│ \u001b[22m\u001b[39m                        max(S): 15.500000001263766,\n",
      "\u001b[36m\u001b[1m└ \u001b[22m\u001b[39m                        Δt: 500 ms\n",
      "\u001b[36m\u001b[1m┌ \u001b[22m\u001b[39m\u001b[36m\u001b[1mInfo: \u001b[22m\u001b[39mTime : 38 minutes,\n",
      "\u001b[36m\u001b[1m│ \u001b[22m\u001b[39m                        max(|u|): 0.031385301747327045,\n",
      "\u001b[36m\u001b[1m│ \u001b[22m\u001b[39m                        max(S): 15.500000001263349,\n",
      "\u001b[36m\u001b[1m└ \u001b[22m\u001b[39m                        Δt: 500 ms\n",
      "\u001b[36m\u001b[1m┌ \u001b[22m\u001b[39m\u001b[36m\u001b[1mInfo: \u001b[22m\u001b[39mTime : 38.167 minutes,\n",
      "\u001b[36m\u001b[1m│ \u001b[22m\u001b[39m                        max(|u|): 0.03137426028318479,\n",
      "\u001b[36m\u001b[1m│ \u001b[22m\u001b[39m                        max(S): 15.50000000126292,\n",
      "\u001b[36m\u001b[1m└ \u001b[22m\u001b[39m                        Δt: 500 ms\n",
      "\u001b[36m\u001b[1m┌ \u001b[22m\u001b[39m\u001b[36m\u001b[1mInfo: \u001b[22m\u001b[39mTime : 38.333 minutes,\n",
      "\u001b[36m\u001b[1m│ \u001b[22m\u001b[39m                        max(|u|): 0.03136326494368558,\n",
      "\u001b[36m\u001b[1m│ \u001b[22m\u001b[39m                        max(S): 15.500000001262467,\n",
      "\u001b[36m\u001b[1m└ \u001b[22m\u001b[39m                        Δt: 500 ms\n",
      "\u001b[36m\u001b[1m┌ \u001b[22m\u001b[39m\u001b[36m\u001b[1mInfo: \u001b[22m\u001b[39mTime : 38.500 minutes,\n",
      "\u001b[36m\u001b[1m│ \u001b[22m\u001b[39m                        max(|u|): 0.03135231549218104,\n",
      "\u001b[36m\u001b[1m│ \u001b[22m\u001b[39m                        max(S): 15.500000001261997,\n",
      "\u001b[36m\u001b[1m└ \u001b[22m\u001b[39m                        Δt: 500 ms\n",
      "\u001b[36m\u001b[1m┌ \u001b[22m\u001b[39m\u001b[36m\u001b[1mInfo: \u001b[22m\u001b[39mTime : 38.667 minutes,\n",
      "\u001b[36m\u001b[1m│ \u001b[22m\u001b[39m                        max(|u|): 0.031341411694625024,\n",
      "\u001b[36m\u001b[1m│ \u001b[22m\u001b[39m                        max(S): 15.500000001261517,\n",
      "\u001b[36m\u001b[1m└ \u001b[22m\u001b[39m                        Δt: 500 ms\n",
      "\u001b[36m\u001b[1m┌ \u001b[22m\u001b[39m\u001b[36m\u001b[1mInfo: \u001b[22m\u001b[39mTime : 38.833 minutes,\n",
      "\u001b[36m\u001b[1m│ \u001b[22m\u001b[39m                        max(|u|): 0.03133055331949734,\n",
      "\u001b[36m\u001b[1m│ \u001b[22m\u001b[39m                        max(S): 15.50000000126102,\n",
      "\u001b[36m\u001b[1m└ \u001b[22m\u001b[39m                        Δt: 500 ms\n",
      "\u001b[36m\u001b[1m┌ \u001b[22m\u001b[39m\u001b[36m\u001b[1mInfo: \u001b[22m\u001b[39mTime : 39 minutes,\n",
      "\u001b[36m\u001b[1m│ \u001b[22m\u001b[39m                        max(|u|): 0.0313197401377303,\n",
      "\u001b[36m\u001b[1m│ \u001b[22m\u001b[39m                        max(S): 15.500000001260503,\n",
      "\u001b[36m\u001b[1m└ \u001b[22m\u001b[39m                        Δt: 500 ms\n",
      "\u001b[36m\u001b[1m┌ \u001b[22m\u001b[39m\u001b[36m\u001b[1mInfo: \u001b[22m\u001b[39mTime : 39.167 minutes,\n",
      "\u001b[36m\u001b[1m│ \u001b[22m\u001b[39m                        max(|u|): 0.031308971922638505,\n",
      "\u001b[36m\u001b[1m│ \u001b[22m\u001b[39m                        max(S): 15.500000001259966,\n",
      "\u001b[36m\u001b[1m└ \u001b[22m\u001b[39m                        Δt: 500 ms\n",
      "\u001b[36m\u001b[1m┌ \u001b[22m\u001b[39m\u001b[36m\u001b[1mInfo: \u001b[22m\u001b[39mTime : 39.333 minutes,\n",
      "\u001b[36m\u001b[1m│ \u001b[22m\u001b[39m                        max(|u|): 0.03129824844985157,\n",
      "\u001b[36m\u001b[1m│ \u001b[22m\u001b[39m                        max(S): 15.500000001259414,\n",
      "\u001b[36m\u001b[1m└ \u001b[22m\u001b[39m                        Δt: 500 ms\n",
      "\u001b[36m\u001b[1m┌ \u001b[22m\u001b[39m\u001b[36m\u001b[1mInfo: \u001b[22m\u001b[39mTime : 39.500 minutes,\n",
      "\u001b[36m\u001b[1m│ \u001b[22m\u001b[39m                        max(|u|): 0.03128756949724935,\n",
      "\u001b[36m\u001b[1m│ \u001b[22m\u001b[39m                        max(S): 15.500000001258838,\n",
      "\u001b[36m\u001b[1m└ \u001b[22m\u001b[39m                        Δt: 500 ms\n",
      "\u001b[36m\u001b[1m┌ \u001b[22m\u001b[39m\u001b[36m\u001b[1mInfo: \u001b[22m\u001b[39mTime : 39.667 minutes,\n",
      "\u001b[36m\u001b[1m│ \u001b[22m\u001b[39m                        max(|u|): 0.03127693484490015,\n",
      "\u001b[36m\u001b[1m│ \u001b[22m\u001b[39m                        max(S): 15.500000001258247,\n",
      "\u001b[36m\u001b[1m└ \u001b[22m\u001b[39m                        Δt: 500 ms\n",
      "\u001b[36m\u001b[1m┌ \u001b[22m\u001b[39m\u001b[36m\u001b[1mInfo: \u001b[22m\u001b[39mTime : 39.833 minutes,\n",
      "\u001b[36m\u001b[1m│ \u001b[22m\u001b[39m                        max(|u|): 0.031266344275001114,\n",
      "\u001b[36m\u001b[1m│ \u001b[22m\u001b[39m                        max(S): 15.500000001257634,\n",
      "\u001b[36m\u001b[1m└ \u001b[22m\u001b[39m                        Δt: 500 ms\n",
      "\u001b[36m\u001b[1m┌ \u001b[22m\u001b[39m\u001b[36m\u001b[1mInfo: \u001b[22m\u001b[39mTime : 40 minutes,\n",
      "\u001b[36m\u001b[1m│ \u001b[22m\u001b[39m                        max(|u|): 0.031255797571821196,\n",
      "\u001b[36m\u001b[1m│ \u001b[22m\u001b[39m                        max(S): 15.500000001257003,\n",
      "\u001b[36m\u001b[1m└ \u001b[22m\u001b[39m                        Δt: 500 ms\n",
      "\u001b[36m\u001b[1m┌ \u001b[22m\u001b[39m\u001b[36m\u001b[1mInfo: \u001b[22m\u001b[39mTime : 40.167 minutes,\n",
      "\u001b[36m\u001b[1m│ \u001b[22m\u001b[39m                        max(|u|): 0.03124529452164629,\n",
      "\u001b[36m\u001b[1m│ \u001b[22m\u001b[39m                        max(S): 15.500000001256353,\n",
      "\u001b[36m\u001b[1m└ \u001b[22m\u001b[39m                        Δt: 500 ms\n",
      "\u001b[36m\u001b[1m┌ \u001b[22m\u001b[39m\u001b[36m\u001b[1mInfo: \u001b[22m\u001b[39mTime : 40.333 minutes,\n",
      "\u001b[36m\u001b[1m│ \u001b[22m\u001b[39m                        max(|u|): 0.03123483491272657,\n",
      "\u001b[36m\u001b[1m│ \u001b[22m\u001b[39m                        max(S): 15.50000000125568,\n",
      "\u001b[36m\u001b[1m└ \u001b[22m\u001b[39m                        Δt: 500 ms\n",
      "\u001b[36m\u001b[1m┌ \u001b[22m\u001b[39m\u001b[36m\u001b[1mInfo: \u001b[22m\u001b[39mTime : 40.500 minutes,\n",
      "\u001b[36m\u001b[1m│ \u001b[22m\u001b[39m                        max(|u|): 0.03122441853522639,\n",
      "\u001b[36m\u001b[1m│ \u001b[22m\u001b[39m                        max(S): 15.500000001254993,\n",
      "\u001b[36m\u001b[1m└ \u001b[22m\u001b[39m                        Δt: 500 ms\n",
      "\u001b[36m\u001b[1m┌ \u001b[22m\u001b[39m\u001b[36m\u001b[1mInfo: \u001b[22m\u001b[39mTime : 40.667 minutes,\n",
      "\u001b[36m\u001b[1m│ \u001b[22m\u001b[39m                        max(|u|): 0.031214045181175678,\n",
      "\u001b[36m\u001b[1m│ \u001b[22m\u001b[39m                        max(S): 15.50000000125428,\n",
      "\u001b[36m\u001b[1m└ \u001b[22m\u001b[39m                        Δt: 500 ms\n",
      "\u001b[36m\u001b[1m┌ \u001b[22m\u001b[39m\u001b[36m\u001b[1mInfo: \u001b[22m\u001b[39mTime : 40.833 minutes,\n",
      "\u001b[36m\u001b[1m│ \u001b[22m\u001b[39m                        max(|u|): 0.031203714644423192,\n",
      "\u001b[36m\u001b[1m│ \u001b[22m\u001b[39m                        max(S): 15.500000001253555,\n",
      "\u001b[36m\u001b[1m└ \u001b[22m\u001b[39m                        Δt: 500 ms\n",
      "\u001b[36m\u001b[1m┌ \u001b[22m\u001b[39m\u001b[36m\u001b[1mInfo: \u001b[22m\u001b[39mTime : 41 minutes,\n",
      "\u001b[36m\u001b[1m│ \u001b[22m\u001b[39m                        max(|u|): 0.031193426720591895,\n",
      "\u001b[36m\u001b[1m│ \u001b[22m\u001b[39m                        max(S): 15.500000001252804,\n",
      "\u001b[36m\u001b[1m└ \u001b[22m\u001b[39m                        Δt: 500 ms\n",
      "\u001b[36m\u001b[1m┌ \u001b[22m\u001b[39m\u001b[36m\u001b[1mInfo: \u001b[22m\u001b[39mTime : 41.167 minutes,\n",
      "\u001b[36m\u001b[1m│ \u001b[22m\u001b[39m                        max(|u|): 0.031183181207036077,\n",
      "\u001b[36m\u001b[1m│ \u001b[22m\u001b[39m                        max(S): 15.500000001252024,\n",
      "\u001b[36m\u001b[1m└ \u001b[22m\u001b[39m                        Δt: 500 ms\n",
      "\u001b[36m\u001b[1m┌ \u001b[22m\u001b[39m\u001b[36m\u001b[1mInfo: \u001b[22m\u001b[39mTime : 41.333 minutes,\n",
      "\u001b[36m\u001b[1m│ \u001b[22m\u001b[39m                        max(|u|): 0.03117297790280082,\n",
      "\u001b[36m\u001b[1m│ \u001b[22m\u001b[39m                        max(S): 15.500000001251232,\n",
      "\u001b[36m\u001b[1m└ \u001b[22m\u001b[39m                        Δt: 500 ms\n",
      "\u001b[36m\u001b[1m┌ \u001b[22m\u001b[39m\u001b[36m\u001b[1mInfo: \u001b[22m\u001b[39mTime : 41.500 minutes,\n",
      "\u001b[36m\u001b[1m│ \u001b[22m\u001b[39m                        max(|u|): 0.03116281660858267,\n",
      "\u001b[36m\u001b[1m│ \u001b[22m\u001b[39m                        max(S): 15.500000001250422,\n",
      "\u001b[36m\u001b[1m└ \u001b[22m\u001b[39m                        Δt: 500 ms\n",
      "\u001b[36m\u001b[1m┌ \u001b[22m\u001b[39m\u001b[36m\u001b[1mInfo: \u001b[22m\u001b[39mTime : 41.667 minutes,\n",
      "\u001b[36m\u001b[1m│ \u001b[22m\u001b[39m                        max(|u|): 0.03115269712669099,\n",
      "\u001b[36m\u001b[1m│ \u001b[22m\u001b[39m                        max(S): 15.500000001249584,\n",
      "\u001b[36m\u001b[1m└ \u001b[22m\u001b[39m                        Δt: 500 ms\n",
      "\u001b[36m\u001b[1m┌ \u001b[22m\u001b[39m\u001b[36m\u001b[1mInfo: \u001b[22m\u001b[39mTime : 41.833 minutes,\n",
      "\u001b[36m\u001b[1m│ \u001b[22m\u001b[39m                        max(|u|): 0.031142619261010276,\n",
      "\u001b[36m\u001b[1m│ \u001b[22m\u001b[39m                        max(S): 15.500000001248727,\n",
      "\u001b[36m\u001b[1m└ \u001b[22m\u001b[39m                        Δt: 500 ms\n",
      "\u001b[36m\u001b[1m┌ \u001b[22m\u001b[39m\u001b[36m\u001b[1mInfo: \u001b[22m\u001b[39mTime : 42 minutes,\n",
      "\u001b[36m\u001b[1m│ \u001b[22m\u001b[39m                        max(|u|): 0.031132582816963857,\n",
      "\u001b[36m\u001b[1m│ \u001b[22m\u001b[39m                        max(S): 15.500000001247846,\n",
      "\u001b[36m\u001b[1m└ \u001b[22m\u001b[39m                        Δt: 500 ms\n",
      "\u001b[36m\u001b[1m┌ \u001b[22m\u001b[39m\u001b[36m\u001b[1mInfo: \u001b[22m\u001b[39mTime : 42.167 minutes,\n",
      "\u001b[36m\u001b[1m│ \u001b[22m\u001b[39m                        max(|u|): 0.03112258760147979,\n",
      "\u001b[36m\u001b[1m│ \u001b[22m\u001b[39m                        max(S): 15.500000001246944,\n",
      "\u001b[36m\u001b[1m└ \u001b[22m\u001b[39m                        Δt: 500 ms\n",
      "\u001b[36m\u001b[1m┌ \u001b[22m\u001b[39m\u001b[36m\u001b[1mInfo: \u001b[22m\u001b[39mTime : 42.333 minutes,\n",
      "\u001b[36m\u001b[1m│ \u001b[22m\u001b[39m                        max(|u|): 0.031112633422958596,\n",
      "\u001b[36m\u001b[1m│ \u001b[22m\u001b[39m                        max(S): 15.500000001246018,\n",
      "\u001b[36m\u001b[1m└ \u001b[22m\u001b[39m                        Δt: 500 ms\n",
      "\u001b[36m\u001b[1m┌ \u001b[22m\u001b[39m\u001b[36m\u001b[1mInfo: \u001b[22m\u001b[39mTime : 42.500 minutes,\n",
      "\u001b[36m\u001b[1m│ \u001b[22m\u001b[39m                        max(|u|): 0.03110272009124294,\n",
      "\u001b[36m\u001b[1m│ \u001b[22m\u001b[39m                        max(S): 15.50000000124569,\n",
      "\u001b[36m\u001b[1m└ \u001b[22m\u001b[39m                        Δt: 500 ms\n",
      "\u001b[36m\u001b[1m┌ \u001b[22m\u001b[39m\u001b[36m\u001b[1mInfo: \u001b[22m\u001b[39mTime : 42.667 minutes,\n",
      "\u001b[36m\u001b[1m│ \u001b[22m\u001b[39m                        max(|u|): 0.031092847417588602,\n",
      "\u001b[36m\u001b[1m│ \u001b[22m\u001b[39m                        max(S): 15.500000001245342,\n",
      "\u001b[36m\u001b[1m└ \u001b[22m\u001b[39m                        Δt: 500 ms\n",
      "\u001b[36m\u001b[1m┌ \u001b[22m\u001b[39m\u001b[36m\u001b[1mInfo: \u001b[22m\u001b[39mTime : 42.833 minutes,\n",
      "\u001b[36m\u001b[1m│ \u001b[22m\u001b[39m                        max(|u|): 0.031083015214634576,\n",
      "\u001b[36m\u001b[1m│ \u001b[22m\u001b[39m                        max(S): 15.500000001244976,\n",
      "\u001b[36m\u001b[1m└ \u001b[22m\u001b[39m                        Δt: 500 ms\n",
      "\u001b[36m\u001b[1m┌ \u001b[22m\u001b[39m\u001b[36m\u001b[1mInfo: \u001b[22m\u001b[39mTime : 43 minutes,\n",
      "\u001b[36m\u001b[1m│ \u001b[22m\u001b[39m                        max(|u|): 0.031073223296374783,\n",
      "\u001b[36m\u001b[1m│ \u001b[22m\u001b[39m                        max(S): 15.500000001244585,\n",
      "\u001b[36m\u001b[1m└ \u001b[22m\u001b[39m                        Δt: 500 ms\n",
      "\u001b[36m\u001b[1m┌ \u001b[22m\u001b[39m\u001b[36m\u001b[1mInfo: \u001b[22m\u001b[39mTime : 43.167 minutes,\n",
      "\u001b[36m\u001b[1m│ \u001b[22m\u001b[39m                        max(|u|): 0.031063471478131738,\n",
      "\u001b[36m\u001b[1m│ \u001b[22m\u001b[39m                        max(S): 15.500000001244173,\n",
      "\u001b[36m\u001b[1m└ \u001b[22m\u001b[39m                        Δt: 500 ms\n",
      "\u001b[36m\u001b[1m┌ \u001b[22m\u001b[39m\u001b[36m\u001b[1mInfo: \u001b[22m\u001b[39mTime : 43.333 minutes,\n",
      "\u001b[36m\u001b[1m│ \u001b[22m\u001b[39m                        max(|u|): 0.031053759576530837,\n",
      "\u001b[36m\u001b[1m│ \u001b[22m\u001b[39m                        max(S): 15.500000001243734,\n",
      "\u001b[36m\u001b[1m└ \u001b[22m\u001b[39m                        Δt: 500 ms\n",
      "\u001b[36m\u001b[1m┌ \u001b[22m\u001b[39m\u001b[36m\u001b[1mInfo: \u001b[22m\u001b[39mTime : 43.500 minutes,\n",
      "\u001b[36m\u001b[1m│ \u001b[22m\u001b[39m                        max(|u|): 0.031044087409475413,\n",
      "\u001b[36m\u001b[1m│ \u001b[22m\u001b[39m                        max(S): 15.50000000124328,\n",
      "\u001b[36m\u001b[1m└ \u001b[22m\u001b[39m                        Δt: 500 ms\n",
      "\u001b[36m\u001b[1m┌ \u001b[22m\u001b[39m\u001b[36m\u001b[1mInfo: \u001b[22m\u001b[39mTime : 43.667 minutes,\n",
      "\u001b[36m\u001b[1m│ \u001b[22m\u001b[39m                        max(|u|): 0.031034454796122667,\n",
      "\u001b[36m\u001b[1m│ \u001b[22m\u001b[39m                        max(S): 15.500000001242798,\n",
      "\u001b[36m\u001b[1m└ \u001b[22m\u001b[39m                        Δt: 500 ms\n",
      "\u001b[36m\u001b[1m┌ \u001b[22m\u001b[39m\u001b[36m\u001b[1mInfo: \u001b[22m\u001b[39mTime : 43.833 minutes,\n",
      "\u001b[36m\u001b[1m│ \u001b[22m\u001b[39m                        max(|u|): 0.031024861556860683,\n",
      "\u001b[36m\u001b[1m│ \u001b[22m\u001b[39m                        max(S): 15.500000001242293,\n",
      "\u001b[36m\u001b[1m└ \u001b[22m\u001b[39m                        Δt: 500 ms\n",
      "\u001b[36m\u001b[1m┌ \u001b[22m\u001b[39m\u001b[36m\u001b[1mInfo: \u001b[22m\u001b[39mTime : 44 minutes,\n",
      "\u001b[36m\u001b[1m│ \u001b[22m\u001b[39m                        max(|u|): 0.031015307513286253,\n",
      "\u001b[36m\u001b[1m│ \u001b[22m\u001b[39m                        max(S): 15.500000001241762,\n",
      "\u001b[36m\u001b[1m└ \u001b[22m\u001b[39m                        Δt: 500 ms\n",
      "\u001b[36m\u001b[1m┌ \u001b[22m\u001b[39m\u001b[36m\u001b[1mInfo: \u001b[22m\u001b[39mTime : 44.167 minutes,\n",
      "\u001b[36m\u001b[1m│ \u001b[22m\u001b[39m                        max(|u|): 0.031005792488183227,\n",
      "\u001b[36m\u001b[1m│ \u001b[22m\u001b[39m                        max(S): 15.500000001241222,\n",
      "\u001b[36m\u001b[1m└ \u001b[22m\u001b[39m                        Δt: 500 ms\n",
      "\u001b[36m\u001b[1m┌ \u001b[22m\u001b[39m\u001b[36m\u001b[1mInfo: \u001b[22m\u001b[39mTime : 44.333 minutes,\n",
      "\u001b[36m\u001b[1m│ \u001b[22m\u001b[39m                        max(|u|): 0.030996316305501564,\n",
      "\u001b[36m\u001b[1m│ \u001b[22m\u001b[39m                        max(S): 15.500000001240641,\n",
      "\u001b[36m\u001b[1m└ \u001b[22m\u001b[39m                        Δt: 500 ms\n",
      "\u001b[36m\u001b[1m┌ \u001b[22m\u001b[39m\u001b[36m\u001b[1mInfo: \u001b[22m\u001b[39mTime : 44.500 minutes,\n",
      "\u001b[36m\u001b[1m│ \u001b[22m\u001b[39m                        max(|u|): 0.030986878790337277,\n",
      "\u001b[36m\u001b[1m│ \u001b[22m\u001b[39m                        max(S): 15.500000001240041,\n",
      "\u001b[36m\u001b[1m└ \u001b[22m\u001b[39m                        Δt: 500 ms\n",
      "\u001b[36m\u001b[1m┌ \u001b[22m\u001b[39m\u001b[36m\u001b[1mInfo: \u001b[22m\u001b[39mTime : 44.667 minutes,\n",
      "\u001b[36m\u001b[1m│ \u001b[22m\u001b[39m                        max(|u|): 0.030977479768913626,\n",
      "\u001b[36m\u001b[1m│ \u001b[22m\u001b[39m                        max(S): 15.500000001239421,\n",
      "\u001b[36m\u001b[1m└ \u001b[22m\u001b[39m                        Δt: 500 ms\n",
      "\u001b[36m\u001b[1m┌ \u001b[22m\u001b[39m\u001b[36m\u001b[1mInfo: \u001b[22m\u001b[39mTime : 44.833 minutes,\n",
      "\u001b[36m\u001b[1m│ \u001b[22m\u001b[39m                        max(|u|): 0.030968119068566724,\n",
      "\u001b[36m\u001b[1m│ \u001b[22m\u001b[39m                        max(S): 15.500000001238767,\n",
      "\u001b[36m\u001b[1m└ \u001b[22m\u001b[39m                        Δt: 500 ms\n",
      "\u001b[36m\u001b[1m┌ \u001b[22m\u001b[39m\u001b[36m\u001b[1mInfo: \u001b[22m\u001b[39mTime : 45 minutes,\n",
      "\u001b[36m\u001b[1m│ \u001b[22m\u001b[39m                        max(|u|): 0.030958796517728576,\n",
      "\u001b[36m\u001b[1m│ \u001b[22m\u001b[39m                        max(S): 15.500000001238094,\n",
      "\u001b[36m\u001b[1m└ \u001b[22m\u001b[39m                        Δt: 500 ms\n",
      "\u001b[36m\u001b[1m┌ \u001b[22m\u001b[39m\u001b[36m\u001b[1mInfo: \u001b[22m\u001b[39mTime : 45.167 minutes,\n",
      "\u001b[36m\u001b[1m│ \u001b[22m\u001b[39m                        max(|u|): 0.030949511945904236,\n",
      "\u001b[36m\u001b[1m│ \u001b[22m\u001b[39m                        max(S): 15.500000001237394,\n",
      "\u001b[36m\u001b[1m└ \u001b[22m\u001b[39m                        Δt: 500 ms\n",
      "\u001b[36m\u001b[1m┌ \u001b[22m\u001b[39m\u001b[36m\u001b[1mInfo: \u001b[22m\u001b[39mTime : 45.333 minutes,\n",
      "\u001b[36m\u001b[1m│ \u001b[22m\u001b[39m                        max(|u|): 0.030940265183649816,\n",
      "\u001b[36m\u001b[1m│ \u001b[22m\u001b[39m                        max(S): 15.500000001236673,\n",
      "\u001b[36m\u001b[1m└ \u001b[22m\u001b[39m                        Δt: 500 ms\n",
      "\u001b[36m\u001b[1m┌ \u001b[22m\u001b[39m\u001b[36m\u001b[1mInfo: \u001b[22m\u001b[39mTime : 45.500 minutes,\n",
      "\u001b[36m\u001b[1m│ \u001b[22m\u001b[39m                        max(|u|): 0.030931056062554828,\n",
      "\u001b[36m\u001b[1m│ \u001b[22m\u001b[39m                        max(S): 15.500000001235925,\n",
      "\u001b[36m\u001b[1m└ \u001b[22m\u001b[39m                        Δt: 500 ms\n",
      "\u001b[36m\u001b[1m┌ \u001b[22m\u001b[39m\u001b[36m\u001b[1mInfo: \u001b[22m\u001b[39mTime : 45.667 minutes,\n",
      "\u001b[36m\u001b[1m│ \u001b[22m\u001b[39m                        max(|u|): 0.030921884415228165,\n",
      "\u001b[36m\u001b[1m│ \u001b[22m\u001b[39m                        max(S): 15.500000001235142,\n",
      "\u001b[36m\u001b[1m└ \u001b[22m\u001b[39m                        Δt: 500 ms\n",
      "\u001b[36m\u001b[1m┌ \u001b[22m\u001b[39m\u001b[36m\u001b[1mInfo: \u001b[22m\u001b[39mTime : 45.833 minutes,\n",
      "\u001b[36m\u001b[1m│ \u001b[22m\u001b[39m                        max(|u|): 0.03091275007528574,\n",
      "\u001b[36m\u001b[1m│ \u001b[22m\u001b[39m                        max(S): 15.500000001234344,\n",
      "\u001b[36m\u001b[1m└ \u001b[22m\u001b[39m                        Δt: 500 ms\n",
      "\u001b[36m\u001b[1m┌ \u001b[22m\u001b[39m\u001b[36m\u001b[1mInfo: \u001b[22m\u001b[39mTime : 46 minutes,\n",
      "\u001b[36m\u001b[1m│ \u001b[22m\u001b[39m                        max(|u|): 0.030903652877337914,\n",
      "\u001b[36m\u001b[1m│ \u001b[22m\u001b[39m                        max(S): 15.500000001233516,\n",
      "\u001b[36m\u001b[1m└ \u001b[22m\u001b[39m                        Δt: 500 ms\n",
      "\u001b[36m\u001b[1m┌ \u001b[22m\u001b[39m\u001b[36m\u001b[1mInfo: \u001b[22m\u001b[39mTime : 46.167 minutes,\n",
      "\u001b[36m\u001b[1m│ \u001b[22m\u001b[39m                        max(|u|): 0.03089459265697639,\n",
      "\u001b[36m\u001b[1m│ \u001b[22m\u001b[39m                        max(S): 15.500000001232664,\n",
      "\u001b[36m\u001b[1m└ \u001b[22m\u001b[39m                        Δt: 500 ms\n",
      "\u001b[36m\u001b[1m┌ \u001b[22m\u001b[39m\u001b[36m\u001b[1mInfo: \u001b[22m\u001b[39mTime : 46.333 minutes,\n",
      "\u001b[36m\u001b[1m│ \u001b[22m\u001b[39m                        max(|u|): 0.030885569250760393,\n",
      "\u001b[36m\u001b[1m│ \u001b[22m\u001b[39m                        max(S): 15.500000001231777,\n",
      "\u001b[36m\u001b[1m└ \u001b[22m\u001b[39m                        Δt: 500 ms\n",
      "\u001b[36m\u001b[1m┌ \u001b[22m\u001b[39m\u001b[36m\u001b[1mInfo: \u001b[22m\u001b[39mTime : 46.500 minutes,\n",
      "\u001b[36m\u001b[1m│ \u001b[22m\u001b[39m                        max(|u|): 0.03087658249620301,\n",
      "\u001b[36m\u001b[1m│ \u001b[22m\u001b[39m                        max(S): 15.500000001230866,\n",
      "\u001b[36m\u001b[1m└ \u001b[22m\u001b[39m                        Δt: 500 ms\n",
      "\u001b[36m\u001b[1m┌ \u001b[22m\u001b[39m\u001b[36m\u001b[1mInfo: \u001b[22m\u001b[39mTime : 46.667 minutes,\n",
      "\u001b[36m\u001b[1m│ \u001b[22m\u001b[39m                        max(|u|): 0.030867632231757633,\n",
      "\u001b[36m\u001b[1m│ \u001b[22m\u001b[39m                        max(S): 15.500000001229916,\n",
      "\u001b[36m\u001b[1m└ \u001b[22m\u001b[39m                        Δt: 500 ms\n",
      "\u001b[36m\u001b[1m┌ \u001b[22m\u001b[39m\u001b[36m\u001b[1mInfo: \u001b[22m\u001b[39mTime : 46.833 minutes,\n",
      "\u001b[36m\u001b[1m│ \u001b[22m\u001b[39m                        max(|u|): 0.030858718296805115,\n",
      "\u001b[36m\u001b[1m│ \u001b[22m\u001b[39m                        max(S): 15.500000001228939,\n",
      "\u001b[36m\u001b[1m└ \u001b[22m\u001b[39m                        Δt: 500 ms\n",
      "\u001b[36m\u001b[1m┌ \u001b[22m\u001b[39m\u001b[36m\u001b[1mInfo: \u001b[22m\u001b[39mTime : 47 minutes,\n",
      "\u001b[36m\u001b[1m│ \u001b[22m\u001b[39m                        max(|u|): 0.030849840531641328,\n",
      "\u001b[36m\u001b[1m│ \u001b[22m\u001b[39m                        max(S): 15.500000001227948,\n",
      "\u001b[36m\u001b[1m└ \u001b[22m\u001b[39m                        Δt: 500 ms\n",
      "\u001b[36m\u001b[1m┌ \u001b[22m\u001b[39m\u001b[36m\u001b[1mInfo: \u001b[22m\u001b[39mTime : 47.167 minutes,\n",
      "\u001b[36m\u001b[1m│ \u001b[22m\u001b[39m                        max(|u|): 0.030840998777465236,\n",
      "\u001b[36m\u001b[1m│ \u001b[22m\u001b[39m                        max(S): 15.500000001226915,\n",
      "\u001b[36m\u001b[1m└ \u001b[22m\u001b[39m                        Δt: 500 ms\n",
      "\u001b[36m\u001b[1m┌ \u001b[22m\u001b[39m\u001b[36m\u001b[1mInfo: \u001b[22m\u001b[39mTime : 47.333 minutes,\n",
      "\u001b[36m\u001b[1m│ \u001b[22m\u001b[39m                        max(|u|): 0.030832192876367407,\n",
      "\u001b[36m\u001b[1m│ \u001b[22m\u001b[39m                        max(S): 15.500000001225862,\n",
      "\u001b[36m\u001b[1m└ \u001b[22m\u001b[39m                        Δt: 500 ms\n",
      "\u001b[36m\u001b[1m┌ \u001b[22m\u001b[39m\u001b[36m\u001b[1mInfo: \u001b[22m\u001b[39mTime : 47.500 minutes,\n",
      "\u001b[36m\u001b[1m│ \u001b[22m\u001b[39m                        max(|u|): 0.030823422671318806,\n",
      "\u001b[36m\u001b[1m│ \u001b[22m\u001b[39m                        max(S): 15.50000000122478,\n",
      "\u001b[36m\u001b[1m└ \u001b[22m\u001b[39m                        Δt: 500 ms\n",
      "\u001b[36m\u001b[1m┌ \u001b[22m\u001b[39m\u001b[36m\u001b[1mInfo: \u001b[22m\u001b[39mTime : 47.667 minutes,\n",
      "\u001b[36m\u001b[1m│ \u001b[22m\u001b[39m                        max(|u|): 0.03081468800616008,\n",
      "\u001b[36m\u001b[1m│ \u001b[22m\u001b[39m                        max(S): 15.500000001223663,\n",
      "\u001b[36m\u001b[1m└ \u001b[22m\u001b[39m                        Δt: 500 ms\n",
      "\u001b[36m\u001b[1m┌ \u001b[22m\u001b[39m\u001b[36m\u001b[1mInfo: \u001b[22m\u001b[39mTime : 47.833 minutes,\n",
      "\u001b[36m\u001b[1m│ \u001b[22m\u001b[39m                        max(|u|): 0.030805988725591163,\n",
      "\u001b[36m\u001b[1m│ \u001b[22m\u001b[39m                        max(S): 15.500000001222512,\n",
      "\u001b[36m\u001b[1m└ \u001b[22m\u001b[39m                        Δt: 500 ms\n",
      "\u001b[36m\u001b[1m┌ \u001b[22m\u001b[39m\u001b[36m\u001b[1mInfo: \u001b[22m\u001b[39mTime : 48 minutes,\n",
      "\u001b[36m\u001b[1m│ \u001b[22m\u001b[39m                        max(|u|): 0.030797324675161167,\n",
      "\u001b[36m\u001b[1m│ \u001b[22m\u001b[39m                        max(S): 15.500000001221338,\n",
      "\u001b[36m\u001b[1m└ \u001b[22m\u001b[39m                        Δt: 500 ms\n",
      "\u001b[36m\u001b[1m┌ \u001b[22m\u001b[39m\u001b[36m\u001b[1mInfo: \u001b[22m\u001b[39mTime : 48.167 minutes,\n",
      "\u001b[36m\u001b[1m│ \u001b[22m\u001b[39m                        max(|u|): 0.030788695701258525,\n",
      "\u001b[36m\u001b[1m│ \u001b[22m\u001b[39m                        max(S): 15.500000001220124,\n",
      "\u001b[36m\u001b[1m└ \u001b[22m\u001b[39m                        Δt: 500 ms\n",
      "\u001b[36m\u001b[1m┌ \u001b[22m\u001b[39m\u001b[36m\u001b[1mInfo: \u001b[22m\u001b[39mTime : 48.333 minutes,\n",
      "\u001b[36m\u001b[1m│ \u001b[22m\u001b[39m                        max(|u|): 0.030780101651101222,\n",
      "\u001b[36m\u001b[1m│ \u001b[22m\u001b[39m                        max(S): 15.500000001218888,\n",
      "\u001b[36m\u001b[1m└ \u001b[22m\u001b[39m                        Δt: 500 ms\n",
      "\u001b[36m\u001b[1m┌ \u001b[22m\u001b[39m\u001b[36m\u001b[1mInfo: \u001b[22m\u001b[39mTime : 48.500 minutes,\n",
      "\u001b[36m\u001b[1m│ \u001b[22m\u001b[39m                        max(|u|): 0.03077154237272742,\n",
      "\u001b[36m\u001b[1m│ \u001b[22m\u001b[39m                        max(S): 15.500000001217613,\n",
      "\u001b[36m\u001b[1m└ \u001b[22m\u001b[39m                        Δt: 500 ms\n",
      "\u001b[36m\u001b[1m┌ \u001b[22m\u001b[39m\u001b[36m\u001b[1mInfo: \u001b[22m\u001b[39mTime : 48.667 minutes,\n",
      "\u001b[36m\u001b[1m│ \u001b[22m\u001b[39m                        max(|u|): 0.030763017714986164,\n",
      "\u001b[36m\u001b[1m│ \u001b[22m\u001b[39m                        max(S): 15.500000001216305,\n",
      "\u001b[36m\u001b[1m└ \u001b[22m\u001b[39m                        Δt: 500 ms\n",
      "\u001b[36m\u001b[1m┌ \u001b[22m\u001b[39m\u001b[36m\u001b[1mInfo: \u001b[22m\u001b[39mTime : 48.833 minutes,\n",
      "\u001b[36m\u001b[1m│ \u001b[22m\u001b[39m                        max(|u|): 0.030754527527528608,\n",
      "\u001b[36m\u001b[1m│ \u001b[22m\u001b[39m                        max(S): 15.500000001214978,\n",
      "\u001b[36m\u001b[1m└ \u001b[22m\u001b[39m                        Δt: 500 ms\n",
      "\u001b[36m\u001b[1m┌ \u001b[22m\u001b[39m\u001b[36m\u001b[1mInfo: \u001b[22m\u001b[39mTime : 49 minutes,\n",
      "\u001b[36m\u001b[1m│ \u001b[22m\u001b[39m                        max(|u|): 0.030746071660799536,\n",
      "\u001b[36m\u001b[1m│ \u001b[22m\u001b[39m                        max(S): 15.50000000121361,\n",
      "\u001b[36m\u001b[1m└ \u001b[22m\u001b[39m                        Δt: 500 ms\n",
      "\u001b[36m\u001b[1m┌ \u001b[22m\u001b[39m\u001b[36m\u001b[1mInfo: \u001b[22m\u001b[39mTime : 49.167 minutes,\n",
      "\u001b[36m\u001b[1m│ \u001b[22m\u001b[39m                        max(|u|): 0.030737649966029002,\n",
      "\u001b[36m\u001b[1m│ \u001b[22m\u001b[39m                        max(S): 15.500000001212218,\n",
      "\u001b[36m\u001b[1m└ \u001b[22m\u001b[39m                        Δt: 500 ms\n",
      "\u001b[36m\u001b[1m┌ \u001b[22m\u001b[39m\u001b[36m\u001b[1mInfo: \u001b[22m\u001b[39mTime : 49.333 minutes,\n",
      "\u001b[36m\u001b[1m│ \u001b[22m\u001b[39m                        max(|u|): 0.03072926229522414,\n",
      "\u001b[36m\u001b[1m│ \u001b[22m\u001b[39m                        max(S): 15.500000001210779,\n",
      "\u001b[36m\u001b[1m└ \u001b[22m\u001b[39m                        Δt: 500 ms\n",
      "\u001b[36m\u001b[1m┌ \u001b[22m\u001b[39m\u001b[36m\u001b[1mInfo: \u001b[22m\u001b[39mTime : 49.500 minutes,\n",
      "\u001b[36m\u001b[1m│ \u001b[22m\u001b[39m                        max(|u|): 0.030720908501161145,\n",
      "\u001b[36m\u001b[1m│ \u001b[22m\u001b[39m                        max(S): 15.500000001209317,\n",
      "\u001b[36m\u001b[1m└ \u001b[22m\u001b[39m                        Δt: 500 ms\n",
      "\u001b[36m\u001b[1m┌ \u001b[22m\u001b[39m\u001b[36m\u001b[1mInfo: \u001b[22m\u001b[39mTime : 49.667 minutes,\n",
      "\u001b[36m\u001b[1m│ \u001b[22m\u001b[39m                        max(|u|): 0.03071258843737744,\n",
      "\u001b[36m\u001b[1m│ \u001b[22m\u001b[39m                        max(S): 15.500000001207823,\n",
      "\u001b[36m\u001b[1m└ \u001b[22m\u001b[39m                        Δt: 500 ms\n",
      "\u001b[36m\u001b[1m┌ \u001b[22m\u001b[39m\u001b[36m\u001b[1mInfo: \u001b[22m\u001b[39mTime : 49.833 minutes,\n",
      "\u001b[36m\u001b[1m│ \u001b[22m\u001b[39m                        max(|u|): 0.030704301958164076,\n",
      "\u001b[36m\u001b[1m│ \u001b[22m\u001b[39m                        max(S): 15.500000001206283,\n",
      "\u001b[36m\u001b[1m└ \u001b[22m\u001b[39m                        Δt: 500 ms\n",
      "\u001b[36m\u001b[1m┌ \u001b[22m\u001b[39m\u001b[36m\u001b[1mInfo: \u001b[22m\u001b[39mTime : 50 minutes,\n",
      "\u001b[36m\u001b[1m│ \u001b[22m\u001b[39m                        max(|u|): 0.030696048918558375,\n",
      "\u001b[36m\u001b[1m│ \u001b[22m\u001b[39m                        max(S): 15.500000001204722,\n",
      "\u001b[36m\u001b[1m└ \u001b[22m\u001b[39m                        Δt: 500 ms\n",
      "\u001b[36m\u001b[1m┌ \u001b[22m\u001b[39m\u001b[36m\u001b[1mInfo: \u001b[22m\u001b[39mTime : 50.167 minutes,\n",
      "\u001b[36m\u001b[1m│ \u001b[22m\u001b[39m                        max(|u|): 0.030687829174336597,\n",
      "\u001b[36m\u001b[1m│ \u001b[22m\u001b[39m                        max(S): 15.500000001203121,\n",
      "\u001b[36m\u001b[1m└ \u001b[22m\u001b[39m                        Δt: 500 ms\n",
      "\u001b[36m\u001b[1m┌ \u001b[22m\u001b[39m\u001b[36m\u001b[1mInfo: \u001b[22m\u001b[39mTime : 50.333 minutes,\n",
      "\u001b[36m\u001b[1m│ \u001b[22m\u001b[39m                        max(|u|): 0.030679642582006946,\n",
      "\u001b[36m\u001b[1m│ \u001b[22m\u001b[39m                        max(S): 15.500000001201473,\n",
      "\u001b[36m\u001b[1m└ \u001b[22m\u001b[39m                        Δt: 500 ms\n",
      "\u001b[36m\u001b[1m┌ \u001b[22m\u001b[39m\u001b[36m\u001b[1mInfo: \u001b[22m\u001b[39mTime : 50.500 minutes,\n",
      "\u001b[36m\u001b[1m│ \u001b[22m\u001b[39m                        max(|u|): 0.030671488998802628,\n",
      "\u001b[36m\u001b[1m│ \u001b[22m\u001b[39m                        max(S): 15.500000001199812,\n",
      "\u001b[36m\u001b[1m└ \u001b[22m\u001b[39m                        Δt: 500 ms\n",
      "\u001b[36m\u001b[1m┌ \u001b[22m\u001b[39m\u001b[36m\u001b[1mInfo: \u001b[22m\u001b[39mTime : 50.667 minutes,\n",
      "\u001b[36m\u001b[1m│ \u001b[22m\u001b[39m                        max(|u|): 0.03066336828267513,\n",
      "\u001b[36m\u001b[1m│ \u001b[22m\u001b[39m                        max(S): 15.500000001198107,\n",
      "\u001b[36m\u001b[1m└ \u001b[22m\u001b[39m                        Δt: 500 ms\n",
      "\u001b[36m\u001b[1m┌ \u001b[22m\u001b[39m\u001b[36m\u001b[1mInfo: \u001b[22m\u001b[39mTime : 50.833 minutes,\n",
      "\u001b[36m\u001b[1m│ \u001b[22m\u001b[39m                        max(|u|): 0.03065528029228759,\n",
      "\u001b[36m\u001b[1m│ \u001b[22m\u001b[39m                        max(S): 15.500000001196355,\n",
      "\u001b[36m\u001b[1m└ \u001b[22m\u001b[39m                        Δt: 500 ms\n",
      "\u001b[36m\u001b[1m┌ \u001b[22m\u001b[39m\u001b[36m\u001b[1mInfo: \u001b[22m\u001b[39mTime : 51 minutes,\n",
      "\u001b[36m\u001b[1m│ \u001b[22m\u001b[39m                        max(|u|): 0.030647224887008287,\n",
      "\u001b[36m\u001b[1m│ \u001b[22m\u001b[39m                        max(S): 15.500000001194577,\n",
      "\u001b[36m\u001b[1m└ \u001b[22m\u001b[39m                        Δt: 500 ms\n",
      "\u001b[36m\u001b[1m┌ \u001b[22m\u001b[39m\u001b[36m\u001b[1mInfo: \u001b[22m\u001b[39mTime : 51.167 minutes,\n",
      "\u001b[36m\u001b[1m│ \u001b[22m\u001b[39m                        max(|u|): 0.030639201926904457,\n",
      "\u001b[36m\u001b[1m│ \u001b[22m\u001b[39m                        max(S): 15.500000001192761,\n",
      "\u001b[36m\u001b[1m└ \u001b[22m\u001b[39m                        Δt: 500 ms\n",
      "\u001b[36m\u001b[1m┌ \u001b[22m\u001b[39m\u001b[36m\u001b[1mInfo: \u001b[22m\u001b[39mTime : 51.333 minutes,\n",
      "\u001b[36m\u001b[1m│ \u001b[22m\u001b[39m                        max(|u|): 0.030631211272736176,\n",
      "\u001b[36m\u001b[1m│ \u001b[22m\u001b[39m                        max(S): 15.50000000119091,\n",
      "\u001b[36m\u001b[1m└ \u001b[22m\u001b[39m                        Δt: 500 ms\n",
      "\u001b[36m\u001b[1m┌ \u001b[22m\u001b[39m\u001b[36m\u001b[1mInfo: \u001b[22m\u001b[39mTime : 51.500 minutes,\n",
      "\u001b[36m\u001b[1m│ \u001b[22m\u001b[39m                        max(|u|): 0.03062325278595048,\n",
      "\u001b[36m\u001b[1m│ \u001b[22m\u001b[39m                        max(S): 15.500000001189024,\n",
      "\u001b[36m\u001b[1m└ \u001b[22m\u001b[39m                        Δt: 500 ms\n",
      "\u001b[36m\u001b[1m┌ \u001b[22m\u001b[39m\u001b[36m\u001b[1mInfo: \u001b[22m\u001b[39mTime : 51.667 minutes,\n",
      "\u001b[36m\u001b[1m│ \u001b[22m\u001b[39m                        max(|u|): 0.030615326328675457,\n",
      "\u001b[36m\u001b[1m│ \u001b[22m\u001b[39m                        max(S): 15.50000000118709,\n",
      "\u001b[36m\u001b[1m└ \u001b[22m\u001b[39m                        Δt: 500 ms\n",
      "\u001b[36m\u001b[1m┌ \u001b[22m\u001b[39m\u001b[36m\u001b[1mInfo: \u001b[22m\u001b[39mTime : 51.833 minutes,\n",
      "\u001b[36m\u001b[1m│ \u001b[22m\u001b[39m                        max(|u|): 0.030607431763714422,\n",
      "\u001b[36m\u001b[1m│ \u001b[22m\u001b[39m                        max(S): 15.50000000118512,\n",
      "\u001b[36m\u001b[1m└ \u001b[22m\u001b[39m                        Δt: 500 ms\n",
      "\u001b[36m\u001b[1m┌ \u001b[22m\u001b[39m\u001b[36m\u001b[1mInfo: \u001b[22m\u001b[39mTime : 52 minutes,\n",
      "\u001b[36m\u001b[1m│ \u001b[22m\u001b[39m                        max(|u|): 0.030599568954540236,\n",
      "\u001b[36m\u001b[1m│ \u001b[22m\u001b[39m                        max(S): 15.500000001183109,\n",
      "\u001b[36m\u001b[1m└ \u001b[22m\u001b[39m                        Δt: 500 ms\n",
      "\u001b[36m\u001b[1m┌ \u001b[22m\u001b[39m\u001b[36m\u001b[1mInfo: \u001b[22m\u001b[39mTime : 52.167 minutes,\n",
      "\u001b[36m\u001b[1m│ \u001b[22m\u001b[39m                        max(|u|): 0.03059173776528972,\n",
      "\u001b[36m\u001b[1m│ \u001b[22m\u001b[39m                        max(S): 15.50000000118107,\n",
      "\u001b[36m\u001b[1m└ \u001b[22m\u001b[39m                        Δt: 500 ms\n",
      "\u001b[36m\u001b[1m┌ \u001b[22m\u001b[39m\u001b[36m\u001b[1mInfo: \u001b[22m\u001b[39mTime : 52.333 minutes,\n",
      "\u001b[36m\u001b[1m│ \u001b[22m\u001b[39m                        max(|u|): 0.030583938060758268,\n",
      "\u001b[36m\u001b[1m│ \u001b[22m\u001b[39m                        max(S): 15.50000000117899,\n",
      "\u001b[36m\u001b[1m└ \u001b[22m\u001b[39m                        Δt: 500 ms\n",
      "\u001b[36m\u001b[1m┌ \u001b[22m\u001b[39m\u001b[36m\u001b[1mInfo: \u001b[22m\u001b[39mTime : 52.500 minutes,\n",
      "\u001b[36m\u001b[1m│ \u001b[22m\u001b[39m                        max(|u|): 0.030576169706394478,\n",
      "\u001b[36m\u001b[1m│ \u001b[22m\u001b[39m                        max(S): 15.500000001176867,\n",
      "\u001b[36m\u001b[1m└ \u001b[22m\u001b[39m                        Δt: 500 ms\n",
      "\u001b[36m\u001b[1m┌ \u001b[22m\u001b[39m\u001b[36m\u001b[1mInfo: \u001b[22m\u001b[39mTime : 52.667 minutes,\n",
      "\u001b[36m\u001b[1m│ \u001b[22m\u001b[39m                        max(|u|): 0.03056843256829499,\n",
      "\u001b[36m\u001b[1m│ \u001b[22m\u001b[39m                        max(S): 15.500000001174705,\n",
      "\u001b[36m\u001b[1m└ \u001b[22m\u001b[39m                        Δt: 500 ms\n",
      "\u001b[36m\u001b[1m┌ \u001b[22m\u001b[39m\u001b[36m\u001b[1mInfo: \u001b[22m\u001b[39mTime : 52.833 minutes,\n",
      "\u001b[36m\u001b[1m│ \u001b[22m\u001b[39m                        max(|u|): 0.030560726513199306,\n",
      "\u001b[36m\u001b[1m│ \u001b[22m\u001b[39m                        max(S): 15.5000000011725,\n",
      "\u001b[36m\u001b[1m└ \u001b[22m\u001b[39m                        Δt: 500 ms\n",
      "\u001b[36m\u001b[1m┌ \u001b[22m\u001b[39m\u001b[36m\u001b[1mInfo: \u001b[22m\u001b[39mTime : 53 minutes,\n",
      "\u001b[36m\u001b[1m│ \u001b[22m\u001b[39m                        max(|u|): 0.030553051408484824,\n",
      "\u001b[36m\u001b[1m│ \u001b[22m\u001b[39m                        max(S): 15.500000001170264,\n",
      "\u001b[36m\u001b[1m└ \u001b[22m\u001b[39m                        Δt: 500 ms\n",
      "\u001b[36m\u001b[1m┌ \u001b[22m\u001b[39m\u001b[36m\u001b[1mInfo: \u001b[22m\u001b[39mTime : 53.167 minutes,\n",
      "\u001b[36m\u001b[1m│ \u001b[22m\u001b[39m                        max(|u|): 0.03054540712216184,\n",
      "\u001b[36m\u001b[1m│ \u001b[22m\u001b[39m                        max(S): 15.500000001167978,\n",
      "\u001b[36m\u001b[1m└ \u001b[22m\u001b[39m                        Δt: 500 ms\n",
      "\u001b[36m\u001b[1m┌ \u001b[22m\u001b[39m\u001b[36m\u001b[1mInfo: \u001b[22m\u001b[39mTime : 53.333 minutes,\n",
      "\u001b[36m\u001b[1m│ \u001b[22m\u001b[39m                        max(|u|): 0.03053779352286882,\n",
      "\u001b[36m\u001b[1m│ \u001b[22m\u001b[39m                        max(S): 15.500000001165658,\n",
      "\u001b[36m\u001b[1m└ \u001b[22m\u001b[39m                        Δt: 500 ms\n",
      "\u001b[36m\u001b[1m┌ \u001b[22m\u001b[39m\u001b[36m\u001b[1mInfo: \u001b[22m\u001b[39mTime : 53.500 minutes,\n",
      "\u001b[36m\u001b[1m│ \u001b[22m\u001b[39m                        max(|u|): 0.030530210479867693,\n",
      "\u001b[36m\u001b[1m│ \u001b[22m\u001b[39m                        max(S): 15.500000001163292,\n",
      "\u001b[36m\u001b[1m└ \u001b[22m\u001b[39m                        Δt: 500 ms\n",
      "\u001b[36m\u001b[1m┌ \u001b[22m\u001b[39m\u001b[36m\u001b[1mInfo: \u001b[22m\u001b[39mTime : 53.667 minutes,\n",
      "\u001b[36m\u001b[1m│ \u001b[22m\u001b[39m                        max(|u|): 0.030522657863039256,\n",
      "\u001b[36m\u001b[1m│ \u001b[22m\u001b[39m                        max(S): 15.500000001160883,\n",
      "\u001b[36m\u001b[1m└ \u001b[22m\u001b[39m                        Δt: 500 ms\n",
      "\u001b[36m\u001b[1m┌ \u001b[22m\u001b[39m\u001b[36m\u001b[1mInfo: \u001b[22m\u001b[39mTime : 53.833 minutes,\n",
      "\u001b[36m\u001b[1m│ \u001b[22m\u001b[39m                        max(|u|): 0.030515135542878397,\n",
      "\u001b[36m\u001b[1m│ \u001b[22m\u001b[39m                        max(S): 15.500000001158435,\n",
      "\u001b[36m\u001b[1m└ \u001b[22m\u001b[39m                        Δt: 500 ms\n",
      "\u001b[36m\u001b[1m┌ \u001b[22m\u001b[39m\u001b[36m\u001b[1mInfo: \u001b[22m\u001b[39mTime : 54 minutes,\n",
      "\u001b[36m\u001b[1m│ \u001b[22m\u001b[39m                        max(|u|): 0.03050764339049026,\n",
      "\u001b[36m\u001b[1m│ \u001b[22m\u001b[39m                        max(S): 15.500000001155943,\n",
      "\u001b[36m\u001b[1m└ \u001b[22m\u001b[39m                        Δt: 500 ms\n",
      "\u001b[36m\u001b[1m┌ \u001b[22m\u001b[39m\u001b[36m\u001b[1mInfo: \u001b[22m\u001b[39mTime : 54.167 minutes,\n",
      "\u001b[36m\u001b[1m│ \u001b[22m\u001b[39m                        max(|u|): 0.030500181277586285,\n",
      "\u001b[36m\u001b[1m│ \u001b[22m\u001b[39m                        max(S): 15.500000001153417,\n",
      "\u001b[36m\u001b[1m└ \u001b[22m\u001b[39m                        Δt: 500 ms\n",
      "\u001b[36m\u001b[1m┌ \u001b[22m\u001b[39m\u001b[36m\u001b[1mInfo: \u001b[22m\u001b[39mTime : 54.333 minutes,\n",
      "\u001b[36m\u001b[1m│ \u001b[22m\u001b[39m                        max(|u|): 0.030492749076478573,\n",
      "\u001b[36m\u001b[1m│ \u001b[22m\u001b[39m                        max(S): 15.500000001150843,\n",
      "\u001b[36m\u001b[1m└ \u001b[22m\u001b[39m                        Δt: 500 ms\n",
      "\u001b[36m\u001b[1m┌ \u001b[22m\u001b[39m\u001b[36m\u001b[1mInfo: \u001b[22m\u001b[39mTime : 54.500 minutes,\n",
      "\u001b[36m\u001b[1m│ \u001b[22m\u001b[39m                        max(|u|): 0.030485346660075355,\n",
      "\u001b[36m\u001b[1m│ \u001b[22m\u001b[39m                        max(S): 15.500000001148223,\n",
      "\u001b[36m\u001b[1m└ \u001b[22m\u001b[39m                        Δt: 500 ms\n",
      "\u001b[36m\u001b[1m┌ \u001b[22m\u001b[39m\u001b[36m\u001b[1mInfo: \u001b[22m\u001b[39mTime : 54.667 minutes,\n",
      "\u001b[36m\u001b[1m│ \u001b[22m\u001b[39m                        max(|u|): 0.03047797390187733,\n",
      "\u001b[36m\u001b[1m│ \u001b[22m\u001b[39m                        max(S): 15.500000001145564,\n",
      "\u001b[36m\u001b[1m└ \u001b[22m\u001b[39m                        Δt: 500 ms\n",
      "\u001b[36m\u001b[1m┌ \u001b[22m\u001b[39m\u001b[36m\u001b[1mInfo: \u001b[22m\u001b[39mTime : 54.833 minutes,\n",
      "\u001b[36m\u001b[1m│ \u001b[22m\u001b[39m                        max(|u|): 0.030470630675973807,\n",
      "\u001b[36m\u001b[1m│ \u001b[22m\u001b[39m                        max(S): 15.500000001142855,\n",
      "\u001b[36m\u001b[1m└ \u001b[22m\u001b[39m                        Δt: 500 ms\n",
      "\u001b[36m\u001b[1m┌ \u001b[22m\u001b[39m\u001b[36m\u001b[1mInfo: \u001b[22m\u001b[39mTime : 55 minutes,\n",
      "\u001b[36m\u001b[1m│ \u001b[22m\u001b[39m                        max(|u|): 0.030463316857038656,\n",
      "\u001b[36m\u001b[1m│ \u001b[22m\u001b[39m                        max(S): 15.500000001140101,\n",
      "\u001b[36m\u001b[1m└ \u001b[22m\u001b[39m                        Δt: 500 ms\n",
      "\u001b[36m\u001b[1m┌ \u001b[22m\u001b[39m\u001b[36m\u001b[1mInfo: \u001b[22m\u001b[39mTime : 55.167 minutes,\n",
      "\u001b[36m\u001b[1m│ \u001b[22m\u001b[39m                        max(|u|): 0.030456032320326332,\n",
      "\u001b[36m\u001b[1m│ \u001b[22m\u001b[39m                        max(S): 15.5000000011373,\n",
      "\u001b[36m\u001b[1m└ \u001b[22m\u001b[39m                        Δt: 500 ms\n",
      "\u001b[36m\u001b[1m┌ \u001b[22m\u001b[39m\u001b[36m\u001b[1mInfo: \u001b[22m\u001b[39mTime : 55.333 minutes,\n",
      "\u001b[36m\u001b[1m│ \u001b[22m\u001b[39m                        max(|u|): 0.030448776941667907,\n",
      "\u001b[36m\u001b[1m│ \u001b[22m\u001b[39m                        max(S): 15.500000001134458,\n",
      "\u001b[36m\u001b[1m└ \u001b[22m\u001b[39m                        Δt: 500 ms\n",
      "\u001b[36m\u001b[1m┌ \u001b[22m\u001b[39m\u001b[36m\u001b[1mInfo: \u001b[22m\u001b[39mTime : 55.500 minutes,\n",
      "\u001b[36m\u001b[1m│ \u001b[22m\u001b[39m                        max(|u|): 0.030441550597467237,\n",
      "\u001b[36m\u001b[1m│ \u001b[22m\u001b[39m                        max(S): 15.500000001131571,\n",
      "\u001b[36m\u001b[1m└ \u001b[22m\u001b[39m                        Δt: 500 ms\n",
      "\u001b[36m\u001b[1m┌ \u001b[22m\u001b[39m\u001b[36m\u001b[1mInfo: \u001b[22m\u001b[39mTime : 55.667 minutes,\n",
      "\u001b[36m\u001b[1m│ \u001b[22m\u001b[39m                        max(|u|): 0.030434353164697198,\n",
      "\u001b[36m\u001b[1m│ \u001b[22m\u001b[39m                        max(S): 15.500000001128633,\n",
      "\u001b[36m\u001b[1m└ \u001b[22m\u001b[39m                        Δt: 500 ms\n",
      "\u001b[36m\u001b[1m┌ \u001b[22m\u001b[39m\u001b[36m\u001b[1mInfo: \u001b[22m\u001b[39mTime : 55.833 minutes,\n",
      "\u001b[36m\u001b[1m│ \u001b[22m\u001b[39m                        max(|u|): 0.03042718452089591,\n",
      "\u001b[36m\u001b[1m│ \u001b[22m\u001b[39m                        max(S): 15.50000000112566,\n",
      "\u001b[36m\u001b[1m└ \u001b[22m\u001b[39m                        Δt: 500 ms\n",
      "\u001b[36m\u001b[1m┌ \u001b[22m\u001b[39m\u001b[36m\u001b[1mInfo: \u001b[22m\u001b[39mTime : 56 minutes,\n",
      "\u001b[36m\u001b[1m│ \u001b[22m\u001b[39m                        max(|u|): 0.0304200445441631,\n",
      "\u001b[36m\u001b[1m│ \u001b[22m\u001b[39m                        max(S): 15.500000001122636,\n",
      "\u001b[36m\u001b[1m└ \u001b[22m\u001b[39m                        Δt: 500 ms\n",
      "\u001b[36m\u001b[1m┌ \u001b[22m\u001b[39m\u001b[36m\u001b[1mInfo: \u001b[22m\u001b[39mTime : 56.167 minutes,\n",
      "\u001b[36m\u001b[1m│ \u001b[22m\u001b[39m                        max(|u|): 0.03041293311315639,\n",
      "\u001b[36m\u001b[1m│ \u001b[22m\u001b[39m                        max(S): 15.500000001119561,\n",
      "\u001b[36m\u001b[1m└ \u001b[22m\u001b[39m                        Δt: 500 ms\n",
      "\u001b[36m\u001b[1m┌ \u001b[22m\u001b[39m\u001b[36m\u001b[1mInfo: \u001b[22m\u001b[39mTime : 56.333 minutes,\n",
      "\u001b[36m\u001b[1m│ \u001b[22m\u001b[39m                        max(|u|): 0.030405850107087785,\n",
      "\u001b[36m\u001b[1m│ \u001b[22m\u001b[39m                        max(S): 15.50000000111644,\n",
      "\u001b[36m\u001b[1m└ \u001b[22m\u001b[39m                        Δt: 500 ms\n",
      "\u001b[36m\u001b[1m┌ \u001b[22m\u001b[39m\u001b[36m\u001b[1mInfo: \u001b[22m\u001b[39mTime : 56.500 minutes,\n",
      "\u001b[36m\u001b[1m│ \u001b[22m\u001b[39m                        max(|u|): 0.030398795405720165,\n",
      "\u001b[36m\u001b[1m│ \u001b[22m\u001b[39m                        max(S): 15.500000001113262,\n",
      "\u001b[36m\u001b[1m└ \u001b[22m\u001b[39m                        Δt: 500 ms\n",
      "\u001b[36m\u001b[1m┌ \u001b[22m\u001b[39m\u001b[36m\u001b[1mInfo: \u001b[22m\u001b[39mTime : 56.667 minutes,\n",
      "\u001b[36m\u001b[1m│ \u001b[22m\u001b[39m                        max(|u|): 0.030391768889363777,\n",
      "\u001b[36m\u001b[1m│ \u001b[22m\u001b[39m                        max(S): 15.500000001110049,\n",
      "\u001b[36m\u001b[1m└ \u001b[22m\u001b[39m                        Δt: 500 ms\n",
      "\u001b[36m\u001b[1m┌ \u001b[22m\u001b[39m\u001b[36m\u001b[1mInfo: \u001b[22m\u001b[39mTime : 56.833 minutes,\n",
      "\u001b[36m\u001b[1m│ \u001b[22m\u001b[39m                        max(|u|): 0.030384770438872832,\n",
      "\u001b[36m\u001b[1m│ \u001b[22m\u001b[39m                        max(S): 15.500000001106784,\n",
      "\u001b[36m\u001b[1m└ \u001b[22m\u001b[39m                        Δt: 500 ms\n",
      "\u001b[36m\u001b[1m┌ \u001b[22m\u001b[39m\u001b[36m\u001b[1mInfo: \u001b[22m\u001b[39mTime : 57 minutes,\n",
      "\u001b[36m\u001b[1m│ \u001b[22m\u001b[39m                        max(|u|): 0.030377799935642092,\n",
      "\u001b[36m\u001b[1m│ \u001b[22m\u001b[39m                        max(S): 15.500000001103473,\n",
      "\u001b[36m\u001b[1m└ \u001b[22m\u001b[39m                        Δt: 500 ms\n",
      "\u001b[36m\u001b[1m┌ \u001b[22m\u001b[39m\u001b[36m\u001b[1mInfo: \u001b[22m\u001b[39mTime : 57.167 minutes,\n",
      "\u001b[36m\u001b[1m│ \u001b[22m\u001b[39m                        max(|u|): 0.03037085726160361,\n",
      "\u001b[36m\u001b[1m│ \u001b[22m\u001b[39m                        max(S): 15.500000001100108,\n",
      "\u001b[36m\u001b[1m└ \u001b[22m\u001b[39m                        Δt: 500 ms\n",
      "\u001b[36m\u001b[1m┌ \u001b[22m\u001b[39m\u001b[36m\u001b[1mInfo: \u001b[22m\u001b[39mTime : 57.333 minutes,\n",
      "\u001b[36m\u001b[1m│ \u001b[22m\u001b[39m                        max(|u|): 0.03036394229922336,\n",
      "\u001b[36m\u001b[1m│ \u001b[22m\u001b[39m                        max(S): 15.500000001096693,\n",
      "\u001b[36m\u001b[1m└ \u001b[22m\u001b[39m                        Δt: 500 ms\n",
      "\u001b[36m\u001b[1m┌ \u001b[22m\u001b[39m\u001b[36m\u001b[1mInfo: \u001b[22m\u001b[39mTime : 57.500 minutes,\n",
      "\u001b[36m\u001b[1m│ \u001b[22m\u001b[39m                        max(|u|): 0.030357054931498033,\n",
      "\u001b[36m\u001b[1m│ \u001b[22m\u001b[39m                        max(S): 15.500000001093236,\n",
      "\u001b[36m\u001b[1m└ \u001b[22m\u001b[39m                        Δt: 500 ms\n",
      "\u001b[36m\u001b[1m┌ \u001b[22m\u001b[39m\u001b[36m\u001b[1mInfo: \u001b[22m\u001b[39mTime : 57.667 minutes,\n",
      "\u001b[36m\u001b[1m│ \u001b[22m\u001b[39m                        max(|u|): 0.03035019504195183,\n",
      "\u001b[36m\u001b[1m│ \u001b[22m\u001b[39m                        max(S): 15.500000001089717,\n",
      "\u001b[36m\u001b[1m└ \u001b[22m\u001b[39m                        Δt: 500 ms\n",
      "\u001b[36m\u001b[1m┌ \u001b[22m\u001b[39m\u001b[36m\u001b[1mInfo: \u001b[22m\u001b[39mTime : 57.833 minutes,\n",
      "\u001b[36m\u001b[1m│ \u001b[22m\u001b[39m                        max(|u|): 0.030343362514633293,\n",
      "\u001b[36m\u001b[1m│ \u001b[22m\u001b[39m                        max(S): 15.500000001086148,\n",
      "\u001b[36m\u001b[1m└ \u001b[22m\u001b[39m                        Δt: 500 ms\n",
      "\u001b[36m\u001b[1m┌ \u001b[22m\u001b[39m\u001b[36m\u001b[1mInfo: \u001b[22m\u001b[39mTime : 58 minutes,\n",
      "\u001b[36m\u001b[1m│ \u001b[22m\u001b[39m                        max(|u|): 0.0303365572341122,\n",
      "\u001b[36m\u001b[1m│ \u001b[22m\u001b[39m                        max(S): 15.500000001082531,\n",
      "\u001b[36m\u001b[1m└ \u001b[22m\u001b[39m                        Δt: 500 ms\n",
      "\u001b[36m\u001b[1m┌ \u001b[22m\u001b[39m\u001b[36m\u001b[1mInfo: \u001b[22m\u001b[39mTime : 58.167 minutes,\n",
      "\u001b[36m\u001b[1m│ \u001b[22m\u001b[39m                        max(|u|): 0.03032977908547646,\n",
      "\u001b[36m\u001b[1m│ \u001b[22m\u001b[39m                        max(S): 15.500000001078869,\n",
      "\u001b[36m\u001b[1m└ \u001b[22m\u001b[39m                        Δt: 500 ms\n",
      "\u001b[36m\u001b[1m┌ \u001b[22m\u001b[39m\u001b[36m\u001b[1mInfo: \u001b[22m\u001b[39mTime : 58.333 minutes,\n",
      "\u001b[36m\u001b[1m│ \u001b[22m\u001b[39m                        max(|u|): 0.030323027954329132,\n",
      "\u001b[36m\u001b[1m│ \u001b[22m\u001b[39m                        max(S): 15.50000000107515,\n",
      "\u001b[36m\u001b[1m└ \u001b[22m\u001b[39m                        Δt: 500 ms\n",
      "\u001b[36m\u001b[1m┌ \u001b[22m\u001b[39m\u001b[36m\u001b[1mInfo: \u001b[22m\u001b[39mTime : 58.500 minutes,\n",
      "\u001b[36m\u001b[1m│ \u001b[22m\u001b[39m                        max(|u|): 0.030316303726785385,\n",
      "\u001b[36m\u001b[1m│ \u001b[22m\u001b[39m                        max(S): 15.500000001071378,\n",
      "\u001b[36m\u001b[1m└ \u001b[22m\u001b[39m                        Δt: 500 ms\n",
      "\u001b[36m\u001b[1m┌ \u001b[22m\u001b[39m\u001b[36m\u001b[1mInfo: \u001b[22m\u001b[39mTime : 58.667 minutes,\n",
      "\u001b[36m\u001b[1m│ \u001b[22m\u001b[39m                        max(|u|): 0.030309606289469458,\n",
      "\u001b[36m\u001b[1m│ \u001b[22m\u001b[39m                        max(S): 15.500000001067548,\n",
      "\u001b[36m\u001b[1m└ \u001b[22m\u001b[39m                        Δt: 500 ms\n",
      "\u001b[36m\u001b[1m┌ \u001b[22m\u001b[39m\u001b[36m\u001b[1mInfo: \u001b[22m\u001b[39mTime : 58.833 minutes,\n",
      "\u001b[36m\u001b[1m│ \u001b[22m\u001b[39m                        max(|u|): 0.030302935529511816,\n",
      "\u001b[36m\u001b[1m│ \u001b[22m\u001b[39m                        max(S): 15.500000001063672,\n",
      "\u001b[36m\u001b[1m└ \u001b[22m\u001b[39m                        Δt: 500 ms\n",
      "\u001b[36m\u001b[1m┌ \u001b[22m\u001b[39m\u001b[36m\u001b[1mInfo: \u001b[22m\u001b[39mTime : 59 minutes,\n",
      "\u001b[36m\u001b[1m│ \u001b[22m\u001b[39m                        max(|u|): 0.030296291334546206,\n",
      "\u001b[36m\u001b[1m│ \u001b[22m\u001b[39m                        max(S): 15.500000001059746,\n",
      "\u001b[36m\u001b[1m└ \u001b[22m\u001b[39m                        Δt: 500 ms\n",
      "\u001b[36m\u001b[1m┌ \u001b[22m\u001b[39m\u001b[36m\u001b[1mInfo: \u001b[22m\u001b[39mTime : 59.167 minutes,\n",
      "\u001b[36m\u001b[1m│ \u001b[22m\u001b[39m                        max(|u|): 0.030289673592706845,\n",
      "\u001b[36m\u001b[1m│ \u001b[22m\u001b[39m                        max(S): 15.500000001055763,\n",
      "\u001b[36m\u001b[1m└ \u001b[22m\u001b[39m                        Δt: 500 ms\n",
      "\u001b[36m\u001b[1m┌ \u001b[22m\u001b[39m\u001b[36m\u001b[1mInfo: \u001b[22m\u001b[39mTime : 59.333 minutes,\n",
      "\u001b[36m\u001b[1m│ \u001b[22m\u001b[39m                        max(|u|): 0.03028308219262554,\n",
      "\u001b[36m\u001b[1m│ \u001b[22m\u001b[39m                        max(S): 15.500000001051722,\n",
      "\u001b[36m\u001b[1m└ \u001b[22m\u001b[39m                        Δt: 500 ms\n",
      "\u001b[36m\u001b[1m┌ \u001b[22m\u001b[39m\u001b[36m\u001b[1mInfo: \u001b[22m\u001b[39mTime : 59.500 minutes,\n",
      "\u001b[36m\u001b[1m│ \u001b[22m\u001b[39m                        max(|u|): 0.03027651702342898,\n",
      "\u001b[36m\u001b[1m│ \u001b[22m\u001b[39m                        max(S): 15.500000001047635,\n",
      "\u001b[36m\u001b[1m└ \u001b[22m\u001b[39m                        Δt: 500 ms\n",
      "\u001b[36m\u001b[1m┌ \u001b[22m\u001b[39m\u001b[36m\u001b[1mInfo: \u001b[22m\u001b[39mTime : 59.667 minutes,\n",
      "\u001b[36m\u001b[1m│ \u001b[22m\u001b[39m                        max(|u|): 0.030269977974735858,\n",
      "\u001b[36m\u001b[1m│ \u001b[22m\u001b[39m                        max(S): 15.500000001043485,\n",
      "\u001b[36m\u001b[1m└ \u001b[22m\u001b[39m                        Δt: 500 ms\n",
      "\u001b[36m\u001b[1m┌ \u001b[22m\u001b[39m\u001b[36m\u001b[1mInfo: \u001b[22m\u001b[39mTime : 59.833 minutes,\n",
      "\u001b[36m\u001b[1m│ \u001b[22m\u001b[39m                        max(|u|): 0.030263464936654227,\n",
      "\u001b[36m\u001b[1m│ \u001b[22m\u001b[39m                        max(S): 15.50000000103929,\n",
      "\u001b[36m\u001b[1m└ \u001b[22m\u001b[39m                        Δt: 500 ms\n",
      "\u001b[36m\u001b[1m[ \u001b[22m\u001b[39m\u001b[36m\u001b[1mInfo: \u001b[22m\u001b[39mSimulation is stopping after running for 51.151 minutes.\n",
      "\u001b[36m\u001b[1m[ \u001b[22m\u001b[39m\u001b[36m\u001b[1mInfo: \u001b[22m\u001b[39mSimulation time 1 hour equals or exceeds stop time 1 hour.\n",
      "\u001b[36m\u001b[1m┌ \u001b[22m\u001b[39m\u001b[36m\u001b[1mInfo: \u001b[22m\u001b[39mTime : 1 hour,\n",
      "\u001b[36m\u001b[1m│ \u001b[22m\u001b[39m                        max(|u|): 0.030256977799778758,\n",
      "\u001b[36m\u001b[1m│ \u001b[22m\u001b[39m                        max(S): 15.500000001035025,\n",
      "\u001b[36m\u001b[1m└ \u001b[22m\u001b[39m                        Δt: 500 ms\n"
     ]
    }
   ],
   "source": [
    "run!(simulation, pickup=true)"
   ]
  },
  {
   "cell_type": "code",
   "execution_count": 57,
   "id": "fb90bda8-b8dd-47f9-bbbb-5b10e480e461",
   "metadata": {},
   "outputs": [
    {
     "data": {
      "image/png": "[encoded data removed]",
      "text/html": [
       "<img width=600 height=450 style='object-fit: contain; height: auto;' src=\"data:image/png;base64, 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\"/>"
      ]
     },
     "execution_count": 57,
     "metadata": {},
     "output_type": "execute_result"
    }
   ],
   "source": [
    "heatmap(interior(model.tracers.S, :, :, grid.Nz))"
   ]
  },
  {
   "cell_type": "markdown",
   "id": "e665ead7-b992-4d72-a895-c11d09f86b49",
   "metadata": {},
   "source": [
    "# Visualization"
   ]
  },
  {
   "cell_type": "code",
   "execution_count": null,
   "id": "ee447fc3-81c8-4712-87a7-9a88a3e89e73",
   "metadata": {},
   "outputs": [],
   "source": []
  }
 ],
 "metadata": {
  "kernelspec": {
   "display_name": "Julia 1.10.2",
   "language": "julia",
   "name": "julia-1.10"
  },
  "language_info": {
   "file_extension": ".jl",
   "mimetype": "application/julia",
   "name": "julia",
   "version": "1.10.2"
  }
 },
 "nbformat": 4,
 "nbformat_minor": 5
}
